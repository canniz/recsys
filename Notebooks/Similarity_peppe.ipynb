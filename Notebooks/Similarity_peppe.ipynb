{
 "cells": [
  {
   "cell_type": "code",
   "execution_count": 5,
   "metadata": {
    "collapsed": true
   },
   "outputs": [],
   "source": [
    "import scipy.sparse as sps\n",
    "import numpy as np\n",
    "import pandas as pd\n",
    "import scipy as sc\n",
    "from sklearn.metrics.pairwise import cosine_similarity"
   ]
  },
  {
   "cell_type": "code",
   "execution_count": 35,
   "metadata": {},
   "outputs": [],
   "source": [
    "data = np.genfromtxt('../input/train.csv' , delimiter=',',dtype=int)[1:]\n",
    "test = np.genfromtxt('../input/target_playlists.csv', delimiter = ',', dtype=int)[1:]\n",
    "\n",
    "playlist = data[:,0]\n",
    "song = data[:,1]\n"
   ]
  },
  {
   "cell_type": "code",
   "execution_count": 3,
   "metadata": {
    "collapsed": true
   },
   "outputs": [],
   "source": [
    "unique_playlist = list(set(playlist))\n",
    "unique_songs = list(set(song))\n",
    "\n",
    "num_playlists = len(unique_playlist)\n",
    "num_songs = len(unique_songs)\n"
   ]
  },
  {
   "cell_type": "code",
   "execution_count": 8,
   "metadata": {
    "collapsed": true
   },
   "outputs": [],
   "source": [
    "mat = sps.lil_matrix((num_playlists,num_songs))\n",
    "mat[playlist,song] = 1\n",
    "csr_mat = sc.sparse.csr_matrix(mat)\n"
   ]
  },
  {
   "cell_type": "code",
   "execution_count": 10,
   "metadata": {},
   "outputs": [],
   "source": [
    "similarities = cosine_similarity(csr_mat, dense_output=False)"
   ]
  },
  {
   "cell_type": "code",
   "execution_count": 61,
   "metadata": {},
   "outputs": [
    {
     "data": {
      "text/plain": [
       "array([38413, 38578, 38919, 39092, 39113, 39234, 39404, 39739, 39756,\n",
       "       39826, 40214, 40292, 40387, 40685, 40829, 40967, 41218, 41352,\n",
       "       41644, 42055, 42432, 42746, 42758, 42843, 42873, 43143, 43518,\n",
       "       44085, 44237, 44245, 44572, 44816, 45210, 45232, 45614, 45794,\n",
       "       45821, 47101, 46960, 47105, 47166, 47290, 47411, 47572, 48106,\n",
       "       48447, 48879, 49116, 49011, 49489, 49516, 49626, 49872, 50028,\n",
       "       50112,   418,  2595,  4156,  5459,  8064, 12681, 14080, 13556,\n",
       "       15781, 22020, 31771, 36521, 36602, 40033, 40276, 48291, 47295,\n",
       "       47943,    49,  2424,  2925,  5783,  5979,  6902,  7852,  9141,\n",
       "       11358, 11866, 13941, 15446, 18390, 18613, 20239, 21296, 21312,\n",
       "       23735, 23916, 24315, 25154, 29442, 27547, 30644, 34616, 36802,\n",
       "       37159], dtype=int32)"
      ]
     },
     "execution_count": 61,
     "metadata": {},
     "output_type": "execute_result"
    }
   ],
   "source": [
    "\n",
    "target_row = 7\n",
    "\n",
    "row_start = similarities.indptr[target_row]\n",
    "row_end = similarities.indptr[target_row+1]\n",
    "similarity_vec = similarities.data[row_start:row_end]\n",
    "similarity_vec = np.argsort(similarity_vec)\n",
    "similarity_vec = np.flip(similarity_vec,0)\n",
    "similarity_vec = similarity_vec[:100]\n",
    "similar_playlist = similarities.indices[similarity_vec]\n",
    "similar_playlist"
   ]
  },
  {
   "cell_type": "code",
   "execution_count": 64,
   "metadata": {},
   "outputs": [
    {
     "data": {
      "text/plain": [
       "array([   1, 8248])"
      ]
     },
     "execution_count": 64,
     "metadata": {},
     "output_type": "execute_result"
    }
   ],
   "source": [
    "data[8]"
   ]
  },
  {
   "cell_type": "code",
   "execution_count": null,
   "metadata": {
    "collapsed": true
   },
   "outputs": [],
   "source": []
  }
 ],
 "metadata": {
  "kernelspec": {
   "display_name": "Python 3",
   "language": "python",
   "name": "python3"
  },
  "language_info": {
   "codemirror_mode": {
    "name": "ipython",
    "version": 3
   },
   "file_extension": ".py",
   "mimetype": "text/x-python",
   "name": "python",
   "nbconvert_exporter": "python",
   "pygments_lexer": "ipython3",
   "version": "3.6.3"
  }
 },
 "nbformat": 4,
 "nbformat_minor": 2
}

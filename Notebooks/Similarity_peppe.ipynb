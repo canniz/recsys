{
 "cells": [
  {
   "cell_type": "code",
   "execution_count": 5,
   "metadata": {
    "collapsed": true
   },
   "outputs": [],
   "source": [
    "import scipy.sparse as sps\n",
    "import numpy as np\n",
    "import pandas as pd\n",
    "import scipy as sc\n",
    "from sklearn.metrics.pairwise import cosine_similarity"
   ]
  },
  {
   "cell_type": "code",
   "execution_count": 35,
   "metadata": {},
   "outputs": [],
   "source": [
    "data = np.genfromtxt('../input/train.csv' , delimiter=',',dtype=int)[1:]\n",
    "test = np.genfromtxt('../input/target_playlists.csv', delimiter = ',', dtype=int)[1:]\n",
    "\n",
    "playlist = data[:,0]\n",
    "song = data[:,1]\n"
   ]
  },
  {
   "cell_type": "code",
   "execution_count": 3,
   "metadata": {
    "collapsed": true
   },
   "outputs": [],
   "source": [
    "unique_playlist = list(set(playlist))\n",
    "unique_songs = list(set(song))\n",
    "\n",
    "num_playlists = len(unique_playlist)\n",
    "num_songs = len(unique_songs)\n"
   ]
  },
  {
   "cell_type": "code",
   "execution_count": 8,
   "metadata": {
    "collapsed": true
   },
   "outputs": [],
   "source": [
    "mat = sps.lil_matrix((num_playlists,num_songs))\n",
    "mat[playlist,song] = 1\n",
    "csr_mat = sc.sparse.csr_matrix(mat)\n"
   ]
  },
  {
   "cell_type": "code",
   "execution_count": 10,
   "metadata": {},
   "outputs": [],
   "source": [
    "similarities = cosine_similarity(csr_mat,, dense_output=False)"
   ]
  },
  {
   "cell_type": "code",
   "execution_count": 39,
   "metadata": {},
   "outputs": [
    {
     "data": {
      "text/plain": [
       "array([0.07352146, 0.0766965 , 0.07905694, 0.07071068, 0.12909944,\n",
       "       0.07784989, 0.09534626, 0.06593805, 0.06819943, 0.13483997,\n",
       "       0.11547005, 0.05063697, 0.06666667, 0.07071068, 0.08032193,\n",
       "       0.05725983, 0.06984303, 0.12403473, 0.12909944, 0.08304548,\n",
       "       0.16903085, 0.06666667, 0.0877058 , 0.06454972, 0.06030227,\n",
       "       0.05547002, 0.1       , 0.10846523, 0.07559289, 0.09759001,\n",
       "       0.06984303, 0.06454972, 0.0745356 , 0.10259784, 0.07254763])"
      ]
     },
     "execution_count": 39,
     "metadata": {},
     "output_type": "execute_result"
    }
   ],
   "source": [
    "\n",
    "target_row = 7\n",
    "\n",
    "row_start = csr_mat.indptr[target_row]\n",
    "row_end = csr_mat.indptr[target_row+1]\n",
    "similarity_vec = similarities.data[row_start:row_end]\n",
    "similarity_vec"
   ]
  },
  {
   "cell_type": "code",
   "execution_count": null,
   "metadata": {
    "collapsed": true
   },
   "outputs": [],
   "source": []
  }
 ],
 "metadata": {
  "kernelspec": {
   "display_name": "Python 3",
   "language": "python",
   "name": "python3"
  },
  "language_info": {
   "codemirror_mode": {
    "name": "ipython",
    "version": 3
   },
   "file_extension": ".py",
   "mimetype": "text/x-python",
   "name": "python",
   "nbconvert_exporter": "python",
   "pygments_lexer": "ipython3",
   "version": "3.6.3"
  }
 },
 "nbformat": 4,
 "nbformat_minor": 2
}

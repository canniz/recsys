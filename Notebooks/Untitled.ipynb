{
 "cells": [
  {
   "cell_type": "code",
   "execution_count": 1,
   "metadata": {
    "collapsed": true
   },
   "outputs": [],
   "source": [
    "import numpy as np\n",
    "import pandas as pd\n",
    "import matplotlib.pyplot as plt\n",
    "from scipy import sparse"
   ]
  },
  {
   "cell_type": "code",
   "execution_count": 2,
   "metadata": {
    "collapsed": true
   },
   "outputs": [],
   "source": [
    "tracks = np.genfromtxt('../input/tracks.csv' , delimiter=',',dtype=int)[1:]\n",
    "train = np.genfromtxt('../input/train.csv' , delimiter=',',dtype=int)[1:]\n",
    "target = np.genfromtxt('../input/target_playlists.csv' , delimiter=',',dtype=int)[1:]"
   ]
  },
  {
   "cell_type": "markdown",
   "metadata": {},
   "source": [
    "# SPLITTING DATASET"
   ]
  },
  {
   "cell_type": "code",
   "execution_count": 41,
   "metadata": {},
   "outputs": [],
   "source": [
    "old_key = 0\n",
    "new_train = []\n",
    "temp = []\n",
    "for key, value in train:\n",
    "    if(key == old_key):\n",
    "        temp.append(value)\n",
    "    else:\n",
    "        new_train.append(temp)\n",
    "        old_key = key\n",
    "        temp = []\n",
    "        temp.append(value)\n",
    "new_train.append(temp)"
   ]
  },
  {
   "cell_type": "code",
   "execution_count": 38,
   "metadata": {
    "collapsed": true
   },
   "outputs": [
    {
     "data": {
      "text/plain": [
       "[13465,\n",
       " 7499,\n",
       " 11943,\n",
       " 619,\n",
       " 11633,\n",
       " 19390,\n",
       " 4720,\n",
       " 10848,\n",
       " 17597,\n",
       " 16866,\n",
       " 4202,\n",
       " 2873,\n",
       " 16869,\n",
       " 14338,\n",
       " 11572,\n",
       " 15187,\n",
       " 12278,\n",
       " 3830,\n",
       " 19431,\n",
       " 6491,\n",
       " 10591,\n",
       " 1023,\n",
       " 5606,\n",
       " 10711,\n",
       " 7545,\n",
       " 11647,\n",
       " 5141,\n",
       " 14301,\n",
       " 7077,\n",
       " 9550,\n",
       " 2151,\n",
       " 1111,\n",
       " 7465,\n",
       " 19991,\n",
       " 6472,\n",
       " 12639,\n",
       " 3001,\n",
       " 20605,\n",
       " 2272,\n",
       " 28,\n",
       " 1548,\n",
       " 6971]"
      ]
     },
     "execution_count": 38,
     "metadata": {},
     "output_type": "execute_result"
    }
   ],
   "source": []
  },
  {
   "cell_type": "code",
   "execution_count": null,
   "metadata": {
    "collapsed": true
   },
   "outputs": [],
   "source": []
  }
 ],
 "metadata": {
  "kernelspec": {
   "display_name": "Python 3",
   "language": "python",
   "name": "python3"
  },
  "language_info": {
   "codemirror_mode": {
    "name": "ipython",
    "version": 3
   },
   "file_extension": ".py",
   "mimetype": "text/x-python",
   "name": "python",
   "nbconvert_exporter": "python",
   "pygments_lexer": "ipython3",
   "version": "3.6.3"
  }
 },
 "nbformat": 4,
 "nbformat_minor": 2
}

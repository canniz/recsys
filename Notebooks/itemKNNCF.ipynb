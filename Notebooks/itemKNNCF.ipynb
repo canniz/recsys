{
 "cells": [
  {
   "cell_type": "code",
   "execution_count": 1,
   "metadata": {},
   "outputs": [],
   "source": [
    "import pandas as pd\n",
    "import utils\n",
    "import numpy as np\n",
    "import scipy.sparse as sps\n"
   ]
  },
  {
   "cell_type": "code",
   "execution_count": 2,
   "metadata": {},
   "outputs": [],
   "source": [
    "tracks = pd.read_csv('../input/tracks.csv')\n",
    "train = pd.read_csv('../input/train.csv')\n",
    "target = pd.read_csv('../input/target_playlists.csv')"
   ]
  },
  {
   "cell_type": "code",
   "execution_count": 3,
   "metadata": {},
   "outputs": [
    {
     "name": "stderr",
     "output_type": "stream",
     "text": [
      "/home/antonio/anaconda3/lib/python3.6/site-packages/scipy/sparse/compressed.py:746: SparseEfficiencyWarning: Changing the sparsity structure of a csr_matrix is expensive. lil_matrix is more efficient.\n",
      "  SparseEfficiencyWarning)\n"
     ]
    }
   ],
   "source": [
    "icm_csr = utils.build_icm_csr(tracks)\n",
    "urm_csr = utils.build_urm_csr(train)"
   ]
  },
  {
   "cell_type": "code",
   "execution_count": 4,
   "metadata": {},
   "outputs": [],
   "source": [
    "\n",
    "from Notebooks_utils.data_splitter import train_test_holdout\n",
    "\n",
    "URM_train, URM_test = train_test_holdout(urm_csr, train_perc = 0.8)\n",
    "URM_train, URM_validation = train_test_holdout(URM_train, train_perc = 0.9)"
   ]
  },
  {
   "cell_type": "code",
   "execution_count": 5,
   "metadata": {},
   "outputs": [],
   "source": [
    "from ParameterTuning.AbstractClassSearch import EvaluatorWrapper\n",
    "from Base.Evaluation.Evaluator import SequentialEvaluator\n",
    "\n",
    "evaluator_validation = SequentialEvaluator(URM_validation, cutoff_list=[5])\n",
    "evaluator_test = SequentialEvaluator(URM_test, cutoff_list=[5, 10])\n",
    "\n",
    "evaluator_validation = EvaluatorWrapper(evaluator_validation)\n",
    "evaluator_test = EvaluatorWrapper(evaluator_test)\n"
   ]
  },
  {
   "cell_type": "code",
   "execution_count": 6,
   "metadata": {},
   "outputs": [],
   "source": [
    "from KNN.ItemKNNCFRecommender import ItemKNNCFRecommender\n",
    "from ParameterTuning.BayesianSearch import BayesianSearch\n",
    "\n",
    "\n",
    "recommender_class = ItemKNNCFRecommender\n",
    "\n",
    "parameterSearch = BayesianSearch(recommender_class,\n",
    "                                 evaluator_validation=evaluator_validation,\n",
    "                                 evaluator_test=evaluator_test)\n",
    "\n"
   ]
  },
  {
   "cell_type": "code",
   "execution_count": 7,
   "metadata": {},
   "outputs": [],
   "source": [
    "from ParameterTuning.AbstractClassSearch import DictionaryKeys\n",
    "\n",
    "hyperparamethers_range_dictionary = {}\n",
    "hyperparamethers_range_dictionary[\"topK\"] = [5, 10, 20, 50, 100, 150, 200, 300, 400, 500, 600, 700, 800]\n",
    "hyperparamethers_range_dictionary[\"shrink\"] = [0, 10, 50, 100, 200, 300, 500, 1000]\n",
    "hyperparamethers_range_dictionary[\"similarity\"] = [\"cosine\"]\n",
    "hyperparamethers_range_dictionary[\"normalize\"] = [True, False]\n",
    "\n",
    "\n",
    "recommenderDictionary = {DictionaryKeys.CONSTRUCTOR_POSITIONAL_ARGS: [URM_train],\n",
    "                         DictionaryKeys.CONSTRUCTOR_KEYWORD_ARGS: {},\n",
    "                         DictionaryKeys.FIT_POSITIONAL_ARGS: dict(),\n",
    "                         DictionaryKeys.FIT_KEYWORD_ARGS: dict(),\n",
    "                         DictionaryKeys.FIT_RANGE_KEYWORD_ARGS: hyperparamethers_range_dictionary}\n",
    "\n",
    "output_root_path = \"result_experiments/\"\n",
    "\n",
    "import os\n",
    "\n",
    "# If directory does not exist, create\n",
    "if not os.path.exists(output_root_path):\n",
    "    os.makedirs(output_root_path)\n",
    "    \n",
    "\n",
    "output_root_path += recommender_class.RECOMMENDER_NAME\n",
    "\n"
   ]
  },
  {
   "cell_type": "code",
   "execution_count": 9,
   "metadata": {},
   "outputs": [
    {
     "name": "stdout",
     "output_type": "stream",
     "text": [
      "\u001b[31mInitialization\u001b[0m\n",
      "\u001b[94m----------------------------------------------------------------------------------\u001b[0m\n",
      " Step |   Time |      Value |   normalize |    shrink |   similarity |      topK | \n",
      "BayesianSearch: Testing config: {'topK': 5, 'shrink': 500, 'similarity': 'cosine', 'normalize': False}\n",
      "Similarity column 20635 ( 100 % ), 9571.31 column/sec, elapsed time 0.04 min\n",
      "SequentialEvaluator: Processed 38269 ( 100.00% ) in 14.39 seconds. Users per second: 2660\n",
      "BayesianSearch: New best config found. Config: {'topK': 5, 'shrink': 500, 'similarity': 'cosine', 'normalize': False} - results: {'ROC_AUC': 0.10182741470467831, 'PRECISION': 0.084814514794393628, 'RECALL': 0.08312515555323069, 'RECALL_TEST_LEN': 0.084814514794393628, 'MAP': 0.047570023314489472, 'MRR': 0.095719337671048288, 'NDCG': 0.067464221160742147, 'F1': 0.083961338269418484, 'HIT_RATE': 0.19153884345031227, 'ARHR': 0.10176513627217869, 'NOVELTY': 0.0027682672604753913, 'DIVERSITY_MEAN_INTER_LIST': 0.99081648262717747, 'DIVERSITY_HERFINDAHL': 0.99815811835781876, 'COVERAGE_ITEM': 0.39975769323964139, 'COVERAGE_USER': 0.75861317051897081, 'DIVERSITY_GINI': 0.15200293298555598, 'SHANNON_ENTROPY': 10.329445204266559}\n",
      "\n",
      "BayesianSearch: Saving model in result_experiments/ItemKNNCFRecommender\n",
      "\n",
      "ItemKNNCFRecommender: Saving model in file 'result_experiments/ItemKNNCFRecommender_best_model'\n",
      "ItemKNNCFRecommender: Saving complete\n",
      "ItemKNNCFRecommender: Loading model from file 'result_experiments/ItemKNNCFRecommender_best_model'\n",
      "ItemKNNCFRecommender: Loading complete\n",
      "SequentialEvaluator: Processed 47505 ( 100.00% ) in 27.61 seconds. Users per second: 1720\n",
      "BayesianSearch: Best result evaluated on URM_test. Config: {'topK': 5, 'shrink': 500, 'similarity': 'cosine', 'normalize': False} - results: CUTOFF: 5 - ROC_AUC: 0.1782725, PRECISION: 0.1076725, RECALL: 0.0879843, RECALL_TEST_LEN: 0.1076725, MAP: 0.0660453, MRR: 0.1790776, NDCG: 0.0886279, F1: 0.0968378, HIT_RATE: 0.3934112, ARHR: 0.2084205, NOVELTY: 0.0027955, DIVERSITY_MEAN_INTER_LIST: 0.9918766, DIVERSITY_HERFINDAHL: 0.9983711, COVERAGE_ITEM: 0.4674582, COVERAGE_USER: 0.9417000, DIVERSITY_GINI: 0.1521063, SHANNON_ENTROPY: 10.5362331, \n",
      "CUTOFF: 10 - ROC_AUC: 0.2478181, PRECISION: 0.1367200, RECALL: 0.1334685, RECALL_TEST_LEN: 0.1367200, MAP: 0.0649465, MRR: 0.1930413, NDCG: 0.1121980, F1: 0.1350747, HIT_RATE: 0.6206926, ARHR: 0.2382910, NOVELTY: 0.0057161, DIVERSITY_MEAN_INTER_LIST: 0.9893684, DIVERSITY_HERFINDAHL: 0.9989348, COVERAGE_ITEM: 0.6796705, COVERAGE_USER: 0.9417000, DIVERSITY_GINI: 0.1510813, SHANNON_ENTROPY: 11.1054062, \n",
      "\n",
      "\n",
      "    1 | 00m44s | \u001b[35m   0.04757\u001b[0m | \u001b[32m     0.8437\u001b[0m | \u001b[32m   6.2857\u001b[0m | \u001b[32m      0.0000\u001b[0m | \u001b[32m   0.3324\u001b[0m | \n",
      "BayesianSearch: Testing config: {'topK': 300, 'shrink': 100, 'similarity': 'cosine', 'normalize': True}\n",
      "Similarity column 20635 ( 100 % ), 7092.11 column/sec, elapsed time 0.05 min\n",
      "SequentialEvaluator: Processed 38269 ( 100.00% ) in 22.16 seconds. Users per second: 1727\n",
      "BayesianSearch: New best config found. Config: {'topK': 300, 'shrink': 100, 'similarity': 'cosine', 'normalize': True} - results: {'ROC_AUC': 0.13342174257667236, 'PRECISION': 0.11349003109566348, 'RECALL': 0.11127920671023493, 'RECALL_TEST_LEN': 0.11349003109566348, 'MAP': 0.06377611992300003, 'MRR': 0.12673312602889855, 'NDCG': 0.090169040156071467, 'F1': 0.11237374609733106, 'HIT_RATE': 0.25806788784655987, 'ARHR': 0.13673164528294926, 'NOVELTY': 0.0027365363847241028, 'DIVERSITY_MEAN_INTER_LIST': 0.98926789380745472, 'DIVERSITY_HERFINDAHL': 0.99784840868705049, 'COVERAGE_ITEM': 0.24031984492367336, 'COVERAGE_USER': 0.75861317051897081, 'DIVERSITY_GINI': 0.16456387676709608, 'SHANNON_ENTROPY': 9.9049511750120658}\n",
      "\n",
      "BayesianSearch: Saving model in result_experiments/ItemKNNCFRecommender\n",
      "\n",
      "ItemKNNCFRecommender: Saving model in file 'result_experiments/ItemKNNCFRecommender_best_model'\n",
      "ItemKNNCFRecommender: Saving complete\n",
      "ItemKNNCFRecommender: Loading model from file 'result_experiments/ItemKNNCFRecommender_best_model'\n",
      "ItemKNNCFRecommender: Loading complete\n",
      "SequentialEvaluator: Processed 39001 ( 82.10% ) in 30.27 seconds. Users per second: 1288\n",
      "SequentialEvaluator: Processed 47505 ( 100.00% ) in 36.39 seconds. Users per second: 1305\n",
      "BayesianSearch: Best result evaluated on URM_test. Config: {'topK': 300, 'shrink': 100, 'similarity': 'cosine', 'normalize': True} - results: CUTOFF: 5 - ROC_AUC: 0.2315897, PRECISION: 0.1406498, RECALL: 0.1144859, RECALL_TEST_LEN: 0.1406498, MAP: 0.0897661, MRR: 0.2349598, NDCG: 0.1174624, F1: 0.1262263, HIT_RATE: 0.5217135, ARHR: 0.2810701, NOVELTY: 0.0027534, DIVERSITY_MEAN_INTER_LIST: 0.9901412, DIVERSITY_HERFINDAHL: 0.9980241, COVERAGE_ITEM: 0.2704143, COVERAGE_USER: 0.9417000, DIVERSITY_GINI: 0.1604847, SHANNON_ENTROPY: 10.0332915, \n",
      "CUTOFF: 10 - ROC_AUC: 0.3079813, PRECISION: 0.1777943, RECALL: 0.1735958, RECALL_TEST_LEN: 0.1777943, MAP: 0.0879552, MRR: 0.2505210, NDCG: 0.1479381, F1: 0.1756700, HIT_RATE: 0.8132828, ARHR: 0.3194291, NOVELTY: 0.0055611, DIVERSITY_MEAN_INTER_LIST: 0.9851523, DIVERSITY_HERFINDAHL: 0.9985132, COVERAGE_ITEM: 0.3574994, COVERAGE_USER: 0.9417000, DIVERSITY_GINI: 0.1514634, SHANNON_ENTROPY: 10.3830896, \n",
      "\n",
      "\n",
      "    2 | 01m01s | \u001b[35m   0.06378\u001b[0m | \u001b[32m     0.4117\u001b[0m | \u001b[32m   3.4083\u001b[0m | \u001b[32m      0.0000\u001b[0m | \u001b[32m   7.1583\u001b[0m | \n",
      "BayesianSearch: Testing config: {'topK': 700, 'shrink': 1000, 'similarity': 'cosine', 'normalize': False}\n",
      "Similarity column 20635 ( 100 % ), 9100.08 column/sec, elapsed time 0.04 min\n",
      "SequentialEvaluator: Processed 38269 ( 100.00% ) in 25.56 seconds. Users per second: 1497\n",
      "BayesianSearch: Config is suboptimal. Config: {'topK': 700, 'shrink': 1000, 'similarity': 'cosine', 'normalize': False} - results: {'ROC_AUC': 0.10327767470624606, 'PRECISION': 0.085279643227329061, 'RECALL': 0.083562381971016064, 'RECALL_TEST_LEN': 0.085279643227329061, 'MAP': 0.047835069580541685, 'MRR': 0.09775144372729877, 'NDCG': 0.068160878089378638, 'F1': 0.084412279624609607, 'HIT_RATE': 0.1952755494002979, 'ARHR': 0.1038320834095479, 'NOVELTY': 0.0025981277008800363, 'DIVERSITY_MEAN_INTER_LIST': 0.96902335716197252, 'DIVERSITY_HERFINDAHL': 0.99379960715918558, 'COVERAGE_ITEM': 0.15231402956142476, 'COVERAGE_USER': 0.75861317051897081, 'DIVERSITY_GINI': 0.10491218684500514, 'SHANNON_ENTROPY': 8.4705691470812319}\n",
      "\n",
      "    3 | 00m28s |    0.04784 |      0.5718 |    6.9184 |       0.0000 |   10.9087 | \n",
      "BayesianSearch: Testing config: {'topK': 100, 'shrink': 200, 'similarity': 'cosine', 'normalize': False}\n",
      "Similarity column 20635 ( 100 % ), 9737.53 column/sec, elapsed time 0.04 min\n",
      "SequentialEvaluator: Processed 38269 ( 100.00% ) in 19.64 seconds. Users per second: 1949\n",
      "BayesianSearch: Config is suboptimal. Config: {'topK': 100, 'shrink': 200, 'similarity': 'cosine', 'normalize': False} - results: {'ROC_AUC': 0.11124321687701956, 'PRECISION': 0.092432517181007742, 'RECALL': 0.090540045632941241, 'RECALL_TEST_LEN': 0.092432517181007742, 'MAP': 0.051875756704729499, 'MRR': 0.10548093757349304, 'NDCG': 0.073824528686028817, 'F1': 0.091476494561053001, 'HIT_RATE': 0.21275706185162926, 'ARHR': 0.11287421498689029, 'NOVELTY': 0.0026414599000249839, 'DIVERSITY_MEAN_INTER_LIST': 0.97799639163192065, 'DIVERSITY_HERFINDAHL': 0.99559416715864191, 'COVERAGE_ITEM': 0.20620305306518052, 'COVERAGE_USER': 0.75861317051897081, 'DIVERSITY_GINI': 0.11491962221527584, 'SHANNON_ENTROPY': 9.0187918913146916}\n",
      "\n",
      "    4 | 00m21s |    0.05188 |      0.6626 |    3.5772 |       0.0000 |    3.8970 | \n",
      "BayesianSearch: Testing config: {'topK': 600, 'shrink': 300, 'similarity': 'cosine', 'normalize': False}\n",
      "Similarity column 20635 ( 100 % ), 9142.38 column/sec, elapsed time 0.04 min\n",
      "SequentialEvaluator: Processed 38269 ( 100.00% ) in 25.20 seconds. Users per second: 1518\n",
      "BayesianSearch: Config is suboptimal. Config: {'topK': 600, 'shrink': 300, 'similarity': 'cosine', 'normalize': False} - results: {'ROC_AUC': 0.10369359011210112, 'PRECISION': 0.085779612741383057, 'RECALL': 0.084055196620197489, 'RECALL_TEST_LEN': 0.085779612741383057, 'MAP': 0.048094838874516127, 'MRR': 0.098209168430496319, 'NDCG': 0.068519319716833491, 'F1': 0.084908650259449381, 'HIT_RATE': 0.19626852021218219, 'ARHR': 0.1043533930857872, 'NOVELTY': 0.0026000637283841912, 'DIVERSITY_MEAN_INTER_LIST': 0.96957248466643509, 'DIVERSITY_HERFINDAHL': 0.99390942979024866, 'COVERAGE_ITEM': 0.15338017930700268, 'COVERAGE_USER': 0.75861317051897081, 'DIVERSITY_GINI': 0.10585598403904323, 'SHANNON_ENTROPY': 8.4957276484574216}\n",
      "\n",
      "    5 | 00m27s |    0.04809 |      0.8842 |    5.4926 |       0.0000 |    9.8910 | \n",
      "\u001b[31mBayesian Optimization\u001b[0m\n",
      "\u001b[94m----------------------------------------------------------------------------------\u001b[0m\n",
      " Step |   Time |      Value |   normalize |    shrink |   similarity |      topK | \n",
      "BayesianSearch: Testing config: {'topK': 800, 'shrink': 0, 'similarity': 'cosine', 'normalize': True}\n",
      "Similarity column 20635 ( 100 % ), 6841.32 column/sec, elapsed time 0.05 min\n",
      "SequentialEvaluator: Processed 38269 ( 100.00% ) in 25.48 seconds. Users per second: 1502\n",
      "BayesianSearch: New best config found. Config: {'topK': 800, 'shrink': 0, 'similarity': 'cosine', 'normalize': True} - results: {'ROC_AUC': 0.13613281420122486, 'PRECISION': 0.11713092407257186, 'RECALL': 0.11477048912048497, 'RECALL_TEST_LEN': 0.11713092407257186, 'MAP': 0.065570762235750993, 'MRR': 0.12952084803191183, 'NDCG': 0.092764066340436185, 'F1': 0.11593869361849969, 'HIT_RATE': 0.26844181974966685, 'ARHR': 0.1404831586924099, 'NOVELTY': 0.002966665001429101, 'DIVERSITY_MEAN_INTER_LIST': 0.99296859539500715, 'DIVERSITY_HERFINDAHL': 0.99858852966409439, 'COVERAGE_ITEM': 0.53830869881269683, 'COVERAGE_USER': 0.75861317051897081, 'DIVERSITY_GINI': 0.19066650294275295, 'SHANNON_ENTROPY': 10.988986803371063}\n",
      "\n",
      "BayesianSearch: Saving model in result_experiments/ItemKNNCFRecommender\n",
      "\n",
      "ItemKNNCFRecommender: Saving model in file 'result_experiments/ItemKNNCFRecommender_best_model'\n",
      "ItemKNNCFRecommender: Saving complete\n",
      "ItemKNNCFRecommender: Loading model from file 'result_experiments/ItemKNNCFRecommender_best_model'\n",
      "ItemKNNCFRecommender: Loading complete\n",
      "SequentialEvaluator: Processed 35001 ( 73.68% ) in 30.27 seconds. Users per second: 1156\n",
      "SequentialEvaluator: Processed 47505 ( 100.00% ) in 40.35 seconds. Users per second: 1177\n",
      "BayesianSearch: Best result evaluated on URM_test. Config: {'topK': 800, 'shrink': 0, 'similarity': 'cosine', 'normalize': True} - results: CUTOFF: 5 - ROC_AUC: 0.2313949, PRECISION: 0.1457657, RECALL: 0.1183273, RECALL_TEST_LEN: 0.1457657, MAP: 0.0922212, MRR: 0.2367845, NDCG: 0.1201130, F1: 0.1306211, HIT_RATE: 0.5428481, ARHR: 0.2873171, NOVELTY: 0.0030107, DIVERSITY_MEAN_INTER_LIST: 0.9937861, DIVERSITY_HERFINDAHL: 0.9987530, COVERAGE_ITEM: 0.6031500, COVERAGE_USER: 0.9417000, DIVERSITY_GINI: 0.1944426, SHANNON_ENTROPY: 11.1873969, \n",
      "CUTOFF: 10 - ROC_AUC: 0.3103662, PRECISION: 0.1831297, RECALL: 0.1787348, RECALL_TEST_LEN: 0.1831297, MAP: 0.0903902, MRR: 0.2524210, NDCG: 0.1516049, F1: 0.1809056, HIT_RATE: 0.8478476, ARHR: 0.3274836, NOVELTY: 0.0060510, DIVERSITY_MEAN_INTER_LIST: 0.9904530, DIVERSITY_HERFINDAHL: 0.9990432, COVERAGE_ITEM: 0.7490671, COVERAGE_USER: 0.9417000, DIVERSITY_GINI: 0.1836650, SHANNON_ENTROPY: 11.4749307, \n",
      "\n",
      "\n",
      "    6 | 01m11s | \u001b[35m   0.06557\u001b[0m | \u001b[32m     0.0000\u001b[0m | \u001b[32m   0.0000\u001b[0m | \u001b[32m      0.0000\u001b[0m | \u001b[32m  12.0000\u001b[0m | \n",
      "BayesianSearch: Testing config: {'topK': 100, 'shrink': 1000, 'similarity': 'cosine', 'normalize': True}\n",
      "Similarity column 20635 ( 100 % ), 7078.05 column/sec, elapsed time 0.05 min\n",
      "SequentialEvaluator: Processed 38269 ( 100.00% ) in 17.72 seconds. Users per second: 2160\n",
      "BayesianSearch: Config is suboptimal. Config: {'topK': 100, 'shrink': 1000, 'similarity': 'cosine', 'normalize': True} - results: {'ROC_AUC': 0.12013858040014985, 'PRECISION': 0.099770919891643842, 'RECALL': 0.097724209630061037, 'RECALL_TEST_LEN': 0.099770919891643842, 'MAP': 0.056066558078629508, 'MRR': 0.11394557823129192, 'NDCG': 0.079694055442701778, 'F1': 0.098736959378063968, 'HIT_RATE': 0.22906268781520289, 'ARHR': 0.12215805656449313, 'NOVELTY': 0.0026733699092150696, 'DIVERSITY_MEAN_INTER_LIST': 0.98387811157505511, 'DIVERSITY_HERFINDAHL': 0.99677048040844662, 'COVERAGE_ITEM': 0.21676762781681608, 'COVERAGE_USER': 0.75861317051897081, 'DIVERSITY_GINI': 0.1316077995879649, 'SHANNON_ENTROPY': 9.3710658375125746}\n",
      "\n",
      "    7 | 00m24s |    0.05607 |      0.0061 |    6.9486 |       0.0000 |    4.3575 | \n",
      "BayesianSearch: Testing config: {'topK': 5, 'shrink': 0, 'similarity': 'cosine', 'normalize': True}\n",
      "Similarity column 20635 ( 100 % ), 7752.97 column/sec, elapsed time 0.04 min\n",
      "SequentialEvaluator: Processed 38269 ( 100.00% ) in 12.67 seconds. Users per second: 3020\n",
      "BayesianSearch: Config is suboptimal. Config: {'topK': 5, 'shrink': 0, 'similarity': 'cosine', 'normalize': True} - results: {'ROC_AUC': 0.11370386823103128, 'PRECISION': 0.098007525673521306, 'RECALL': 0.096150915102939757, 'RECALL_TEST_LEN': 0.098007525673521306, 'MAP': 0.054306589900150297, 'MRR': 0.10730007752140591, 'NDCG': 0.077090468351992805, 'F1': 0.097070343610077062, 'HIT_RATE': 0.22130183699600198, 'ARHR': 0.11550297455729949, 'NOVELTY': 0.0031986790888094861, 'DIVERSITY_MEAN_INTER_LIST': 0.99760886965866613, 'DIVERSITY_HERFINDAHL': 0.99951656026600033, 'COVERAGE_ITEM': 0.62936757935546406, 'COVERAGE_USER': 0.75861317051897081, 'DIVERSITY_GINI': 0.29854698849728467, 'SHANNON_ENTROPY': 12.161931522962131}\n",
      "\n",
      "    8 | 00m19s |    0.05431 |      0.0000 |    0.0000 |       0.0000 |    0.0000 | \n",
      "BayesianSearch: Testing config: {'topK': 300, 'shrink': 0, 'similarity': 'cosine', 'normalize': True}\n",
      "Similarity column 20635 ( 100 % ), 7138.60 column/sec, elapsed time 0.05 min\n",
      "SequentialEvaluator: Processed 38269 ( 100.00% ) in 23.50 seconds. Users per second: 1629\n",
      "BayesianSearch: Config is suboptimal. Config: {'topK': 300, 'shrink': 0, 'similarity': 'cosine', 'normalize': True} - results: {'ROC_AUC': 0.13558624474117426, 'PRECISION': 0.11700985131568427, 'RECALL': 0.11464093516211403, 'RECALL_TEST_LEN': 0.11700985131568427, 'MAP': 0.065038949425266057, 'MRR': 0.12894901878805054, 'NDCG': 0.092336041238050406, 'F1': 0.11581328068830528, 'HIT_RATE': 0.26878152029057462, 'ARHR': 0.13994312193506936, 'NOVELTY': 0.0030005040887322639, 'DIVERSITY_MEAN_INTER_LIST': 0.9938841993957257, 'DIVERSITY_HERFINDAHL': 0.99877164567914312, 'COVERAGE_ITEM': 0.56157014780712378, 'COVERAGE_USER': 0.75861317051897081, 'DIVERSITY_GINI': 0.20157877944202415, 'SHANNON_ENTROPY': 11.166534963321864}\n",
      "\n",
      "    9 | 00m32s |    0.06504 |      0.0000 |    0.0000 |       0.0000 |    7.4803 | \n",
      "BayesianSearch: Testing config: {'topK': 800, 'shrink': 100, 'similarity': 'cosine', 'normalize': True}\n",
      "Similarity column 20635 ( 100 % ), 6649.71 column/sec, elapsed time 0.05 min\n",
      "SequentialEvaluator: Processed 38269 ( 100.00% ) in 24.80 seconds. Users per second: 1543\n",
      "BayesianSearch: Config is suboptimal. Config: {'topK': 800, 'shrink': 100, 'similarity': 'cosine', 'normalize': True} - results: {'ROC_AUC': 0.13044065257344947, 'PRECISION': 0.11158335293144032, 'RECALL': 0.10939890256569633, 'RECALL_TEST_LEN': 0.11158335293144032, 'MAP': 0.062434251976504332, 'MRR': 0.12419887289102356, 'NDCG': 0.088453286660998151, 'F1': 0.11048033090112538, 'HIT_RATE': 0.25383469649063212, 'ARHR': 0.13380151036086271, 'NOVELTY': 0.0027157696977979538, 'DIVERSITY_MEAN_INTER_LIST': 0.98752737941265156, 'DIVERSITY_HERFINDAHL': 0.99750031490430036, 'COVERAGE_ITEM': 0.2250545190210807, 'COVERAGE_USER': 0.75861317051897081, 'DIVERSITY_GINI': 0.15618062392781754, 'SHANNON_ENTROPY': 9.7134020681301472}\n",
      "\n",
      "   10 | 00m35s |    0.06243 |      0.0000 |    3.1936 |       0.0000 |   11.8457 | \n",
      "BayesianSearch: Best config is: Config {'topK': 800, 'shrink': 0, 'similarity': 'cosine', 'normalize': True}, MAP value is 0.0656\n",
      "\n"
     ]
    }
   ],
   "source": [
    "n_cases = 5\n",
    "metric_to_optimize = \"MAP\"\n",
    "\n",
    "best_parameters = parameterSearch.search(recommenderDictionary,\n",
    "                                         n_cases = n_cases,\n",
    "                                         output_root_path = output_root_path,\n",
    "                                         metric=metric_to_optimize)"
   ]
  },
  {
   "cell_type": "code",
   "execution_count": 10,
   "metadata": {},
   "outputs": [
    {
     "data": {
      "text/plain": [
       "{'topK': 800, 'shrink': 0, 'similarity': 'cosine', 'normalize': True}"
      ]
     },
     "execution_count": 10,
     "metadata": {},
     "output_type": "execute_result"
    }
   ],
   "source": [
    "best_parameters"
   ]
  },
  {
   "cell_type": "code",
   "execution_count": 13,
   "metadata": {},
   "outputs": [
    {
     "name": "stdout",
     "output_type": "stream",
     "text": [
      "Similarity column 20635 ( 100 % ), 5955.92 column/sec, elapsed time 0.06 min\n"
     ]
    }
   ],
   "source": [
    "itemKNNCF = ItemKNNCFRecommender(urm_csr)\n",
    "itemKNNCF.fit(**best_parameters)"
   ]
  },
  {
   "cell_type": "code",
   "execution_count": 12,
   "metadata": {},
   "outputs": [
    {
     "name": "stdout",
     "output_type": "stream",
     "text": [
      "SequentialEvaluator: Processed 34877 ( 73.42% ) in 30.00 seconds. Users per second: 1163\n",
      "SequentialEvaluator: Processed 47505 ( 100.00% ) in 40.32 seconds. Users per second: 1178\n"
     ]
    },
    {
     "data": {
      "text/plain": [
       "({5: {'ROC_AUC': 0.23139494088341492,\n",
       "   'PRECISION': 0.14576570887272647,\n",
       "   'RECALL': 0.11832730370407955,\n",
       "   'RECALL_TEST_LEN': 0.14576570887272647,\n",
       "   'MAP': 0.092221158006757106,\n",
       "   'MRR': 0.23678454899485046,\n",
       "   'NDCG': 0.12011304590762847,\n",
       "   'F1': 0.13062112575513374,\n",
       "   'HIT_RATE': 0.54284812125039472,\n",
       "   'ARHR': 0.28731712451323527,\n",
       "   'NOVELTY': 0.0030106579326326767,\n",
       "   'DIVERSITY_MEAN_INTER_LIST': 0.99378614876262861,\n",
       "   'DIVERSITY_HERFINDAHL': 0.99875304583020696,\n",
       "   'COVERAGE_ITEM': 0.60314998788466201,\n",
       "   'COVERAGE_USER': 0.94170003568171912,\n",
       "   'DIVERSITY_GINI': 0.19444261346247232,\n",
       "   'SHANNON_ENTROPY': 11.187396920219596},\n",
       "  10: {'ROC_AUC': 0.31036617198188654,\n",
       "   'PRECISION': 0.18312969562101325,\n",
       "   'RECALL': 0.17873479378393692,\n",
       "   'RECALL_TEST_LEN': 0.18312969562101325,\n",
       "   'MAP': 0.090390184137175061,\n",
       "   'MRR': 0.25242103170427643,\n",
       "   'NDCG': 0.15160492511658075,\n",
       "   'F1': 0.18090555631120836,\n",
       "   'HIT_RATE': 0.84784759499000106,\n",
       "   'ARHR': 0.32748355645105287,\n",
       "   'NOVELTY': 0.0060509520186726356,\n",
       "   'DIVERSITY_MEAN_INTER_LIST': 0.99045299108576224,\n",
       "   'DIVERSITY_HERFINDAHL': 0.99904321416385233,\n",
       "   'COVERAGE_ITEM': 0.74906711897261935,\n",
       "   'COVERAGE_USER': 0.94170003568171912,\n",
       "   'DIVERSITY_GINI': 0.18366499286038479,\n",
       "   'SHANNON_ENTROPY': 11.47493068711055}},\n",
       " 'CUTOFF: 5 - ROC_AUC: 0.2313949, PRECISION: 0.1457657, RECALL: 0.1183273, RECALL_TEST_LEN: 0.1457657, MAP: 0.0922212, MRR: 0.2367845, NDCG: 0.1201130, F1: 0.1306211, HIT_RATE: 0.5428481, ARHR: 0.2873171, NOVELTY: 0.0030107, DIVERSITY_MEAN_INTER_LIST: 0.9937861, DIVERSITY_HERFINDAHL: 0.9987530, COVERAGE_ITEM: 0.6031500, COVERAGE_USER: 0.9417000, DIVERSITY_GINI: 0.1944426, SHANNON_ENTROPY: 11.1873969, \\nCUTOFF: 10 - ROC_AUC: 0.3103662, PRECISION: 0.1831297, RECALL: 0.1787348, RECALL_TEST_LEN: 0.1831297, MAP: 0.0903902, MRR: 0.2524210, NDCG: 0.1516049, F1: 0.1809056, HIT_RATE: 0.8478476, ARHR: 0.3274836, NOVELTY: 0.0060510, DIVERSITY_MEAN_INTER_LIST: 0.9904530, DIVERSITY_HERFINDAHL: 0.9990432, COVERAGE_ITEM: 0.7490671, COVERAGE_USER: 0.9417000, DIVERSITY_GINI: 0.1836650, SHANNON_ENTROPY: 11.4749307, \\n')"
      ]
     },
     "execution_count": 12,
     "metadata": {},
     "output_type": "execute_result"
    }
   ],
   "source": [
    "evaluator_test.evaluateRecommender(itemKNNCF)"
   ]
  },
  {
   "cell_type": "code",
   "execution_count": 14,
   "metadata": {},
   "outputs": [],
   "source": [
    "target = target.get_values()[:,0]"
   ]
  },
  {
   "cell_type": "code",
   "execution_count": 15,
   "metadata": {},
   "outputs": [],
   "source": [
    "n = 500\n",
    "  \n",
    "# using list comprehension \n",
    "divided_target = [target[i * n:(i + 1) * n] for i in range((len(target) + n - 1) // n )]  "
   ]
  },
  {
   "cell_type": "code",
   "execution_count": 17,
   "metadata": {},
   "outputs": [],
   "source": [
    "result = []\n",
    "for items in target:\n",
    "    partial_recomendations = itemKNNCF.recommend(items,cutoff=10)\n",
    "    result.append(partial_recomendations)"
   ]
  },
  {
   "cell_type": "code",
   "execution_count": 18,
   "metadata": {},
   "outputs": [],
   "source": [
    "result = np.array(result)"
   ]
  },
  {
   "cell_type": "code",
   "execution_count": 19,
   "metadata": {},
   "outputs": [
    {
     "data": {
      "text/plain": [
       "array([[17154,  5924,  8749, ...,  4189, 10100, 11233],\n",
       "       [ 4202,  7545, 19134, ...,  1422,  2018,  1111],\n",
       "       [ 8001,  2159, 12075, ...,  3903,  8138, 18361],\n",
       "       ..., \n",
       "       [12466, 18956,  4986, ...,  3102,   932,  4552],\n",
       "       [14907, 10521,  4774, ..., 12075,  8880, 18404],\n",
       "       [ 6492, 19152, 20488, ...,  1593, 15865, 18254]])"
      ]
     },
     "execution_count": 19,
     "metadata": {},
     "output_type": "execute_result"
    }
   ],
   "source": [
    "result.reshape(-1,10)"
   ]
  },
  {
   "cell_type": "code",
   "execution_count": 20,
   "metadata": {},
   "outputs": [],
   "source": [
    "result = result.reshape(-1,10)"
   ]
  },
  {
   "cell_type": "code",
   "execution_count": 21,
   "metadata": {},
   "outputs": [
    {
     "data": {
      "text/plain": [
       "(10000, 10)"
      ]
     },
     "execution_count": 21,
     "metadata": {},
     "output_type": "execute_result"
    }
   ],
   "source": [
    "result.shape"
   ]
  },
  {
   "cell_type": "code",
   "execution_count": 22,
   "metadata": {},
   "outputs": [],
   "source": [
    "i = 0\n",
    "results = []\n",
    "for item in result:\n",
    "    recommended_items = \" \".join(str(i) for i in item)\n",
    "    temp = [target[i],recommended_items]\n",
    "    results.append(temp)\n",
    "    i += 1"
   ]
  },
  {
   "cell_type": "code",
   "execution_count": 23,
   "metadata": {},
   "outputs": [],
   "source": [
    "rec = pd.DataFrame(results)\n",
    "rec.to_csv(\"itemKNNCF_submission.csv\", index = False, header = [\"playlist_id\", \"track_ids\"])"
   ]
  },
  {
   "cell_type": "code",
   "execution_count": null,
   "metadata": {},
   "outputs": [],
   "source": []
  }
 ],
 "metadata": {
  "kernelspec": {
   "display_name": "Python 3",
   "language": "python",
   "name": "python3"
  },
  "language_info": {
   "codemirror_mode": {
    "name": "ipython",
    "version": 3
   },
   "file_extension": ".py",
   "mimetype": "text/x-python",
   "name": "python",
   "nbconvert_exporter": "python",
   "pygments_lexer": "ipython3",
   "version": "3.6.6"
  }
 },
 "nbformat": 4,
 "nbformat_minor": 2
}

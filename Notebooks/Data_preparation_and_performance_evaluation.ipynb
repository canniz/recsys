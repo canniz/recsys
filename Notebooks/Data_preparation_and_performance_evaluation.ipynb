﻿{
 "cells": [
  {
   "cell_type": "code",
   "execution_count": 17,
   "metadata": {
    "collapsed": true
   },
   "outputs": [],
   "source": [
    "import numpy as np\n",
    "import pandas as pd\n",
    "import matplotlib.pyplot as plt\n",
    "from scipy import sparse\n",
    "import random\n",
    "import matplotlib.pyplot as plt\n",
    "\n",
    "from sklearn.metrics.pairwise import cosine_similarity\n",
    "TEST_SET_THRESHOLD = 20\n",
    "TEST_SET_HOLDOUT = 0.2"
   ]
  },
  {
   "cell_type": "code",
   "execution_count": 6,
   "metadata": {},
   "outputs": [],
   "source": [
    "tracks = pd.read_csv('../input/tracks.csv')\n",
    "train = pd.read_csv('../input/train.csv')\n",
    "target = pd.read_csv('../input/target_playlists.csv')"
   ]
  },
  {
   "cell_type": "markdown",
   "metadata": {},
   "source": [
    "# SPLITTING DATASET"
   ]
  },
  {
   "cell_type": "code",
   "execution_count": 7,
   "metadata": {
    "collapsed": true
   },
   "outputs": [],
   "source": [
    "def build_urm_csr(data):\n",
    "    fill_data = np.ones(data.shape[0])\n",
    "    #posso usare gli id direttamente solo perchè come già detto sono consistenti\n",
    "    row = data['playlist_id'].values\n",
    "    col = data['track_id'].values\n",
    "    n_pl = np.amax(data['playlist_id']) + 1\n",
    "    n_tr = np.amax(data['track_id']) + 1\n",
    "    \n",
    "    return sparse.csr_matrix((fill_data, (row, col)), dtype=np.int32, shape=(n_pl, n_tr))\n",
    "\n",
    "def build_icm_csr(data):\n",
    "    albums_id = data['album_id']\n",
    "    artists_id = data['artist_id']\n",
    "    durations = data['duration_sec']\n",
    "    tracks = data['track_id']\n",
    "    \n",
    "    albums_max = np.amax(albums_id)\n",
    "    artists_max = np.amax(artists_id)\n",
    "    durations_max = np.amax(durations)\n",
    "    number_of_songs = data.shape[0]\n",
    "    \n",
    "    icm_csr_matrix = sparse.csr_matrix((number_of_songs, albums_max + artists_max + durations_max + 3), dtype=np.uint32)\n",
    "    \n",
    "    icm_csr_matrix[tracks,albums_id] = 1\n",
    "    icm_csr_matrix[tracks, albums_max + artists_id] = 1\n",
    "    icm_csr_matrix[tracks, albums_max + artists_max + durations] = 1\n",
    "    \n",
    "    return icm_csr_matrix"
   ]
  },
  {
   "cell_type": "code",
   "execution_count": 8,
   "metadata": {
    "collapsed": true
   },
   "outputs": [],
   "source": [
    "#Raggruppiamo per playlist_id, le celle conterranno il count() del gruppo, quindi il numero di canzoni per playlist\n",
    "grouped = train.groupby('playlist_id')['track_id'].nunique()\n",
    "\n",
    "#Prendiamo le playlist che superano il numero di elementi del TEST_SET_THRESHOLD\n",
    "clipped = grouped.index[grouped>TEST_SET_THRESHOLD].tolist()\n",
    "\n",
    "#Adesso prendiamo a caso degli indici di playlist in percentuale di TEST_SET_HOLDOUT\n",
    "#ATTENZIONE, la percentuale viene calcolata sulla lunghezza di clipped, che avrà un numero di elementi inferiore a train\n",
    "#Questo significa che il 20% di clipped sarà circa il 14% del train, la percentuale è da aggiustare tenendo conto di sto fatto\n",
    "test_set_indices = [ clipped[i] for i in sorted(random.sample(range(len(clipped)), int(TEST_SET_HOLDOUT*len(clipped)))) ]\n",
    "\n",
    "#Andiamo a estrarre dal train TUTTE le canzoni delle playlist estratte a sorte nella riga prima\n",
    "test_groups = train.loc[train['playlist_id'].isin(test_set_indices)]\n",
    "\n",
    "#Andiamo a creare un dataframe vuoto, a cui appenderemo tutte le canzoni da ficcare nel test_set con una .append()\n",
    "test_set = pd.DataFrame(columns=[\"playlist_id\",\"track_id\"])\n",
    "\n",
    "#Per ogni gruppo prendiamo le ultime 10 canzoni e le appendiamo al test_set\n",
    "for name, group in test_groups.groupby('playlist_id'):\n",
    "    test_set = test_set.append(group.tail(10))\n",
    "    \n",
    "#Togliamo le canzoni del test set al train, salvandolo in una nuova variabile \n",
    "#Questo è solo un trick per fare la differenza insiemistica\n",
    "training_set = pd.concat([train, test_set, test_set]).drop_duplicates(keep=False)\n",
    "\n",
    "#Ora passiamo training_set e test_set a csr_matrix\n",
    "training_set_csr = build_urm_csr(training_set)\n",
    "test_set_csr = build_urm_csr(test_set)\n",
    "test_set_playlists = test_set['playlist_id'].unique()"
   ]
  },
  {
   "cell_type": "code",
<<<<<<< HEAD
   "execution_count": 9,
   "metadata": {
    "collapsed": true
   },
   "outputs": [
    {
     "data": {
      "image/png": "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\n",
      "text/plain": [
       "<Figure size 432x288 with 1 Axes>"
      ]
     },
     "metadata": {
      "needs_background": "light"
     },
     "output_type": "display_data"
    }
   ],
   "source": [
    "artists = tracks['artist_id'].value_counts()\n",
    "plt.scatter(range(artists.size), artists)\n",
    "plt.show()"
   ]
  },
  {
   "cell_type": "code",
   "execution_count": 10,
   "metadata": {
    "collapsed": true
   },
   "outputs": [
    {
     "data": {
      "image/png": "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\n",
      "text/plain": [
       "<Figure size 432x288 with 1 Axes>"
      ]
     },
     "metadata": {
      "needs_background": "light"
     },
     "output_type": "display_data"
    }
   ],
   "source": [
    "albums = tracks['album_id'].value_counts()\n",
    "plt.scatter(range(albums.size), albums)\n",
    "plt.show()"
   ]
  },
  {
   "cell_type": "code",
   "execution_count": 11,

   "metadata": {},
   "outputs": [],
   "source": [
    "def classify_durations(data):\n",
    "    data.loc[tracks['duration_sec'].isin(range(60)),'duration_sec'] = 1\n",
    "    data.loc[tracks['duration_sec'].isin(range(60,120)), 'duration_sec'] = 2\n",
    "    data.loc[tracks['duration_sec'].isin(range(120,180)), 'duration_sec'] = 3\n",
    "    data.loc[tracks['duration_sec'].isin(range(180,240)), 'duration_sec'] = 4\n",
    "    data.loc[tracks['duration_sec'].isin(range(240,300)), 'duration_sec'] = 5\n",
    "    data.loc[tracks['duration_sec'].isin(range(300,200000)), 'duration_sec'] = 6\n",
    "\n",
    "    data['duration_sec'].value_counts()\n",
    "\n"
   ]
  },
  {
   "cell_type": "markdown",
   "metadata": {},
   "source": [
    "# ALGORITHM"
   ]
  },
  {
   "cell_type": "code",
   "execution_count": 12,
   "metadata": {},
   "outputs": [],
   "source": [
    "class TopPopRecommender(object):\n",
    "\n",
    "    def fit(self, train):\n",
    "        \n",
    "        self.train = train\n",
    "\n",
    "        itemPopularity = (train>0).sum(axis=0)\n",
    "        itemPopularity = np.array(itemPopularity).squeeze()\n",
    "\n",
    "        # We are not interested in sorting the popularity value,\n",
    "        # but to order the items according to it\n",
    "        self.popularItems = np.argsort(itemPopularity)\n",
    "        self.popularItems = np.flip(self.popularItems, axis = 0)\n",
    "    \n",
    "    \n",
    "    def recommend(self, user_id, at=10, remove_seen=True):\n",
    "\n",
    "        if remove_seen:\n",
    "            unseen_items_mask = np.in1d(self.popularItems, self.train[user_id].indices,\n",
    "                                        assume_unique=True, invert = True)\n",
    "\n",
    "            unseen_items = self.popularItems[unseen_items_mask]\n",
    "\n",
    "            recommended_items = unseen_items[0:at]\n",
    "\n",
    "        else:\n",
    "            recommended_items = self.popularItems[0:at]\n",
    "            \n",
    "        #recommended_items = \" \".join(str(i) for i in recommended_items)\n",
    "        return recommended_items"
   ]
  },
  {
   "cell_type": "code",
   "execution_count": 33,
   "metadata": {},
   "outputs": [],
   "source": [
    "class UserBasedCollaborativeFilteringRecommender(object):\n",
    "    \n",
    "    def fit(self, URM_csr):\n",
    "        self.URM_csr = URM_csr\n",
    "        self.similarities = cosine_similarity(URM_csr, dense_output=False)\n",
    "        \n",
    "    \n",
    "    def recommend(self, user_id, at=10, remove_seen=True):\n",
    "        \n",
    "        sim = np.array(self.similarities.getrow(user_id).todense())[0]\n",
    "        itemPopularity = self.URM_csr.transpose().dot(sim)\n",
    "        self.popularItems = np.argsort(itemPopularity)\n",
    "        self.popularItems = np.flip(self.popularItems, axis = 0)\n",
    "        \n",
    "        if remove_seen:\n",
    "            unseen_items_mask = np.in1d(self.popularItems, self.URM_csr[user_id].indices,\n",
    "                                        assume_unique=True, invert = True)\n",
    "\n",
    "            unseen_items = self.popularItems[unseen_items_mask]\n",
    "\n",
    "            recommended_items = unseen_items[0:at]\n",
    "\n",
    "        else:\n",
    "            recommended_items = self.popularItems[0:at]\n",
    "            \n",
    "        recommended_items = \" \".join(str(i) for i in recommended_items)\n",
    "        return recommended_items"
   ]
  },
  {
   "cell_type": "markdown",
   "metadata": {},
   "source": [
    "# EVALUATION METHODS"
   ]
  },
  {
   "cell_type": "code",
   "execution_count": 22,
   "metadata": {
    "collapsed": true
   },
   "outputs": [],
   "source": [
    "def precision(recommended_items, relevant_items):\n",
    "    \n",
    "    is_relevant = np.in1d(recommended_items, relevant_items, assume_unique=True)\n",
    "    \n",
    "    precision_score = np.sum(is_relevant, dtype=np.float32) / len(is_relevant)\n",
    "    \n",
    "    return precision_score\n",
    "\n",
    "def recall(recommended_items, relevant_items):\n",
    "    \n",
    "    is_relevant = np.in1d(recommended_items, relevant_items, assume_unique=True)\n",
    "    \n",
    "    recall_score = np.sum(is_relevant, dtype=np.float32) / relevant_items.shape[0]\n",
    "    \n",
    "    return recall_score\n",
    "\n",
    "def MAP(recommended_items, relevant_items):\n",
    "       \n",
    "    is_relevant = np.in1d(recommended_items, relevant_items, assume_unique=True)\n",
    "    \n",
    "    # Cumulative sum: precision at 1, at 2, at 3 ...\n",
    "    p_at_k = is_relevant * np.cumsum(is_relevant, dtype=np.float32) / (1 + np.arange(is_relevant.shape[0]))\n",
    "    \n",
    "    map_score = np.sum(p_at_k) / np.min([relevant_items.shape[0], is_relevant.shape[0]])\n",
    "\n",
    "    return map_score\n",
    "\n",
    "\n",
    "def evaluate_algorithm(URM_test, recommender_object, target_playlists, at=10):\n",
    "    \n",
    "    \n",
    "    cumulative_precision = 0.0\n",
    "    cumulative_recall = 0.0\n",
    "    cumulative_MAP = 0.0\n",
    "    \n",
    "    num_eval = 0\n",
    "\n",
    "\n",
    "    for user_id in target_playlists:\n",
    "    \n",
    "        target_items = URM_test.getrow(user_id).indices\n",
    "        \n",
    "        recommended_items = recommender_object.recommend(user_id, at=at)\n",
    "        num_eval+=1\n",
    "        \n",
    "        cumulative_precision += precision(recommended_items, target_items)\n",
    "        cumulative_recall += recall(recommended_items, target_items)\n",
    "        cumulative_MAP += MAP(recommended_items, target_items)\n",
    "\n",
    "\n",
    "    cumulative_precision /= num_eval\n",
    "    cumulative_recall /= num_eval\n",
    "    cumulative_MAP /= num_eval\n",
    "    \n",
    "    print(\"Recommender performance is: Precision = {:.6f}, Recall = {:.6f}, MAP = {:.6f}\".format(\n",
    "        cumulative_precision, cumulative_recall, cumulative_MAP)) "
   ]
  },
  {
   "cell_type": "markdown",
   "metadata": {},
   "source": [
    "# Testing algorithm"
   ]
  },
  {
   "cell_type": "code",
   "execution_count": 35,
   "metadata": {},
   "outputs": [
    {
     "name": "stdout",
     "output_type": "stream",
     "text": [
      "Recommender performance is: Precision = 0.013963, Recall = 0.013963, MAP = 0.004770\n"
     ]
    }
   ],
   "source": [
    "top_recommender = TopPopRecommender()\n",
    "top_recommender.fit(training_set_csr)\n",
    "\n",
    "evaluate_algorithm(test_set_csr, top_recommender, test_set_playlists)"
   ]
  },
  {
   "cell_type": "code",
   "execution_count": 34,
   "metadata": {},
   "outputs": [
    {
     "name": "stdout",
     "output_type": "stream",
     "text": [
      "Recommender performance is: Precision = 0.000000, Recall = 0.000000, MAP = 0.000000\n"
     ]
    }
   ],
   "source": [
    "user_recommender = UserBasedCollaborativeFilteringRecommender()\n",
    "user_recommender.fit(training_set_csr)\n",
    "\n",
    "evaluate_algorithm(test_set_csr, user_recommender, test_set_playlists)"
   ]
  },
  {
   "cell_type": "code",
   "execution_count": null,
   "metadata": {},
   "outputs": [],
   "source": []
  }
 ],
 "metadata": {
  "kernelspec": {
   "display_name": "Python 3",
   "language": "python",
   "name": "python3"
  },
  "language_info": {
   "codemirror_mode": {
    "name": "ipython",
    "version": 3
   },
   "file_extension": ".py",
   "mimetype": "text/x-python",
   "name": "python",
   "nbconvert_exporter": "python",
   "pygments_lexer": "ipython3",
   "version": "3.7.0"
  }
 },
 "nbformat": 4,
 "nbformat_minor": 2
}

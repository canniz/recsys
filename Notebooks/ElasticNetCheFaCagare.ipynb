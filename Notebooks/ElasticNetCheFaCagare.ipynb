{
 "cells": [
  {
   "cell_type": "code",
   "execution_count": 1,
   "metadata": {},
   "outputs": [],
   "source": [
    "import numpy as np\n",
    "import pandas as pd\n",
    "import matplotlib.pyplot as plt\n",
    "from scipy import sparse\n",
    "import random\n",
    "import utils\n",
    "from scipy.sparse import linalg\n",
    "from sklearn.metrics.pairwise import cosine_similarity\n",
    "from sklearn.feature_extraction.text import TfidfTransformer\n",
    "from FW_Similarity.CFW_D_Similarity_Linalg import CFW_D_Similarity_Linalg\n",
    "from Base.Evaluation.Evaluator import SequentialEvaluator\n",
    "from Notebooks_utils.data_splitter import train_test_holdout\n",
    "from SLIM_ElasticNet import SLIMElasticNetRecommender as SLIM\n",
    "\n",
    "TEST_SET_THRESHOLD = 10\n",
    "TEST_SET_HOLDOUT = 0.2\n"
   ]
  },
  {
   "cell_type": "code",
   "execution_count": 2,
   "metadata": {},
   "outputs": [],
   "source": [
    "tracks = pd.read_csv('../input/tracks.csv')\n",
    "train = pd.read_csv('../input/train.csv')\n",
    "target = pd.read_csv('../input/target_playlists.csv')"
   ]
  },
  {
   "cell_type": "markdown",
   "metadata": {},
   "source": [
    "# Defining methods to create csr matrices"
   ]
  },
  {
   "cell_type": "code",
   "execution_count": 3,
   "metadata": {},
   "outputs": [
    {
     "name": "stderr",
     "output_type": "stream",
     "text": [
      "C:\\Users\\giuse\\Anaconda3\\envs\\tensorflow\\lib\\site-packages\\scipy\\sparse\\compressed.py:746: SparseEfficiencyWarning: Changing the sparsity structure of a csr_matrix is expensive. lil_matrix is more efficient.\n",
      "  SparseEfficiencyWarning)\n"
     ]
    }
   ],
   "source": [
    "icm_csr = utils.build_icm_csr(tracks)\n",
    "urm_csr = utils.build_urm_csr(train)"
   ]
  },
  {
   "cell_type": "code",
   "execution_count": 4,
   "metadata": {},
   "outputs": [],
   "source": [
    "URM_train, URM_test = train_test_holdout(urm_csr, train_perc = 1 - TEST_SET_HOLDOUT)\n",
    "URM_train, URM_validation = train_test_holdout(URM_train, train_perc = 0.9)"
   ]
  },
  {
   "cell_type": "markdown",
   "metadata": {},
   "source": [
    "# ALGORITHM"
   ]
  },
  {
   "cell_type": "code",
   "execution_count": 5,
   "metadata": {},
   "outputs": [],
   "source": [
    "class EnsembleRecommender(object):\n",
    "    def get_URM_train(self):\n",
    "        return self.URM_csr\n",
    "    def fit(self, URM_csr, ICM_csr, min_common_features = 10):\n",
    "        self.min_common_features = min_common_features\n",
    "        transformer = TfidfTransformer()\n",
    "        transformer.fit(URM_csr)\n",
    "        tf_idf_csr = transformer.transform(URM_csr)\n",
    "\n",
    "        IRM = sparse.csr_matrix(tf_idf_csr.transpose())\n",
    "        \n",
    "        csr_similarities = sparse.csr_matrix(cosine_similarity(IRM, dense_output=False))\n",
    "        \n",
    "\n",
    "        transformer.fit(ICM_csr)\n",
    "        tf_idf_icm = transformer.transform(ICM_csr)\n",
    "        icm_similarities = sparse.csr_matrix(cosine_similarity(tf_idf_icm, dense_output=False))\n",
    "        \n",
    "        print(\"COMPUTING ENSEMBLED CONTENT SIMILARITIES\")\n",
    "        #self.item_similarities = alfa*csr_similarities + (1-alfa)*icm_similarities  \n",
    "        \n",
    "        # Get common structure\n",
    "        W_sparse_CF_structure = icm_similarities.copy()\n",
    "        W_sparse_CF_structure.data = np.ones_like(W_sparse_CF_structure.data)\n",
    "\n",
    "        W_sparse_CBF_structure = csr_similarities.copy()\n",
    "        W_sparse_CBF_structure.data = np.ones_like(W_sparse_CBF_structure.data)\n",
    "\n",
    "        W_sparse_common = W_sparse_CF_structure.multiply(W_sparse_CBF_structure)\n",
    "\n",
    "        # Get values of both in common structure of CF\n",
    "        W_sparse_delta = icm_similarities.multiply(W_sparse_common)\n",
    "        W_sparse_delta -= csr_similarities.multiply(W_sparse_common)\n",
    "        \n",
    "        W_sparse_delta_sorted = np.sort(W_sparse_delta.data.copy())\n",
    "        \n",
    "        print(\"CREATING CFW...\")\n",
    "        self.CFW_weithing = CFW_D_Similarity_Linalg(URM_csr, ICM_csr, csr_similarities)\n",
    "        print(\"FITTING CFW...\")\n",
    "        self.CFW_weithing.fit()\n",
    "        self.URM_csr = URM_csr\n",
    "        \n",
    "    \n",
    "    def recommend(self, user_id, at=10, remove_seen_flag=True, alfa = 0.9):\n",
    "        \n",
    "        user = self.URM_csr.getrow(user_id)\n",
    "        itemPopularity = user.dot(self.icm_similarities) + user.dot(self.csr_similarities)\n",
    "        popularItems = np.argsort(np.array(itemPopularity.todense())[0])\n",
    "        popularItems = np.flip(popularItems, axis = 0)\n",
    "\n",
    "        if remove_seen_flag:\n",
    "            unseen_items_mask = np.in1d(popularItems, self.URM_csr[user_id].indices,\n",
    "                                        assume_unique=True, invert = True)\n",
    "\n",
    "            unseen_items = popularItems[unseen_items_mask]\n",
    "            \n",
    "            recommended_items = unseen_items[0:at]\n",
    "\n",
    "        else:\n",
    "            recommended_items = popularItems[0:at]\n",
    "            \n",
    "        #recommended_items = \" \".join(str(i) for i in recommended_items)\n",
    "        return recommended_items"
   ]
  },
  {
   "cell_type": "markdown",
   "metadata": {},
   "source": [
    "# Testing algorithm"
   ]
  },
  {
   "cell_type": "code",
   "execution_count": 6,
   "metadata": {},
   "outputs": [
    {
     "name": "stdout",
     "output_type": "stream",
     "text": [
      "TRAINING with top 10\n",
      "Processed 5927 ( 28.72% ) in 5.00 minutes. Items per second: 20\n"
     ]
    },
    {
     "ename": "KeyboardInterrupt",
     "evalue": "",
     "output_type": "error",
     "traceback": [
      "\u001b[1;31m---------------------------------------------------------------------------\u001b[0m",
      "\u001b[1;31mKeyboardInterrupt\u001b[0m                         Traceback (most recent call last)",
      "\u001b[1;32m<ipython-input-6-c058edb9bf4e>\u001b[0m in \u001b[0;36m<module>\u001b[1;34m\u001b[0m\n\u001b[0;32m      7\u001b[0m         \u001b[0mevaluator\u001b[0m \u001b[1;33m=\u001b[0m \u001b[0mSequentialEvaluator\u001b[0m\u001b[1;33m(\u001b[0m\u001b[0mURM_test\u001b[0m\u001b[1;33m,\u001b[0m\u001b[0mcutoff_list\u001b[0m\u001b[1;33m=\u001b[0m\u001b[1;33m[\u001b[0m\u001b[1;36m10\u001b[0m\u001b[1;33m]\u001b[0m\u001b[1;33m)\u001b[0m\u001b[1;33m\u001b[0m\u001b[1;33m\u001b[0m\u001b[0m\n\u001b[0;32m      8\u001b[0m         \u001b[0mrecommender\u001b[0m \u001b[1;33m=\u001b[0m \u001b[0mSLIM\u001b[0m\u001b[1;33m.\u001b[0m\u001b[0mSLIMElasticNetRecommender\u001b[0m\u001b[1;33m(\u001b[0m\u001b[0mURM_train\u001b[0m\u001b[1;33m)\u001b[0m\u001b[1;33m\u001b[0m\u001b[1;33m\u001b[0m\u001b[0m\n\u001b[1;32m----> 9\u001b[1;33m         \u001b[0mrecommender\u001b[0m\u001b[1;33m.\u001b[0m\u001b[0mfit\u001b[0m\u001b[1;33m(\u001b[0m\u001b[0ml1_ratio\u001b[0m \u001b[1;33m=\u001b[0m \u001b[0mratio\u001b[0m\u001b[1;33m,\u001b[0m \u001b[0mpositive_only\u001b[0m \u001b[1;33m=\u001b[0m \u001b[1;32mTrue\u001b[0m\u001b[1;33m,\u001b[0m \u001b[0mtopK\u001b[0m \u001b[1;33m=\u001b[0m \u001b[0mk\u001b[0m\u001b[1;33m)\u001b[0m\u001b[1;33m\u001b[0m\u001b[1;33m\u001b[0m\u001b[0m\n\u001b[0m\u001b[0;32m     10\u001b[0m         \u001b[0mgc\u001b[0m\u001b[1;33m.\u001b[0m\u001b[0mcollect\u001b[0m\u001b[1;33m(\u001b[0m\u001b[1;33m)\u001b[0m\u001b[1;33m\u001b[0m\u001b[1;33m\u001b[0m\u001b[0m\n\u001b[0;32m     11\u001b[0m         \u001b[0mdatas\u001b[0m\u001b[1;33m,\u001b[0m\u001b[0m_\u001b[0m \u001b[1;33m=\u001b[0m \u001b[0mevaluator\u001b[0m\u001b[1;33m.\u001b[0m\u001b[0mevaluateRecommender\u001b[0m\u001b[1;33m(\u001b[0m\u001b[0mrecommender\u001b[0m\u001b[1;33m)\u001b[0m\u001b[1;33m\u001b[0m\u001b[1;33m\u001b[0m\u001b[0m\n",
      "\u001b[1;32m~\\Documents\\GitHub\\recsys\\Notebooks\\SLIM_ElasticNet\\SLIMElasticNetRecommender.py\u001b[0m in \u001b[0;36mfit\u001b[1;34m(self, l1_ratio, positive_only, topK)\u001b[0m\n\u001b[0;32m     96\u001b[0m \u001b[1;33m\u001b[0m\u001b[0m\n\u001b[0;32m     97\u001b[0m             \u001b[1;31m# fit one ElasticNet model per column\u001b[0m\u001b[1;33m\u001b[0m\u001b[1;33m\u001b[0m\u001b[1;33m\u001b[0m\u001b[0m\n\u001b[1;32m---> 98\u001b[1;33m             \u001b[0mself\u001b[0m\u001b[1;33m.\u001b[0m\u001b[0mmodel\u001b[0m\u001b[1;33m.\u001b[0m\u001b[0mfit\u001b[0m\u001b[1;33m(\u001b[0m\u001b[0mURM_train\u001b[0m\u001b[1;33m,\u001b[0m \u001b[0my\u001b[0m\u001b[1;33m)\u001b[0m\u001b[1;33m\u001b[0m\u001b[1;33m\u001b[0m\u001b[0m\n\u001b[0m\u001b[0;32m     99\u001b[0m \u001b[1;33m\u001b[0m\u001b[0m\n\u001b[0;32m    100\u001b[0m             \u001b[1;31m# self.model.coef_ contains the coefficient of the ElasticNet model\u001b[0m\u001b[1;33m\u001b[0m\u001b[1;33m\u001b[0m\u001b[1;33m\u001b[0m\u001b[0m\n",
      "\u001b[1;32m~\\Anaconda3\\envs\\tensorflow\\lib\\site-packages\\sklearn\\linear_model\\coordinate_descent.py\u001b[0m in \u001b[0;36mfit\u001b[1;34m(self, X, y, check_input)\u001b[0m\n\u001b[0;32m    759\u001b[0m                           \u001b[0mrandom_state\u001b[0m\u001b[1;33m=\u001b[0m\u001b[0mself\u001b[0m\u001b[1;33m.\u001b[0m\u001b[0mrandom_state\u001b[0m\u001b[1;33m,\u001b[0m\u001b[1;33m\u001b[0m\u001b[1;33m\u001b[0m\u001b[0m\n\u001b[0;32m    760\u001b[0m                           \u001b[0mselection\u001b[0m\u001b[1;33m=\u001b[0m\u001b[0mself\u001b[0m\u001b[1;33m.\u001b[0m\u001b[0mselection\u001b[0m\u001b[1;33m,\u001b[0m\u001b[1;33m\u001b[0m\u001b[1;33m\u001b[0m\u001b[0m\n\u001b[1;32m--> 761\u001b[1;33m                           check_input=False)\n\u001b[0m\u001b[0;32m    762\u001b[0m             \u001b[0mcoef_\u001b[0m\u001b[1;33m[\u001b[0m\u001b[0mk\u001b[0m\u001b[1;33m]\u001b[0m \u001b[1;33m=\u001b[0m \u001b[0mthis_coef\u001b[0m\u001b[1;33m[\u001b[0m\u001b[1;33m:\u001b[0m\u001b[1;33m,\u001b[0m \u001b[1;36m0\u001b[0m\u001b[1;33m]\u001b[0m\u001b[1;33m\u001b[0m\u001b[1;33m\u001b[0m\u001b[0m\n\u001b[0;32m    763\u001b[0m             \u001b[0mdual_gaps_\u001b[0m\u001b[1;33m[\u001b[0m\u001b[0mk\u001b[0m\u001b[1;33m]\u001b[0m \u001b[1;33m=\u001b[0m \u001b[0mthis_dual_gap\u001b[0m\u001b[1;33m[\u001b[0m\u001b[1;36m0\u001b[0m\u001b[1;33m]\u001b[0m\u001b[1;33m\u001b[0m\u001b[1;33m\u001b[0m\u001b[0m\n",
      "\u001b[1;32m~\\Anaconda3\\envs\\tensorflow\\lib\\site-packages\\sklearn\\linear_model\\coordinate_descent.py\u001b[0m in \u001b[0;36menet_path\u001b[1;34m(X, y, l1_ratio, eps, n_alphas, alphas, precompute, Xy, copy_X, coef_init, verbose, return_n_iter, positive, check_input, **params)\u001b[0m\n\u001b[0;32m    459\u001b[0m                 \u001b[0mcoef_\u001b[0m\u001b[1;33m,\u001b[0m \u001b[0ml1_reg\u001b[0m\u001b[1;33m,\u001b[0m \u001b[0ml2_reg\u001b[0m\u001b[1;33m,\u001b[0m \u001b[0mX\u001b[0m\u001b[1;33m.\u001b[0m\u001b[0mdata\u001b[0m\u001b[1;33m,\u001b[0m \u001b[0mX\u001b[0m\u001b[1;33m.\u001b[0m\u001b[0mindices\u001b[0m\u001b[1;33m,\u001b[0m\u001b[1;33m\u001b[0m\u001b[1;33m\u001b[0m\u001b[0m\n\u001b[0;32m    460\u001b[0m                 \u001b[0mX\u001b[0m\u001b[1;33m.\u001b[0m\u001b[0mindptr\u001b[0m\u001b[1;33m,\u001b[0m \u001b[0my\u001b[0m\u001b[1;33m,\u001b[0m \u001b[0mX_sparse_scaling\u001b[0m\u001b[1;33m,\u001b[0m\u001b[1;33m\u001b[0m\u001b[1;33m\u001b[0m\u001b[0m\n\u001b[1;32m--> 461\u001b[1;33m                 max_iter, tol, rng, random, positive)\n\u001b[0m\u001b[0;32m    462\u001b[0m         \u001b[1;32melif\u001b[0m \u001b[0mmulti_output\u001b[0m\u001b[1;33m:\u001b[0m\u001b[1;33m\u001b[0m\u001b[1;33m\u001b[0m\u001b[0m\n\u001b[0;32m    463\u001b[0m             model = cd_fast.enet_coordinate_descent_multi_task(\n",
      "\u001b[1;31mKeyboardInterrupt\u001b[0m: "
     ]
    }
   ],
   "source": [
    "ratios = [0.1, 0.2, 0.3, 0.4, 0.5, 0.6, 0.7, 0.8, 0.9]\n",
    "ks = [10,25,50,75,100,150,200,250]\n",
    "MAPS = []\n",
    "for ratio in ratios:\n",
    "    for k in ks:\n",
    "        print(\"TRAINING with top {}\".format(k))\n",
    "        evaluator = SequentialEvaluator(URM_test,cutoff_list=[10])\n",
    "        recommender = SLIM.SLIMElasticNetRecommender(URM_train) \n",
    "        recommender.fit(l1_ratio = ratio, positive_only = True, topK = k)\n",
    "        gc.collect()\n",
    "        datas,_ = evaluator.evaluateRecommender(recommender)\n",
    "        MAP = datas[10]['MAP']\n",
    "        MAPS.append([ratio,k,MAP])\n",
    "        print(\"*****RESULT with {} ratio and top {} is MAP = {}\".format(ratio,k,MAP))\n",
    "        gc.collect()"
   ]
  },
  {
   "cell_type": "code",
   "execution_count": 6,
   "metadata": {},
   "outputs": [
    {
     "name": "stdout",
     "output_type": "stream",
     "text": [
      "FITTING...\n",
      "COMPUTING ENSEMBLED CONTENT SIMILARITIES\n",
      "CREATING CFW...\n",
      "FITTING CFW...\n",
      "CFW_D_Similarity_Linalg: Generating train data\n",
      "Unable to load Cython Compute_Similarity, reverting to Python\n",
      "Similarity column 20600 ( 100 % ), 1753.10 column/sec, elapsed time 0.20 min\n",
      "CFW_D_Similarity_Linalg: Collaborative S density: 2.20E-02, nonzero cells 9383196\n",
      "CFW_D_Similarity_Linalg: Content S density: 5.38E-03, nonzero cells 2289674\n",
      "CFW_D_Similarity_Linalg: Content S structure has 195364 out of 2289674 ( 8.53%) nonzero collaborative cells\n",
      "CFW_D_Similarity_Linalg: Nonzero collaborative cell sum is: 1.87E+04, average is: 9.56E-02, average over all collaborative data is 2.42E-02\n",
      "Unable to load Cython Compute_Similarity, reverting to Python\n",
      "Similarity column 20600 ( 100 % ), 1413.37 column/sec, elapsed time 0.24 min\n"
     ]
    }
   ],
   "source": [
    "ensemble = EnsembleRecommender()\n",
    "print(\"FITTING...\")\n",
    "ensemble.fit(URM_train,icm_csr)\n",
    "\n",
    "#evaluate_algorithm(test_set_csr, ensemble, test_set_playlists, alfa = test)\n",
    "    "
   ]
  },
  {
   "cell_type": "code",
   "execution_count": 7,
   "metadata": {},
   "outputs": [
    {
     "name": "stdout",
     "output_type": "stream",
     "text": [
      "EVALUATING...\n",
      "SequentialEvaluator: Processed 47522 ( 100.00% ) in 27.30 seconds. Users per second: 1741\n",
      "{10: {'ROC_AUC': 0.16201952829867047, 'PRECISION': 0.09595048041241283, 'RECALL': 0.09433289055822526, 'RECALL_TEST_LEN': 0.09595048041241283, 'MAP': 0.04586258912064915, 'MRR': 0.12035162661504081, 'NDCG': 0.07611657119746522, 'F1': 0.09513480995824851, 'HIT_RATE': 0.40471781490678, 'ARHR': 0.15159459144402876, 'NOVELTY': 0.007080574316836685, 'DIVERSITY_MEAN_INTER_LIST': 0.9973652910848508, 'DIVERSITY_HERFINDAHL': 0.9997344303641328, 'COVERAGE_ITEM': 0.7406833050642113, 'COVERAGE_USER': 0.9420370296951195, 'DIVERSITY_GINI': 0.33948332633211686, 'SHANNON_ENTROPY': 12.691519799957518}}\n"
     ]
    }
   ],
   "source": [
    "evaluator_test = SequentialEvaluator(URM_test, cutoff_list=[10])\n",
    "print(\"EVALUATING...\")\n",
    "results_dict, _ = evaluator_test.evaluateRecommender(ensemble.CFW_weithing)\n",
    "print(results_dict)"
   ]
  },
  {
   "cell_type": "markdown",
   "metadata": {},
   "source": [
    "# TESTING SINGLE ITERATION"
   ]
  },
  {
   "cell_type": "code",
   "execution_count": null,
   "metadata": {},
   "outputs": [],
   "source": []
  }
 ],
 "metadata": {
  "kernelspec": {
   "display_name": "Python 3",
   "language": "python",
   "name": "python3"
  },
  "language_info": {
   "codemirror_mode": {
    "name": "ipython",
    "version": 3
   },
   "file_extension": ".py",
   "mimetype": "text/x-python",
   "name": "python",
   "nbconvert_exporter": "python",
   "pygments_lexer": "ipython3",
   "version": "3.6.7"
  }
 },
 "nbformat": 4,
 "nbformat_minor": 2
}

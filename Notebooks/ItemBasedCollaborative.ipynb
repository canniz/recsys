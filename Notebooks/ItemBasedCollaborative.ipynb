{
 "cells": [
  {
   "cell_type": "code",
   "execution_count": 1,
   "metadata": {},
   "outputs": [],
   "source": [
    "class ItemBasedCollaborativeFilteringRecommender(object):\n",
    "    \n",
    "    def fit(self, URM_csr):\n",
    "        self.IRM = sparse.csr_matrix(URM_csr.transpose())\n",
    "        self.similarities = cosine_similarity(self.IRM, dense_output=False)\n",
    "        #self.similarities.data = np.where(self.similarities.data >= 0.05, self.similarities.data, 0)\n",
    "        self.URM_csr = URM_csr\n",
    "    \n",
    "    def recommend(self, user_id, at=10, remove_seen=True):\n",
    "        user = np.array(self.URM_csr.getrow(user_id).todense())[0]\n",
    "        itemPopularity = self.similarities.dot(user)\n",
    "        self.popularItems = np.argsort(itemPopularity)\n",
    "        self.popularItems = np.flip(self.popularItems, axis = 0)\n",
    "        \n",
    "        if remove_seen:\n",
    "            unseen_items_mask = np.in1d(self.popularItems, self.URM_csr[user_id].indices,\n",
    "                                        assume_unique=True, invert = True)\n",
    "\n",
    "            unseen_items = self.popularItems[unseen_items_mask]\n",
    "            \n",
    "            recommended_items = unseen_items[0:at]\n",
    "\n",
    "        else:\n",
    "            recommended_items = self.popularItems[0:at]\n",
    "            \n",
    "        #recommended_items = \" \".join(str(i) for i in recommended_items)\n",
    "        return recommended_items"
   ]
  },
  {
   "cell_type": "code",
   "execution_count": null,
   "metadata": {},
   "outputs": [],
   "source": []
  }
 ],
 "metadata": {
  "kernelspec": {
   "display_name": "Python 3",
   "language": "python",
   "name": "python3"
  },
  "language_info": {
   "codemirror_mode": {
    "name": "ipython",
    "version": 3
   },
   "file_extension": ".py",
   "mimetype": "text/x-python",
   "name": "python",
   "nbconvert_exporter": "python",
   "pygments_lexer": "ipython3",
   "version": "3.7.0"
  }
 },
 "nbformat": 4,
 "nbformat_minor": 2
}

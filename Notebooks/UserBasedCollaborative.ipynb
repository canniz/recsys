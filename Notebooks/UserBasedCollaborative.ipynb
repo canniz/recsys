{
 "cells": [
  {
   "cell_type": "markdown",
   "metadata": {},
   "source": [
    "# USER BASED COLLABORATIVE FILTERING"
   ]
  },
  {
   "cell_type": "code",
   "execution_count": 3,
   "metadata": {},
   "outputs": [],
   "source": [
    "import scipy.sparse as sps\n",
    "import numpy as np\n",
    "import pandas as pd\n",
    "import scipy as sc\n",
    "from sklearn.metrics.pairwise import cosine_similarity"
   ]
  },
  {
   "cell_type": "markdown",
   "metadata": {},
   "source": [
    "## BUILD URM SPARSE MATRIX"
   ]
  },
  {
   "cell_type": "code",
   "execution_count": 4,
   "metadata": {},
   "outputs": [],
   "source": [
    "data = np.genfromtxt('../input/train.csv' , delimiter=',',dtype=int)[1:]\n",
    "test = np.genfromtxt('../input/target_playlists.csv', delimiter = ',', dtype=int)[1:]\n",
    "\n",
    "playlist = data[:,0]\n",
    "song = data[:,1]\n",
    "\n",
    "unique_playlist = list(set(playlist))\n",
    "unique_songs = list(set(song))\n",
    "\n",
    "num_playlists = len(unique_playlist)\n",
    "num_songs = len(unique_songs)\n",
    "\n",
    "mat = sps.lil_matrix((num_playlists,num_songs))\n",
    "mat[playlist,song] = 1\n",
    "URM_csr = sc.sparse.csr_matrix(mat)\n"
   ]
  },
  {
   "cell_type": "markdown",
   "metadata": {},
   "source": [
    "## COMPUTE COSINE SIMILARITY\n"
   ]
  },
  {
   "cell_type": "code",
   "execution_count": 5,
   "metadata": {},
   "outputs": [],
   "source": [
    "similarities = cosine_similarity(URM_csr, dense_output=False)"
   ]
  },
  {
   "cell_type": "markdown",
   "metadata": {},
   "source": [
    "## USER Based collaborative filtering prediction for user"
   ]
  },
  {
   "cell_type": "code",
   "execution_count": 6,
   "metadata": {},
   "outputs": [],
   "source": [
    "def predict(URM_csr, similarities, playlist):\n",
    "    sim = np.array(similarities.getrow(playlist).todense())[0]\n",
    "    predicted_ratings = URM_csr.transpose().dot(sim)\n",
    "    \n",
    "    return predicted_ratings"
   ]
  },
  {
   "cell_type": "markdown",
   "metadata": {},
   "source": [
    "## Test case with playlist"
   ]
  },
  {
   "cell_type": "code",
   "execution_count": 7,
   "metadata": {},
   "outputs": [],
   "source": [
    "C = predict(URM_csr, similarities, 7)"
   ]
  },
  {
   "cell_type": "markdown",
   "metadata": {},
   "source": [
    "## Fit and recommend"
   ]
  },
  {
   "cell_type": "code",
   "execution_count": 8,
   "metadata": {},
   "outputs": [
    {
     "data": {
      "text/plain": [
       "(20635,)"
      ]
     },
     "execution_count": 8,
     "metadata": {},
     "output_type": "execute_result"
    }
   ],
   "source": [
    "C.shape"
   ]
  },
  {
   "cell_type": "code",
   "execution_count": 12,
   "metadata": {},
   "outputs": [],
   "source": [
    "class UserBasedCollaborativeFilteringRecommender(object):\n",
    "    \n",
    "    def fit(self, URM_csr):\n",
    "        self.similarities = cosine_similarity(URM_csr, dense_output=False)\n",
    "        self.URM_csr = URM_csr\n",
    "    \n",
    "    def recommend(self, user_id, at=10, remove_seen=True):\n",
    "        sim = np.array(self.similarities.getrow(user_id).todense())[0]\n",
    "        itemPopularity = self.URM_csr.transpose().dot(sim)\n",
    "        self.popularItems = np.argsort(itemPopularity)\n",
    "        self.popularItems = np.flip(self.popularItems, axis = 0)\n",
    "        \n",
    "        if remove_seen:\n",
    "            unseen_items_mask = np.in1d(self.popularItems, self.URM_csr[user_id].indices,\n",
    "                                        assume_unique=True, invert = True)\n",
    "\n",
    "            unseen_items = self.popularItems[unseen_items_mask]\n",
    "            \n",
    "            recommended_items = unseen_items[0:at]\n",
    "\n",
    "        else:\n",
    "            recommended_items = self.popularItems[0:at]\n",
    "            \n",
    "        #recommended_items = \" \".join(str(i) for i in recommended_items)\n",
    "        return recommended_items"
   ]
  },
  {
   "cell_type": "code",
   "execution_count": null,
   "metadata": {},
   "outputs": [],
   "source": []
  }
 ],
 "metadata": {
  "kernelspec": {
   "display_name": "Python 3",
   "language": "python",
   "name": "python3"
  },
  "language_info": {
   "codemirror_mode": {
    "name": "ipython",
    "version": 3
   },
   "file_extension": ".py",
   "mimetype": "text/x-python",
   "name": "python",
   "nbconvert_exporter": "python",
   "pygments_lexer": "ipython3",
   "version": "3.7.0"
  }
 },
 "nbformat": 4,
 "nbformat_minor": 2
}

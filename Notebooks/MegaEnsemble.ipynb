{
 "cells": [
  {
   "cell_type": "code",
   "execution_count": 29,
   "metadata": {},
   "outputs": [],
   "source": [
    "import numpy as np\n",
    "import pandas as pd\n",
    "import matplotlib.pyplot as plt\n",
    "from scipy import sparse\n",
    "import random\n",
    "from sklearn.metrics.pairwise import cosine_similarity\n",
    "from sklearn.feature_extraction.text import TfidfTransformer\n",
    "import utils\n",
    "from Notebooks_utils import Compute_Similarity_Python as sim"
   ]
  },
  {
   "cell_type": "code",
   "execution_count": 2,
   "metadata": {},
   "outputs": [],
   "source": [
    "tracks = pd.read_csv('../input/tracks.csv')\n",
    "train = pd.read_csv('../input/train.csv')\n",
    "target = pd.read_csv('../input/target_playlists.csv')"
   ]
  },
  {
   "cell_type": "code",
   "execution_count": 10,
   "metadata": {},
   "outputs": [],
   "source": [
    "urm_csr = utils.build_urm_csr(train)"
   ]
  },
  {
   "cell_type": "code",
   "execution_count": 34,
   "metadata": {},
   "outputs": [],
   "source": [
    "class CollaborativeItemBasedRecommender(object):\n",
    "    \n",
    "    def fit(self, URM_csr, block_size = 100, **args):\n",
    "\n",
    "        transformer = TfidfTransformer()\n",
    "        transformer.fit(URM_csr)\n",
    "        tf_idf_csr = transformer.transform(URM_csr)\n",
    "\n",
    "        IRM = sparse.csr_matrix(tf_idf_csr.transpose())\n",
    "        \n",
    "        similarity_object = sim.Compute_Similarity_Python(IRM, **args)\n",
    "        \n",
    "        self.item_similarities = similarity_object.compute_similarity(block_size = block_size)\n",
    "        self.URM_csr = URM_csr\n",
    "        \n",
    "    \n",
    "    def recommend(self, user_id, at=10, remove_seen=True):\n",
    "        \n",
    "        user = self.URM_csr.getrow(user_id)\n",
    "        itemPopularity = user.dot(self.item_similarities)\n",
    "        popularItems = np.argsort(np.array(itemPopularity.todense())[0])\n",
    "        popularItems = np.flip(popularItems, axis = 0)\n",
    "\n",
    "        if remove_seen:\n",
    "            unseen_items_mask = np.in1d(popularItems, self.URM_csr[user_id].indices,\n",
    "                                        assume_unique=True, invert = True)\n",
    "\n",
    "            unseen_items = popularItems[unseen_items_mask]\n",
    "            \n",
    "            recommended_items = unseen_items[0:at]\n",
    "\n",
    "        else:\n",
    "            recommended_items = popularItems[0:at]\n",
    "        \n",
    "        return recommended_items"
   ]
  },
  {
   "cell_type": "code",
   "execution_count": 37,
   "metadata": {},
   "outputs": [
    {
     "name": "stdout",
     "output_type": "stream",
     "text": [
      "Similarity column 9700 ( 19 % ), 321.17 column/sec, elapsed time 0.50 min\n",
      "Similarity column 19700 ( 39 % ), 326.21 column/sec, elapsed time 1.01 min\n",
      "Similarity column 29600 ( 59 % ), 326.92 column/sec, elapsed time 1.51 min\n",
      "Similarity column 39500 ( 78 % ), 327.19 column/sec, elapsed time 2.01 min\n",
      "Similarity column 49400 ( 98 % ), 327.25 column/sec, elapsed time 2.52 min\n",
      "Similarity column 50400 ( 100 % ), 327.36 column/sec, elapsed time 2.57 min\n",
      "50\n"
     ]
    }
   ],
   "source": [
    "rec = CollaborativeItemBasedRecommender()\n",
    "rec.fit(urm_csr, similarity = \"jaccard\", topK= 50, tversky_alpha = 1.5, shrink = 50)"
   ]
  },
  {
   "cell_type": "code",
   "execution_count": null,
   "metadata": {},
   "outputs": [],
   "source": []
  }
 ],
 "metadata": {
  "kernelspec": {
   "display_name": "Python 3",
   "language": "python",
   "name": "python3"
  },
  "language_info": {
   "codemirror_mode": {
    "name": "ipython",
    "version": 3
   },
   "file_extension": ".py",
   "mimetype": "text/x-python",
   "name": "python",
   "nbconvert_exporter": "python",
   "pygments_lexer": "ipython3",
   "version": "3.6.7"
  }
 },
 "nbformat": 4,
 "nbformat_minor": 2
}

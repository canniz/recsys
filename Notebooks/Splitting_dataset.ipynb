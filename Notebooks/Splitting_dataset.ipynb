{
 "cells": [
  {
   "cell_type": "code",
   "execution_count": 4,
   "metadata": {},
   "outputs": [],
   "source": [
    "from SLIM_BPR.Cython.SLIM_BPR_Cython import SLIM_BPR_Cython\n",
    "import numpy as np\n",
    "import pandas as pd\n",
    "import matplotlib.pyplot as plt\n",
    "from scipy import sparse\n",
    "import random\n",
    "from sklearn.metrics.pairwise import cosine_similarity\n",
    "from sklearn.feature_extraction.text import TfidfTransformer\n",
    "from sklearn.preprocessing import normalize\n",
    "from sklearn.preprocessing import MaxAbsScaler\n",
    "import gc\n",
    "import utils\n",
    "from GraphBased.P3alphaRecommender import P3alphaRecommender\n",
    "from CollaborativeRecommender import CollaborativeItemBasedRecommender\n",
    "from Content_based import Content_based_recommender\n",
    "\n",
    "TEST_SET_THRESHOLD = 10\n",
    "TEST_SET_HOLDOUT = 0.35\n",
    "BEST_ALPHA = 0.55\n",
    "BEST_BETA = 0.86\n",
    "BEST_GAMMA = 0.35\n",
    "BEST_BATCH = 10\n",
    "BEST_K = 50"
   ]
  },
  {
   "cell_type": "code",
   "execution_count": 15,
   "metadata": {},
   "outputs": [],
   "source": [
    "tracks = pd.read_csv('../input/tracks.csv')\n",
    "train = pd.read_csv('../input/train.csv')\n",
    "target = pd.read_csv('../input/target_playlists.csv')"
   ]
  },
  {
   "cell_type": "code",
   "execution_count": 6,
   "metadata": {},
   "outputs": [
    {
     "name": "stderr",
     "output_type": "stream",
     "text": [
      "/home/antonio/anaconda3/lib/python3.6/site-packages/scipy/sparse/compressed.py:746: SparseEfficiencyWarning: Changing the sparsity structure of a csr_matrix is expensive. lil_matrix is more efficient.\n",
      "  SparseEfficiencyWarning)\n"
     ]
    }
   ],
   "source": [
    "icm_csr = utils.build_icm_csr(tracks)\n",
    "urm_csr = utils.build_urm_csr(train)"
   ]
  },
  {
   "cell_type": "code",
   "execution_count": 4,
   "metadata": {},
   "outputs": [],
   "source": [
    "from utils import split\n",
    "\n",
    "URM_train, URM_test = split(urm_csr,TEST_SET_HOLDOUT = TEST_SET_HOLDOUT,TEST_SET_THRESHOLD = TEST_SET_THRESHOLD)\n",
    "URM_train, URM_validation = split(URM_train,TEST_SET_HOLDOUT = TEST_SET_HOLDOUT,TEST_SET_THRESHOLD = TEST_SET_THRESHOLD)"
   ]
  },
  {
   "cell_type": "code",
   "execution_count": null,
   "metadata": {},
   "outputs": [],
   "source": []
  },
  {
   "cell_type": "code",
   "execution_count": 7,
   "metadata": {},
   "outputs": [],
   "source": [
    "nnz_per_row = urm_csr.getnnz(axis=1)"
   ]
  },
  {
   "cell_type": "code",
   "execution_count": 8,
   "metadata": {},
   "outputs": [],
   "source": [
    "mask_low_15 = np.where(nnz_per_row < 15)[0]\n",
    "mask_low_30 = np.where((nnz_per_row < 30) & (nnz_per_row >= 15))[0]\n",
    "mask_high = np.where(nnz_per_row >= 30)[0]"
   ]
  },
  {
   "cell_type": "code",
   "execution_count": 9,
   "metadata": {},
   "outputs": [],
   "source": [
    "data_under_15 = urm_csr[mask_low_15]\n",
    "data_under_30 = urm_csr[mask_low_30]\n",
    "data_high = urm_csr[mask_high]"
   ]
  },
  {
   "cell_type": "code",
   "execution_count": 15,
   "metadata": {},
   "outputs": [
    {
     "data": {
      "text/plain": [
       "<18072x20635 sparse matrix of type '<class 'numpy.float32'>'\n",
       "\twith 167893 stored elements in Compressed Sparse Row format>"
      ]
     },
     "execution_count": 15,
     "metadata": {},
     "output_type": "execute_result"
    }
   ],
   "source": [
    "data_under_15"
   ]
  },
  {
   "cell_type": "code",
   "execution_count": 9,
   "metadata": {},
   "outputs": [
    {
     "data": {
      "text/plain": [
       "<17046x20635 sparse matrix of type '<class 'numpy.float32'>'\n",
       "\twith 362712 stored elements in Compressed Sparse Row format>"
      ]
     },
     "execution_count": 9,
     "metadata": {},
     "output_type": "execute_result"
    }
   ],
   "source": [
    "data_under_30"
   ]
  },
  {
   "cell_type": "code",
   "execution_count": 10,
   "metadata": {},
   "outputs": [
    {
     "data": {
      "text/plain": [
       "<15328x20635 sparse matrix of type '<class 'numpy.float32'>'\n",
       "\twith 681186 stored elements in Compressed Sparse Row format>"
      ]
     },
     "execution_count": 10,
     "metadata": {},
     "output_type": "execute_result"
    }
   ],
   "source": [
    "data_high"
   ]
  },
  {
   "cell_type": "code",
   "execution_count": 10,
   "metadata": {},
   "outputs": [],
   "source": [
    "class EnsembleRecommender(object):\n",
    "    \n",
    "    \n",
    "    def fit(self,URM_csr,slim_recommender,W_P3_recommender, CF_recommender, CB_recommender, alpha, beta, gamma):\n",
    "        \n",
    "        self.alpha = alpha\n",
    "        self.beta = beta\n",
    "        self.gamma = gamma\n",
    "        self.slim_recommender = slim_recommender\n",
    "        self.W_P3_recommender = W_P3_recommender\n",
    "        self.CF_recommender = CF_recommender\n",
    "        self.CB_recommender = CB_recommender\n",
    "        self.URM_csr = URM_csr\n",
    "        \n",
    "    def recommend(self, user_id, at=10, remove_seen_flag=True):\n",
    "        slim_recomendation = self.slim_recommender.compute_item_score(user_id)\n",
    "        W_P3_recommendation = self.W_P3_recommender.compute_item_score(user_id)\n",
    "        CF_recomandation = self.CF_recommender.compute_item_score(user_id)\n",
    "        CB_recomandation = self.CB_recommender.compute_item_score(user_id)\n",
    "        CB_CF_rec = self.alpha *CB_recomandation + (1- self.alpha) * CF_recomandation\n",
    "        slim_CBCF_rec = self.beta * slim_recomendation + (1-self.beta) * CB_CF_rec\n",
    "        WP3_others_rec = self.gamma * W_P3_recommendation + (1 - self.gamma) *  slim_CBCF_rec\n",
    "        popularItems = np.argsort(np.array(WP3_others_rec)[0])\n",
    "        popularItems = np.flip(popularItems, axis = 0)\n",
    "\n",
    "        if remove_seen_flag:\n",
    "            unseen_items_mask = np.in1d(popularItems, self.URM_csr[user_id].indices,\n",
    "                                        assume_unique=True, invert = True)\n",
    "\n",
    "            unseen_items = popularItems[unseen_items_mask]\n",
    "            \n",
    "            recommended_items = unseen_items[0:at]\n",
    "\n",
    "        else:\n",
    "            recommended_items = popularItems[0:at]\n",
    "            \n",
    "        #recommended_items = \" \".join(str(i) for i in recommended_items)\n",
    "        return recommended_items\n",
    "    \n",
    "    "
   ]
  },
  {
   "cell_type": "code",
   "execution_count": 11,
   "metadata": {},
   "outputs": [
    {
     "name": "stdout",
     "output_type": "stream",
     "text": [
      "SLIM_BPR_Cython: Estimated memory required for similarity matrix of 20635 items is 1703.21 MB\n"
     ]
    }
   ],
   "source": [
    "slim_recommender = SLIM_BPR_Cython(urm_csr,recompile_cython=False,positive_threshold=1) "
   ]
  },
  {
   "cell_type": "code",
   "execution_count": 12,
   "metadata": {},
   "outputs": [
    {
     "name": "stdout",
     "output_type": "stream",
     "text": [
      "Processed 1211791 ( 100.00% ) in 4.72 seconds. BPR loss is 3.16E-02. Sample per second: 256890\n",
      "SLIM_BPR_Recommender: Epoch 1 of 100. Elapsed time 0.14 min\n",
      "Processed 1211791 ( 100.00% ) in 5.41 seconds. BPR loss is 1.16E-01. Sample per second: 223882\n",
      "SLIM_BPR_Recommender: Epoch 2 of 100. Elapsed time 0.22 min\n",
      "Processed 1211791 ( 100.00% ) in 5.17 seconds. BPR loss is 2.13E-01. Sample per second: 234568\n",
      "SLIM_BPR_Recommender: Epoch 3 of 100. Elapsed time 0.30 min\n",
      "Processed 1211791 ( 100.00% ) in 4.92 seconds. BPR loss is 3.21E-01. Sample per second: 246270\n",
      "SLIM_BPR_Recommender: Epoch 4 of 100. Elapsed time 0.37 min\n",
      "Processed 1211791 ( 100.00% ) in 5.84 seconds. BPR loss is 4.43E-01. Sample per second: 207538\n",
      "SLIM_BPR_Recommender: Epoch 5 of 100. Elapsed time 0.46 min\n",
      "Processed 1211791 ( 100.00% ) in 5.53 seconds. BPR loss is 5.74E-01. Sample per second: 219026\n",
      "SLIM_BPR_Recommender: Epoch 6 of 100. Elapsed time 0.53 min\n",
      "Processed 1211791 ( 100.00% ) in 5.20 seconds. BPR loss is 7.15E-01. Sample per second: 233030\n",
      "SLIM_BPR_Recommender: Epoch 7 of 100. Elapsed time 0.61 min\n",
      "Processed 1211791 ( 100.00% ) in 4.88 seconds. BPR loss is 8.68E-01. Sample per second: 248144\n",
      "SLIM_BPR_Recommender: Epoch 8 of 100. Elapsed time 0.69 min\n",
      "Processed 1211791 ( 100.00% ) in 5.55 seconds. BPR loss is 1.03E+00. Sample per second: 218322\n",
      "SLIM_BPR_Recommender: Epoch 9 of 100. Elapsed time 0.77 min\n",
      "Processed 1211791 ( 100.00% ) in 5.24 seconds. BPR loss is 1.21E+00. Sample per second: 231089\n",
      "SLIM_BPR_Recommender: Epoch 10 of 100. Elapsed time 0.85 min\n",
      "Processed 1211791 ( 100.00% ) in 5.11 seconds. BPR loss is 1.38E+00. Sample per second: 237320\n",
      "SLIM_BPR_Recommender: Epoch 11 of 100. Elapsed time 0.93 min\n",
      "Processed 1211791 ( 100.00% ) in 4.95 seconds. BPR loss is 1.58E+00. Sample per second: 244656\n",
      "SLIM_BPR_Recommender: Epoch 12 of 100. Elapsed time 1.01 min\n",
      "Processed 1211791 ( 100.00% ) in 5.70 seconds. BPR loss is 1.78E+00. Sample per second: 212756\n",
      "SLIM_BPR_Recommender: Epoch 13 of 100. Elapsed time 1.09 min\n",
      "Processed 1211791 ( 100.00% ) in 5.68 seconds. BPR loss is 1.98E+00. Sample per second: 213305\n",
      "SLIM_BPR_Recommender: Epoch 14 of 100. Elapsed time 1.17 min\n",
      "Processed 1211791 ( 100.00% ) in 5.69 seconds. BPR loss is 2.20E+00. Sample per second: 212894\n",
      "SLIM_BPR_Recommender: Epoch 15 of 100. Elapsed time 1.25 min\n",
      "Processed 1211791 ( 100.00% ) in 5.59 seconds. BPR loss is 2.42E+00. Sample per second: 216585\n",
      "SLIM_BPR_Recommender: Epoch 16 of 100. Elapsed time 1.34 min\n",
      "Processed 1211791 ( 100.00% ) in 5.24 seconds. BPR loss is 2.65E+00. Sample per second: 231265\n",
      "SLIM_BPR_Recommender: Epoch 17 of 100. Elapsed time 1.41 min\n",
      "Processed 1211791 ( 100.00% ) in 4.91 seconds. BPR loss is 2.89E+00. Sample per second: 246804\n",
      "SLIM_BPR_Recommender: Epoch 18 of 100. Elapsed time 1.49 min\n",
      "Processed 1211791 ( 100.00% ) in 5.74 seconds. BPR loss is 3.13E+00. Sample per second: 211202\n",
      "SLIM_BPR_Recommender: Epoch 19 of 100. Elapsed time 1.57 min\n",
      "Processed 1211791 ( 100.00% ) in 5.42 seconds. BPR loss is 3.37E+00. Sample per second: 223427\n",
      "SLIM_BPR_Recommender: Epoch 20 of 100. Elapsed time 1.65 min\n",
      "Processed 1211791 ( 100.00% ) in 5.10 seconds. BPR loss is 3.65E+00. Sample per second: 237804\n",
      "SLIM_BPR_Recommender: Epoch 21 of 100. Elapsed time 1.73 min\n",
      "Processed 1211791 ( 100.00% ) in 4.97 seconds. BPR loss is 3.89E+00. Sample per second: 243622\n",
      "SLIM_BPR_Recommender: Epoch 22 of 100. Elapsed time 1.81 min\n",
      "Processed 1211791 ( 100.00% ) in 5.86 seconds. BPR loss is 4.16E+00. Sample per second: 206851\n",
      "SLIM_BPR_Recommender: Epoch 23 of 100. Elapsed time 1.89 min\n",
      "Processed 1211791 ( 100.00% ) in 5.81 seconds. BPR loss is 4.44E+00. Sample per second: 208634\n",
      "SLIM_BPR_Recommender: Epoch 24 of 100. Elapsed time 1.97 min\n",
      "Processed 1211791 ( 100.00% ) in 5.66 seconds. BPR loss is 4.73E+00. Sample per second: 214249\n",
      "SLIM_BPR_Recommender: Epoch 25 of 100. Elapsed time 2.05 min\n",
      "Processed 1211791 ( 100.00% ) in 5.42 seconds. BPR loss is 4.99E+00. Sample per second: 223687\n",
      "SLIM_BPR_Recommender: Epoch 26 of 100. Elapsed time 2.13 min\n",
      "Processed 1211791 ( 100.00% ) in 5.16 seconds. BPR loss is 5.29E+00. Sample per second: 234650\n",
      "SLIM_BPR_Recommender: Epoch 27 of 100. Elapsed time 2.21 min\n",
      "Processed 1211791 ( 100.00% ) in 4.84 seconds. BPR loss is 5.59E+00. Sample per second: 250432\n",
      "SLIM_BPR_Recommender: Epoch 28 of 100. Elapsed time 2.29 min\n",
      "Processed 1211791 ( 100.00% ) in 5.60 seconds. BPR loss is 5.93E+00. Sample per second: 216327\n",
      "SLIM_BPR_Recommender: Epoch 29 of 100. Elapsed time 2.37 min\n",
      "Processed 1211791 ( 100.00% ) in 5.32 seconds. BPR loss is 6.20E+00. Sample per second: 227634\n",
      "SLIM_BPR_Recommender: Epoch 30 of 100. Elapsed time 2.45 min\n",
      "Processed 1211791 ( 100.00% ) in 5.07 seconds. BPR loss is 6.52E+00. Sample per second: 239170\n",
      "SLIM_BPR_Recommender: Epoch 31 of 100. Elapsed time 2.53 min\n",
      "Processed 1211791 ( 100.00% ) in 4.84 seconds. BPR loss is 6.78E+00. Sample per second: 250473\n",
      "SLIM_BPR_Recommender: Epoch 32 of 100. Elapsed time 2.61 min\n",
      "Processed 1211791 ( 100.00% ) in 5.63 seconds. BPR loss is 7.13E+00. Sample per second: 215070\n",
      "SLIM_BPR_Recommender: Epoch 33 of 100. Elapsed time 2.69 min\n",
      "Processed 1211791 ( 100.00% ) in 5.40 seconds. BPR loss is 7.49E+00. Sample per second: 224317\n",
      "SLIM_BPR_Recommender: Epoch 34 of 100. Elapsed time 2.77 min\n",
      "Processed 1211791 ( 100.00% ) in 5.14 seconds. BPR loss is 7.79E+00. Sample per second: 235935\n",
      "SLIM_BPR_Recommender: Epoch 35 of 100. Elapsed time 2.84 min\n",
      "Processed 1211791 ( 100.00% ) in 4.95 seconds. BPR loss is 8.08E+00. Sample per second: 245018\n",
      "SLIM_BPR_Recommender: Epoch 36 of 100. Elapsed time 2.92 min\n",
      "Processed 1211791 ( 100.00% ) in 5.77 seconds. BPR loss is 8.45E+00. Sample per second: 210049\n",
      "SLIM_BPR_Recommender: Epoch 37 of 100. Elapsed time 3.01 min\n",
      "Processed 1211791 ( 100.00% ) in 5.49 seconds. BPR loss is 8.78E+00. Sample per second: 220768\n",
      "SLIM_BPR_Recommender: Epoch 38 of 100. Elapsed time 3.08 min\n",
      "Processed 1211791 ( 100.00% ) in 5.20 seconds. BPR loss is 9.17E+00. Sample per second: 233065\n",
      "SLIM_BPR_Recommender: Epoch 39 of 100. Elapsed time 3.16 min\n",
      "Processed 1211791 ( 100.00% ) in 5.06 seconds. BPR loss is 9.46E+00. Sample per second: 239339\n",
      "SLIM_BPR_Recommender: Epoch 40 of 100. Elapsed time 3.24 min\n",
      "Processed 1211791 ( 100.00% ) in 4.84 seconds. BPR loss is 9.86E+00. Sample per second: 250174\n",
      "SLIM_BPR_Recommender: Epoch 41 of 100. Elapsed time 3.32 min\n",
      "Processed 1211791 ( 100.00% ) in 5.70 seconds. BPR loss is 1.02E+01. Sample per second: 212499\n",
      "SLIM_BPR_Recommender: Epoch 42 of 100. Elapsed time 3.40 min\n",
      "Processed 1211791 ( 100.00% ) in 5.44 seconds. BPR loss is 1.05E+01. Sample per second: 222812\n",
      "SLIM_BPR_Recommender: Epoch 43 of 100. Elapsed time 3.48 min\n",
      "Processed 1211791 ( 100.00% ) in 5.20 seconds. BPR loss is 1.09E+01. Sample per second: 233011\n",
      "SLIM_BPR_Recommender: Epoch 44 of 100. Elapsed time 3.56 min\n",
      "Processed 1211791 ( 100.00% ) in 4.88 seconds. BPR loss is 1.12E+01. Sample per second: 248560\n",
      "SLIM_BPR_Recommender: Epoch 45 of 100. Elapsed time 3.64 min\n",
      "Processed 1211791 ( 100.00% ) in 5.57 seconds. BPR loss is 1.16E+01. Sample per second: 217687\n",
      "SLIM_BPR_Recommender: Epoch 46 of 100. Elapsed time 3.72 min\n",
      "Processed 1211791 ( 100.00% ) in 5.40 seconds. BPR loss is 1.20E+01. Sample per second: 224437\n",
      "SLIM_BPR_Recommender: Epoch 47 of 100. Elapsed time 3.80 min\n",
      "Processed 1211791 ( 100.00% ) in 5.15 seconds. BPR loss is 1.25E+01. Sample per second: 235230\n",
      "SLIM_BPR_Recommender: Epoch 48 of 100. Elapsed time 3.88 min\n",
      "Processed 1211791 ( 100.00% ) in 4.88 seconds. BPR loss is 1.27E+01. Sample per second: 248484\n",
      "SLIM_BPR_Recommender: Epoch 49 of 100. Elapsed time 3.96 min\n",
      "Processed 1211791 ( 100.00% ) in 5.67 seconds. BPR loss is 1.31E+01. Sample per second: 213668\n",
      "SLIM_BPR_Recommender: Epoch 50 of 100. Elapsed time 4.04 min\n",
      "Processed 1211791 ( 100.00% ) in 5.47 seconds. BPR loss is 1.35E+01. Sample per second: 221708\n",
      "SLIM_BPR_Recommender: Epoch 51 of 100. Elapsed time 4.12 min\n",
      "Processed 1211791 ( 100.00% ) in 5.29 seconds. BPR loss is 1.39E+01. Sample per second: 229010\n",
      "SLIM_BPR_Recommender: Epoch 52 of 100. Elapsed time 4.20 min\n",
      "Processed 1211791 ( 100.00% ) in 5.11 seconds. BPR loss is 1.43E+01. Sample per second: 237122\n",
      "SLIM_BPR_Recommender: Epoch 53 of 100. Elapsed time 4.28 min\n",
      "Processed 1211791 ( 100.00% ) in 4.94 seconds. BPR loss is 1.47E+01. Sample per second: 245516\n",
      "SLIM_BPR_Recommender: Epoch 54 of 100. Elapsed time 4.36 min\n",
      "Processed 1211791 ( 100.00% ) in 5.76 seconds. BPR loss is 1.52E+01. Sample per second: 210276\n",
      "SLIM_BPR_Recommender: Epoch 55 of 100. Elapsed time 4.44 min\n",
      "Processed 1211791 ( 100.00% ) in 5.78 seconds. BPR loss is 1.54E+01. Sample per second: 209613\n",
      "SLIM_BPR_Recommender: Epoch 56 of 100. Elapsed time 4.52 min\n",
      "Processed 1211791 ( 100.00% ) in 5.50 seconds. BPR loss is 1.59E+01. Sample per second: 220279\n",
      "SLIM_BPR_Recommender: Epoch 57 of 100. Elapsed time 4.60 min\n",
      "Processed 1211791 ( 100.00% ) in 5.39 seconds. BPR loss is 1.63E+01. Sample per second: 224744\n",
      "SLIM_BPR_Recommender: Epoch 58 of 100. Elapsed time 4.68 min\n",
      "Processed 1211791 ( 100.00% ) in 5.02 seconds. BPR loss is 1.67E+01. Sample per second: 241374\n",
      "SLIM_BPR_Recommender: Epoch 59 of 100. Elapsed time 4.76 min\n",
      "Processed 1211791 ( 100.00% ) in 4.65 seconds. BPR loss is 1.71E+01. Sample per second: 260661\n",
      "SLIM_BPR_Recommender: Epoch 60 of 100. Elapsed time 4.84 min\n",
      "Processed 1211791 ( 100.00% ) in 5.32 seconds. BPR loss is 1.75E+01. Sample per second: 227637\n",
      "SLIM_BPR_Recommender: Epoch 61 of 100. Elapsed time 4.91 min\n",
      "Processed 1211791 ( 100.00% ) in 4.98 seconds. BPR loss is 1.80E+01. Sample per second: 243143\n",
      "SLIM_BPR_Recommender: Epoch 62 of 100. Elapsed time 4.99 min\n",
      "Processed 1211791 ( 100.00% ) in 5.61 seconds. BPR loss is 1.83E+01. Sample per second: 215854\n",
      "SLIM_BPR_Recommender: Epoch 63 of 100. Elapsed time 5.07 min\n",
      "Processed 1211791 ( 100.00% ) in 5.24 seconds. BPR loss is 1.88E+01. Sample per second: 231099\n",
      "SLIM_BPR_Recommender: Epoch 64 of 100. Elapsed time 5.15 min\n",
      "Processed 1211791 ( 100.00% ) in 5.29 seconds. BPR loss is 1.92E+01. Sample per second: 229279\n",
      "SLIM_BPR_Recommender: Epoch 65 of 100. Elapsed time 5.23 min\n",
      "Processed 1211791 ( 100.00% ) in 5.30 seconds. BPR loss is 1.96E+01. Sample per second: 228480\n",
      "SLIM_BPR_Recommender: Epoch 66 of 100. Elapsed time 5.31 min\n",
      "Processed 1211791 ( 100.00% ) in 5.09 seconds. BPR loss is 2.01E+01. Sample per second: 237960\n",
      "SLIM_BPR_Recommender: Epoch 67 of 100. Elapsed time 5.39 min\n",
      "Processed 1211791 ( 100.00% ) in 4.89 seconds. BPR loss is 2.04E+01. Sample per second: 247601\n",
      "SLIM_BPR_Recommender: Epoch 68 of 100. Elapsed time 5.47 min\n",
      "Processed 1211791 ( 100.00% ) in 5.72 seconds. BPR loss is 2.10E+01. Sample per second: 211678\n",
      "SLIM_BPR_Recommender: Epoch 69 of 100. Elapsed time 5.55 min\n",
      "Processed 1211791 ( 100.00% ) in 5.48 seconds. BPR loss is 2.15E+01. Sample per second: 221260\n",
      "SLIM_BPR_Recommender: Epoch 70 of 100. Elapsed time 5.63 min\n",
      "Processed 1211791 ( 100.00% ) in 5.24 seconds. BPR loss is 2.18E+01. Sample per second: 231079\n",
      "SLIM_BPR_Recommender: Epoch 71 of 100. Elapsed time 5.71 min\n",
      "Processed 1211791 ( 100.00% ) in 5.03 seconds. BPR loss is 2.22E+01. Sample per second: 241144\n",
      "SLIM_BPR_Recommender: Epoch 72 of 100. Elapsed time 5.79 min\n",
      "Processed 1211791 ( 100.00% ) in 4.78 seconds. BPR loss is 2.27E+01. Sample per second: 253310\n",
      "SLIM_BPR_Recommender: Epoch 73 of 100. Elapsed time 5.87 min\n",
      "Processed 1211791 ( 100.00% ) in 5.51 seconds. BPR loss is 2.32E+01. Sample per second: 220022\n",
      "SLIM_BPR_Recommender: Epoch 74 of 100. Elapsed time 5.95 min\n",
      "Processed 1211791 ( 100.00% ) in 5.30 seconds. BPR loss is 2.34E+01. Sample per second: 228465\n",
      "SLIM_BPR_Recommender: Epoch 75 of 100. Elapsed time 6.03 min\n",
      "Processed 1211791 ( 100.00% ) in 5.07 seconds. BPR loss is 2.39E+01. Sample per second: 239083\n",
      "SLIM_BPR_Recommender: Epoch 76 of 100. Elapsed time 6.11 min\n",
      "Processed 1211791 ( 100.00% ) in 4.80 seconds. BPR loss is 2.45E+01. Sample per second: 252687\n",
      "SLIM_BPR_Recommender: Epoch 77 of 100. Elapsed time 6.19 min\n",
      "Processed 1211791 ( 100.00% ) in 5.57 seconds. BPR loss is 2.50E+01. Sample per second: 217424\n",
      "SLIM_BPR_Recommender: Epoch 78 of 100. Elapsed time 6.27 min\n",
      "Processed 1211791 ( 100.00% ) in 5.34 seconds. BPR loss is 2.53E+01. Sample per second: 226731\n",
      "SLIM_BPR_Recommender: Epoch 79 of 100. Elapsed time 6.35 min\n",
      "Processed 1211791 ( 100.00% ) in 5.14 seconds. BPR loss is 2.58E+01. Sample per second: 235779\n",
      "SLIM_BPR_Recommender: Epoch 80 of 100. Elapsed time 6.43 min\n",
      "Processed 1211791 ( 100.00% ) in 4.93 seconds. BPR loss is 2.62E+01. Sample per second: 245895\n",
      "SLIM_BPR_Recommender: Epoch 81 of 100. Elapsed time 6.51 min\n",
      "Processed 1211791 ( 100.00% ) in 5.80 seconds. BPR loss is 2.68E+01. Sample per second: 209058\n",
      "SLIM_BPR_Recommender: Epoch 82 of 100. Elapsed time 6.59 min\n",
      "Processed 1211791 ( 100.00% ) in 5.68 seconds. BPR loss is 2.73E+01. Sample per second: 213463\n",
      "SLIM_BPR_Recommender: Epoch 83 of 100. Elapsed time 6.67 min\n",
      "Processed 1211791 ( 100.00% ) in 5.48 seconds. BPR loss is 2.78E+01. Sample per second: 220941\n",
      "SLIM_BPR_Recommender: Epoch 84 of 100. Elapsed time 6.75 min\n",
      "Processed 1211791 ( 100.00% ) in 5.33 seconds. BPR loss is 2.82E+01. Sample per second: 227177\n",
      "SLIM_BPR_Recommender: Epoch 85 of 100. Elapsed time 6.83 min\n",
      "Processed 1211791 ( 100.00% ) in 5.13 seconds. BPR loss is 2.86E+01. Sample per second: 236103\n",
      "SLIM_BPR_Recommender: Epoch 86 of 100. Elapsed time 6.91 min\n",
      "Processed 1211791 ( 100.00% ) in 5.00 seconds. BPR loss is 2.92E+01. Sample per second: 242508\n",
      "SLIM_BPR_Recommender: Epoch 87 of 100. Elapsed time 6.99 min\n",
      "Processed 1211791 ( 100.00% ) in 5.79 seconds. BPR loss is 2.95E+01. Sample per second: 209174\n",
      "SLIM_BPR_Recommender: Epoch 88 of 100. Elapsed time 7.07 min\n",
      "Processed 1211791 ( 100.00% ) in 5.59 seconds. BPR loss is 3.00E+01. Sample per second: 216838\n",
      "SLIM_BPR_Recommender: Epoch 89 of 100. Elapsed time 7.15 min\n",
      "Processed 1211791 ( 100.00% ) in 5.34 seconds. BPR loss is 3.05E+01. Sample per second: 226827\n",
      "SLIM_BPR_Recommender: Epoch 90 of 100. Elapsed time 7.23 min\n",
      "Processed 1211791 ( 100.00% ) in 5.15 seconds. BPR loss is 3.10E+01. Sample per second: 235195\n",
      "SLIM_BPR_Recommender: Epoch 91 of 100. Elapsed time 7.31 min\n",
      "Processed 1211791 ( 100.00% ) in 4.97 seconds. BPR loss is 3.14E+01. Sample per second: 243861\n",
      "SLIM_BPR_Recommender: Epoch 92 of 100. Elapsed time 7.39 min\n",
      "Processed 1211791 ( 100.00% ) in 5.82 seconds. BPR loss is 3.19E+01. Sample per second: 208148\n",
      "SLIM_BPR_Recommender: Epoch 93 of 100. Elapsed time 7.47 min\n",
      "Processed 1211791 ( 100.00% ) in 5.58 seconds. BPR loss is 3.23E+01. Sample per second: 217138\n",
      "SLIM_BPR_Recommender: Epoch 94 of 100. Elapsed time 7.55 min\n",
      "Processed 1211791 ( 100.00% ) in 5.31 seconds. BPR loss is 3.28E+01. Sample per second: 228015\n",
      "SLIM_BPR_Recommender: Epoch 95 of 100. Elapsed time 7.63 min\n",
      "Processed 1211791 ( 100.00% ) in 5.13 seconds. BPR loss is 3.33E+01. Sample per second: 236005\n",
      "SLIM_BPR_Recommender: Epoch 96 of 100. Elapsed time 7.71 min\n",
      "Processed 1211791 ( 100.00% ) in 4.89 seconds. BPR loss is 3.39E+01. Sample per second: 247731\n",
      "SLIM_BPR_Recommender: Epoch 97 of 100. Elapsed time 7.79 min\n",
      "Processed 1211791 ( 100.00% ) in 5.73 seconds. BPR loss is 3.44E+01. Sample per second: 211570\n",
      "SLIM_BPR_Recommender: Epoch 98 of 100. Elapsed time 7.87 min\n",
      "Processed 1211791 ( 100.00% ) in 5.62 seconds. BPR loss is 3.48E+01. Sample per second: 215753\n",
      "SLIM_BPR_Recommender: Epoch 99 of 100. Elapsed time 7.95 min\n",
      "Processed 1211791 ( 100.00% ) in 5.46 seconds. BPR loss is 3.54E+01. Sample per second: 222033\n",
      "SLIM_BPR_Recommender: Epoch 100 of 100. Elapsed time 8.03 min\n"
     ]
    }
   ],
   "source": [
    "slim_recommender.fit(epochs=100,sgd_mode='adam',batch_size=BEST_BATCH,topK=BEST_K)"
   ]
  },
  {
   "cell_type": "code",
   "execution_count": 18,
   "metadata": {},
   "outputs": [],
   "source": [
    "nnz_in_validation = URM_validation.getnnz(axis=1) \n",
    "nnz_indexes = np.where(nnz_in_validation > 0)[0]"
   ]
  },
  {
   "cell_type": "code",
   "execution_count": 16,
   "metadata": {},
   "outputs": [],
   "source": [
    "from operator import itemgetter\n",
    "\n",
    "target = target.get_values()[:,0]\n",
    "users_listened = []\n",
    "for item in target:\n",
    "    nnz = len(urm_csr.getrow(item).data)\n",
    "    users_listened.append([item,nnz])\n",
    "sorted_list = sorted(users_listened,key=itemgetter(1))\n",
    "target_low = []\n",
    "target_middle = []\n",
    "target_high = []\n",
    "\n",
    "for item in sorted_list:\n",
    "    if item[1] < 15:\n",
    "        target_low.append(item[0])\n",
    "    elif item[1] < 30:\n",
    "        target_middle.append(item[0])\n",
    "    else:\n",
    "        target_high.append(item[0])"
   ]
  },
  {
   "cell_type": "code",
   "execution_count": 28,
   "metadata": {},
   "outputs": [
    {
     "name": "stdout",
     "output_type": "stream",
     "text": [
      "Similarity column 20000 ( 97 % ), 1047.79 column/sec, elapsed time 0.32 min\n",
      "Similarity column 20600 ( 100 % ), 3007.49 column/sec, elapsed time 0.11 min\n"
     ]
    }
   ],
   "source": [
    "tf_id_flag = True\n",
    "\n",
    "if tf_id_flag:\n",
    "    transformer = TfidfTransformer()\n",
    "    transformer.fit(urm_csr)\n",
    "    URM_train = transformer.transform(urm_csr)\n",
    "    gc.collect()\n",
    "    transformer = TfidfTransformer()\n",
    "    transformer.fit(icm_csr)\n",
    "    tf_idf_csr = transformer.transform(icm_csr)\n",
    "    icm_csr = sparse.csr_matrix(tf_idf_csr)\n",
    "    gc.collect()\n",
    "icm_transpose = sparse.csr_matrix(icm_csr.transpose())\n",
    "shrink = 5\n",
    "topK = 250\n",
    "CF_recommender = CollaborativeItemBasedRecommender()\n",
    "CF_recommender.fit(urm_csr,block_size=1000,topK=topK,shrink=shrink)\n",
    "gc.collect()\n",
    "shrink2 = 5\n",
    "topK2 = 10\n",
    "CB_recommender = Content_based_recommender(URM_csr=urm_csr,shrink=shrink2,topK=topK2,dataMatrix=icm_transpose)\n",
    "CB_recommender.fit()\n",
    "gc.collect()\n",
    "alpha_wp3 = 0.8\n",
    "P3alpha = P3alphaRecommender(urm_csr)\n",
    "P3alpha.fit(alpha=alpha_wp3)\n",
    "gc.collect()\n",
    "alpha = 0.45\n",
    "beta = 0.001\n",
    "gamma = 0.45\n",
    "\n",
    "ensamble_recommender = EnsembleRecommender()\n",
    "ensamble_recommender.fit(urm_csr,slim_recommender,P3alpha,CF_recommender,CB_recommender,alpha,beta,gamma)\n",
    "                                    "
   ]
  },
  {
   "cell_type": "code",
   "execution_count": 18,
   "metadata": {},
   "outputs": [],
   "source": [
    "result_low = []\n",
    "for items in target_low:\n",
    "    partial_recomendations = ensamble_recommender.recommend(items,at=10)\n",
    "    result_low.append(partial_recomendations)"
   ]
  },
  {
   "cell_type": "code",
   "execution_count": 19,
   "metadata": {},
   "outputs": [],
   "source": [
    "result_low = np.array(result_low)"
   ]
  },
  {
   "cell_type": "code",
   "execution_count": 20,
   "metadata": {},
   "outputs": [],
   "source": [
    "result_low = result_low.reshape(-1,10)"
   ]
  },
  {
   "cell_type": "code",
   "execution_count": 21,
   "metadata": {},
   "outputs": [],
   "source": [
    "i = 0\n",
    "results = []\n",
    "for item in result_low:\n",
    "    recommended_items = \" \".join(str(i) for i in item)\n",
    "    temp = [target_low[i],recommended_items]\n",
    "    results.append(temp)\n",
    "    i += 1"
   ]
  },
  {
   "cell_type": "code",
   "execution_count": 24,
   "metadata": {},
   "outputs": [],
   "source": [
    "result_middle = []\n",
    "for items in target_middle:\n",
    "    partial_recomendations = ensamble_recommender.recommend(items,at=10)\n",
    "    result_middle.append(partial_recomendations)"
   ]
  },
  {
   "cell_type": "code",
   "execution_count": 25,
   "metadata": {},
   "outputs": [],
   "source": [
    "result_middle = np.array(result_middle)"
   ]
  },
  {
   "cell_type": "code",
   "execution_count": 26,
   "metadata": {},
   "outputs": [],
   "source": [
    "result_middle = result_middle.reshape(-1,10)"
   ]
  },
  {
   "cell_type": "code",
   "execution_count": 27,
   "metadata": {},
   "outputs": [],
   "source": [
    "i = 0\n",
    "for item in result_middle:\n",
    "    recommended_items = \" \".join(str(i) for i in item)\n",
    "    temp = [target_middle[i],recommended_items]\n",
    "    results.append(temp)\n",
    "    i += 1"
   ]
  },
  {
   "cell_type": "code",
   "execution_count": 29,
   "metadata": {},
   "outputs": [],
   "source": [
    "result_high = []\n",
    "for items in target_high:\n",
    "    partial_recomendations = ensamble_recommender.recommend(items,at=10)\n",
    "    result_high.append(partial_recomendations)"
   ]
  },
  {
   "cell_type": "code",
   "execution_count": 30,
   "metadata": {},
   "outputs": [],
   "source": [
    "result_high = np.array(result_high)"
   ]
  },
  {
   "cell_type": "code",
   "execution_count": 31,
   "metadata": {},
   "outputs": [],
   "source": [
    "result_high = result_high.reshape(-1,10)"
   ]
  },
  {
   "cell_type": "code",
   "execution_count": 32,
   "metadata": {},
   "outputs": [],
   "source": [
    "i = 0\n",
    "for item in result_high:\n",
    "    recommended_items = \" \".join(str(i) for i in item)\n",
    "    temp = [target_high[i],recommended_items]\n",
    "    results.append(temp)\n",
    "    i += 1"
   ]
  },
  {
   "cell_type": "code",
   "execution_count": 33,
   "metadata": {},
   "outputs": [
    {
     "data": {
      "text/plain": [
       "10000"
      ]
     },
     "execution_count": 33,
     "metadata": {},
     "output_type": "execute_result"
    }
   ],
   "source": [
    "len(results)"
   ]
  },
  {
   "cell_type": "code",
   "execution_count": 42,
   "metadata": {},
   "outputs": [
    {
     "data": {
      "text/plain": [
       "3"
      ]
     },
     "execution_count": 42,
     "metadata": {},
     "output_type": "execute_result"
    }
   ],
   "source": [
    "sorted(target_low)[0]"
   ]
  },
  {
   "cell_type": "code",
   "execution_count": 34,
   "metadata": {},
   "outputs": [],
   "source": [
    "rec = pd.DataFrame(results)\n",
    "rec.to_csv(\"ensemble_tuned.csv\", index = False, header = [\"playlist_id\", \"track_ids\"])"
   ]
  },
  {
   "cell_type": "code",
   "execution_count": 20,
   "metadata": {},
   "outputs": [
    {
     "data": {
      "text/plain": [
       "11784"
      ]
     },
     "execution_count": 20,
     "metadata": {},
     "output_type": "execute_result"
    }
   ],
   "source": [
    "len(nnz_indexes)"
   ]
  },
  {
   "cell_type": "code",
   "execution_count": 21,
   "metadata": {},
   "outputs": [],
   "source": [
    "targets_low_15 = np.intersect1d(nnz_indexes,mask_low_15,assume_unique=False)"
   ]
  },
  {
   "cell_type": "code",
   "execution_count": 22,
   "metadata": {},
   "outputs": [],
   "source": [
    "targets_low_30 = np.intersect1d(nnz_indexes,mask_low_30,assume_unique=False)"
   ]
  },
  {
   "cell_type": "code",
   "execution_count": 23,
   "metadata": {},
   "outputs": [],
   "source": [
    "targets_high = np.intersect1d(nnz_indexes,mask_high,assume_unique=False)"
   ]
  },
  {
   "cell_type": "code",
   "execution_count": 24,
   "metadata": {},
   "outputs": [
    {
     "data": {
      "text/plain": [
       "5324"
      ]
     },
     "execution_count": 24,
     "metadata": {},
     "output_type": "execute_result"
    }
   ],
   "source": [
    "len(targets_high) "
   ]
  },
  {
   "cell_type": "code",
   "execution_count": 56,
   "metadata": {},
   "outputs": [
    {
     "name": "stdout",
     "output_type": "stream",
     "text": [
      "Similarity column 20000 ( 97 % ), 1007.73 column/sec, elapsed time 0.33 min\n",
      "Similarity column 20600 ( 100 % ), 1864.39 column/sec, elapsed time 0.18 min\n",
      "Testing with True tf_idf, shrink1 = 5,topK1 = 1000, shrink2 =5, topk2=750,alpha_wp3=0.8,alpha = 0.25,beta = 0,gamma =0\n",
      "middle map is  0.0866777822464\n",
      "Testing with True tf_idf, shrink1 = 5,topK1 = 1000, shrink2 =5, topk2=750,alpha_wp3=0.8,alpha = 0.25,beta = 0,gamma =0.1\n",
      "middle map is  0.0858515188366\n",
      "Testing with True tf_idf, shrink1 = 5,topK1 = 1000, shrink2 =5, topk2=750,alpha_wp3=0.8,alpha = 0.25,beta = 0,gamma =0.01\n",
      "middle map is  0.0866382832374\n",
      "Testing with True tf_idf, shrink1 = 5,topK1 = 1000, shrink2 =5, topk2=750,alpha_wp3=0.8,alpha = 0.25,beta = 0,gamma =0.001\n"
     ]
    },
    {
     "ename": "KeyboardInterrupt",
     "evalue": "",
     "output_type": "error",
     "traceback": [
      "\u001b[0;31m---------------------------------------------------------------------------\u001b[0m",
      "\u001b[0;31mKeyboardInterrupt\u001b[0m                         Traceback (most recent call last)",
      "\u001b[0;32m<ipython-input-56-8ec8f04750fc>\u001b[0m in \u001b[0;36m<module>\u001b[0;34m\u001b[0m\n\u001b[1;32m     44\u001b[0m                                     \u001b[0;31m#print(\"low map is \", map1)\u001b[0m\u001b[0;34m\u001b[0m\u001b[0;34m\u001b[0m\u001b[0m\n\u001b[1;32m     45\u001b[0m                                     \u001b[0;31m#MAPS_low.append([tf_id_flag,shrink,topK,shrink2,topK2,alpha_wp3,alpha,beta,gamma,map1])\u001b[0m\u001b[0;34m\u001b[0m\u001b[0;34m\u001b[0m\u001b[0m\n\u001b[0;32m---> 46\u001b[0;31m                                     \u001b[0mmap2\u001b[0m \u001b[0;34m=\u001b[0m \u001b[0mutils\u001b[0m\u001b[0;34m.\u001b[0m\u001b[0mevaluate_algorithm\u001b[0m\u001b[0;34m(\u001b[0m\u001b[0mURM_validation\u001b[0m\u001b[0;34m,\u001b[0m\u001b[0mat\u001b[0m\u001b[0;34m=\u001b[0m\u001b[0;36m10\u001b[0m\u001b[0;34m,\u001b[0m\u001b[0mrecommender_object\u001b[0m\u001b[0;34m=\u001b[0m\u001b[0mensamble_recommender\u001b[0m\u001b[0;34m,\u001b[0m\u001b[0mtarget_playlists\u001b[0m\u001b[0;34m=\u001b[0m\u001b[0mtargets_low_30\u001b[0m\u001b[0;34m)\u001b[0m\u001b[0;34m\u001b[0m\u001b[0m\n\u001b[0m\u001b[1;32m     47\u001b[0m                                     \u001b[0mprint\u001b[0m\u001b[0;34m(\u001b[0m\u001b[0;34m\"middle map is \"\u001b[0m\u001b[0;34m,\u001b[0m \u001b[0mmap2\u001b[0m\u001b[0;34m)\u001b[0m\u001b[0;34m\u001b[0m\u001b[0m\n\u001b[1;32m     48\u001b[0m                                     \u001b[0mMAPS_middle\u001b[0m\u001b[0;34m.\u001b[0m\u001b[0mappend\u001b[0m\u001b[0;34m(\u001b[0m\u001b[0;34m[\u001b[0m\u001b[0mtf_id_flag\u001b[0m\u001b[0;34m,\u001b[0m\u001b[0mshrink\u001b[0m\u001b[0;34m,\u001b[0m\u001b[0mtopK\u001b[0m\u001b[0;34m,\u001b[0m\u001b[0mshrink2\u001b[0m\u001b[0;34m,\u001b[0m\u001b[0mtopK2\u001b[0m\u001b[0;34m,\u001b[0m\u001b[0malpha_wp3\u001b[0m\u001b[0;34m,\u001b[0m\u001b[0malpha\u001b[0m\u001b[0;34m,\u001b[0m\u001b[0mbeta\u001b[0m\u001b[0;34m,\u001b[0m\u001b[0mgamma\u001b[0m\u001b[0;34m,\u001b[0m\u001b[0mmap2\u001b[0m\u001b[0;34m]\u001b[0m\u001b[0;34m)\u001b[0m\u001b[0;34m\u001b[0m\u001b[0m\n",
      "\u001b[0;32m~/Documents/recsys/Notebooks/utils.py\u001b[0m in \u001b[0;36mevaluate_algorithm\u001b[0;34m(URM_test, recommender_object, target_playlists, at)\u001b[0m\n\u001b[1;32m    112\u001b[0m         \u001b[0mtarget_items\u001b[0m \u001b[0;34m=\u001b[0m \u001b[0mURM_test\u001b[0m\u001b[0;34m.\u001b[0m\u001b[0mgetrow\u001b[0m\u001b[0;34m(\u001b[0m\u001b[0muser_id\u001b[0m\u001b[0;34m)\u001b[0m\u001b[0;34m.\u001b[0m\u001b[0mindices\u001b[0m\u001b[0;34m\u001b[0m\u001b[0m\n\u001b[1;32m    113\u001b[0m \u001b[0;34m\u001b[0m\u001b[0m\n\u001b[0;32m--> 114\u001b[0;31m         \u001b[0mrecommended_items\u001b[0m \u001b[0;34m=\u001b[0m \u001b[0mrecommender_object\u001b[0m\u001b[0;34m.\u001b[0m\u001b[0mrecommend\u001b[0m\u001b[0;34m(\u001b[0m\u001b[0muser_id\u001b[0m\u001b[0;34m,\u001b[0m \u001b[0mat\u001b[0m\u001b[0;34m=\u001b[0m\u001b[0mat\u001b[0m\u001b[0;34m)\u001b[0m\u001b[0;34m\u001b[0m\u001b[0m\n\u001b[0m\u001b[1;32m    115\u001b[0m         \u001b[0mnum_eval\u001b[0m \u001b[0;34m+=\u001b[0m \u001b[0;36m1\u001b[0m\u001b[0;34m\u001b[0m\u001b[0m\n\u001b[1;32m    116\u001b[0m \u001b[0;34m\u001b[0m\u001b[0m\n",
      "\u001b[0;32m<ipython-input-28-6dd269b32bc6>\u001b[0m in \u001b[0;36mrecommend\u001b[0;34m(self, user_id, at, remove_seen_flag)\u001b[0m\n\u001b[1;32m     21\u001b[0m         \u001b[0mslim_CBCF_rec\u001b[0m \u001b[0;34m=\u001b[0m \u001b[0mself\u001b[0m\u001b[0;34m.\u001b[0m\u001b[0mbeta\u001b[0m \u001b[0;34m*\u001b[0m \u001b[0mslim_recomendation\u001b[0m \u001b[0;34m+\u001b[0m \u001b[0;34m(\u001b[0m\u001b[0;36m1\u001b[0m\u001b[0;34m-\u001b[0m\u001b[0mself\u001b[0m\u001b[0;34m.\u001b[0m\u001b[0mbeta\u001b[0m\u001b[0;34m)\u001b[0m \u001b[0;34m*\u001b[0m \u001b[0mCB_CF_rec\u001b[0m\u001b[0;34m\u001b[0m\u001b[0m\n\u001b[1;32m     22\u001b[0m         \u001b[0mWP3_others_rec\u001b[0m \u001b[0;34m=\u001b[0m \u001b[0mself\u001b[0m\u001b[0;34m.\u001b[0m\u001b[0mgamma\u001b[0m \u001b[0;34m*\u001b[0m \u001b[0mW_P3_recommendation\u001b[0m \u001b[0;34m+\u001b[0m \u001b[0;34m(\u001b[0m\u001b[0;36m1\u001b[0m \u001b[0;34m-\u001b[0m \u001b[0mself\u001b[0m\u001b[0;34m.\u001b[0m\u001b[0mgamma\u001b[0m\u001b[0;34m)\u001b[0m \u001b[0;34m*\u001b[0m  \u001b[0mslim_CBCF_rec\u001b[0m\u001b[0;34m\u001b[0m\u001b[0m\n\u001b[0;32m---> 23\u001b[0;31m         \u001b[0mpopularItems\u001b[0m \u001b[0;34m=\u001b[0m \u001b[0mnp\u001b[0m\u001b[0;34m.\u001b[0m\u001b[0margsort\u001b[0m\u001b[0;34m(\u001b[0m\u001b[0mnp\u001b[0m\u001b[0;34m.\u001b[0m\u001b[0marray\u001b[0m\u001b[0;34m(\u001b[0m\u001b[0mWP3_others_rec\u001b[0m\u001b[0;34m)\u001b[0m\u001b[0;34m[\u001b[0m\u001b[0;36m0\u001b[0m\u001b[0;34m]\u001b[0m\u001b[0;34m)\u001b[0m\u001b[0;34m\u001b[0m\u001b[0m\n\u001b[0m\u001b[1;32m     24\u001b[0m         \u001b[0mpopularItems\u001b[0m \u001b[0;34m=\u001b[0m \u001b[0mnp\u001b[0m\u001b[0;34m.\u001b[0m\u001b[0mflip\u001b[0m\u001b[0;34m(\u001b[0m\u001b[0mpopularItems\u001b[0m\u001b[0;34m,\u001b[0m \u001b[0maxis\u001b[0m \u001b[0;34m=\u001b[0m \u001b[0;36m0\u001b[0m\u001b[0;34m)\u001b[0m\u001b[0;34m\u001b[0m\u001b[0m\n\u001b[1;32m     25\u001b[0m \u001b[0;34m\u001b[0m\u001b[0m\n",
      "\u001b[0;32m~/anaconda3/lib/python3.6/site-packages/numpy/core/fromnumeric.py\u001b[0m in \u001b[0;36margsort\u001b[0;34m(a, axis, kind, order)\u001b[0m\n\u001b[1;32m    905\u001b[0m \u001b[0;34m\u001b[0m\u001b[0m\n\u001b[1;32m    906\u001b[0m     \"\"\"\n\u001b[0;32m--> 907\u001b[0;31m     \u001b[0;32mreturn\u001b[0m \u001b[0m_wrapfunc\u001b[0m\u001b[0;34m(\u001b[0m\u001b[0ma\u001b[0m\u001b[0;34m,\u001b[0m \u001b[0;34m'argsort'\u001b[0m\u001b[0;34m,\u001b[0m \u001b[0maxis\u001b[0m\u001b[0;34m=\u001b[0m\u001b[0maxis\u001b[0m\u001b[0;34m,\u001b[0m \u001b[0mkind\u001b[0m\u001b[0;34m=\u001b[0m\u001b[0mkind\u001b[0m\u001b[0;34m,\u001b[0m \u001b[0morder\u001b[0m\u001b[0;34m=\u001b[0m\u001b[0morder\u001b[0m\u001b[0;34m)\u001b[0m\u001b[0;34m\u001b[0m\u001b[0m\n\u001b[0m\u001b[1;32m    908\u001b[0m \u001b[0;34m\u001b[0m\u001b[0m\n\u001b[1;32m    909\u001b[0m \u001b[0;34m\u001b[0m\u001b[0m\n",
      "\u001b[0;32m~/anaconda3/lib/python3.6/site-packages/numpy/core/fromnumeric.py\u001b[0m in \u001b[0;36m_wrapfunc\u001b[0;34m(obj, method, *args, **kwds)\u001b[0m\n\u001b[1;32m     55\u001b[0m \u001b[0;32mdef\u001b[0m \u001b[0m_wrapfunc\u001b[0m\u001b[0;34m(\u001b[0m\u001b[0mobj\u001b[0m\u001b[0;34m,\u001b[0m \u001b[0mmethod\u001b[0m\u001b[0;34m,\u001b[0m \u001b[0;34m*\u001b[0m\u001b[0margs\u001b[0m\u001b[0;34m,\u001b[0m \u001b[0;34m**\u001b[0m\u001b[0mkwds\u001b[0m\u001b[0;34m)\u001b[0m\u001b[0;34m:\u001b[0m\u001b[0;34m\u001b[0m\u001b[0m\n\u001b[1;32m     56\u001b[0m     \u001b[0;32mtry\u001b[0m\u001b[0;34m:\u001b[0m\u001b[0;34m\u001b[0m\u001b[0m\n\u001b[0;32m---> 57\u001b[0;31m         \u001b[0;32mreturn\u001b[0m \u001b[0mgetattr\u001b[0m\u001b[0;34m(\u001b[0m\u001b[0mobj\u001b[0m\u001b[0;34m,\u001b[0m \u001b[0mmethod\u001b[0m\u001b[0;34m)\u001b[0m\u001b[0;34m(\u001b[0m\u001b[0;34m*\u001b[0m\u001b[0margs\u001b[0m\u001b[0;34m,\u001b[0m \u001b[0;34m**\u001b[0m\u001b[0mkwds\u001b[0m\u001b[0;34m)\u001b[0m\u001b[0;34m\u001b[0m\u001b[0m\n\u001b[0m\u001b[1;32m     58\u001b[0m \u001b[0;34m\u001b[0m\u001b[0m\n\u001b[1;32m     59\u001b[0m     \u001b[0;31m# An AttributeError occurs if the object does not have\u001b[0m\u001b[0;34m\u001b[0m\u001b[0;34m\u001b[0m\u001b[0m\n",
      "\u001b[0;31mKeyboardInterrupt\u001b[0m: "
     ]
    }
   ],
   "source": [
    "quarters = [0,0.1,0.01,0.001,0.25,0.5,0.75,0.9,1]\n",
    "alphas_wp3 = [0.8]\n",
    "integers = [1,2,10,50,250,500,1000,20000]\n",
    "flags = [True]\n",
    "MAPS_low = []\n",
    "MAPS_middle = []\n",
    "MAPS_high = []\n",
    "\n",
    "for tf_id_flag in flags:\n",
    "    if tf_id_flag:\n",
    "        transformer = TfidfTransformer()\n",
    "        transformer.fit(URM_train)\n",
    "        URM_train = transformer.transform(URM_train)\n",
    "        gc.collect()\n",
    "        transformer = TfidfTransformer()\n",
    "        transformer.fit(icm_csr)\n",
    "        tf_idf_csr = transformer.transform(icm_csr)\n",
    "        icm_csr = sparse.csr_matrix(tf_idf_csr)\n",
    "        gc.collect()\n",
    "    icm_transpose = sparse.csr_matrix(icm_csr.transpose())\n",
    "    for shrink in [5,10]:\n",
    "        for topK in [1000,1500]:\n",
    "            CF_recommender = CollaborativeItemBasedRecommender()\n",
    "            CF_recommender.fit(URM_train,block_size=1000,topK=topK,shrink=shrink)\n",
    "            gc.collect()\n",
    "            for shrink2 in [5,400,500,550]:\n",
    "                for topK2 in [750]:\n",
    "                    CB_recommender = Content_based_recommender(URM_csr=URM_train,shrink=shrink2,topK=topK2,dataMatrix=icm_transpose)\n",
    "                    CB_recommender.fit()\n",
    "                    gc.collect()\n",
    "                    for alpha_wp3 in alphas_wp3:\n",
    "                        P3alpha = P3alphaRecommender(URM_train)\n",
    "                        P3alpha.fit(alpha=alpha_wp3)\n",
    "                        gc.collect()\n",
    "                        for alpha in [0.25,0.50]:\n",
    "                            for beta in quarters:\n",
    "                                for gamma in quarters:\n",
    "                                    print(\"Testing with {} tf_idf, shrink1 = {},topK1 = {}, shrink2 ={}, topk2={},alpha_wp3={},alpha = {},beta = {},gamma ={}\"\n",
    "                                          .format(tf_id_flag,shrink,topK,shrink2,topK2,alpha_wp3,alpha,beta,gamma))\n",
    "                                    ensamble_recommender = EnsembleRecommender()\n",
    "                                    ensamble_recommender.fit(URM_train,slim_recommender,P3alpha,CF_recommender,CB_recommender,alpha,beta,gamma)\n",
    "                                    gc.collect()\n",
    "                                    #map1 = utils.evaluate_algorithm(URM_validation,at=10,recommender_object=ensamble_recommender,target_playlists=targets_low_15)\n",
    "                                    #print(\"low map is \", map1)\n",
    "                                    #MAPS_low.append([tf_id_flag,shrink,topK,shrink2,topK2,alpha_wp3,alpha,beta,gamma,map1])\n",
    "                                    map2 = utils.evaluate_algorithm(URM_validation,at=10,recommender_object=ensamble_recommender,target_playlists=targets_low_30)\n",
    "                                    print(\"middle map is \", map2)\n",
    "                                    MAPS_middle.append([tf_id_flag,shrink,topK,shrink2,topK2,alpha_wp3,alpha,beta,gamma,map2])\n",
    "                                    \"\"\"map3 = utils.evaluate_algorithm(URM_validation,at=10,recommender_object=ensamble_recommender,target_playlists=targets_high)\n",
    "                                    print(\"high map is \", map3)\n",
    "                                    MAPS_high.append([tf_id_flag,shrink,topK,shrink2,topK2,alpha_wp3,alpha,beta,gamma,map3])\n",
    "                                    gc.collect()\n",
    "                                    map_media = (map1*(len(targets_low_15)) + map2*len(targets_low_30)+ map3*len(targets_high))/(len(targets_low_15)+len(targets_low_30)+len(targets_high))\n",
    "                                    print(\"Media map = \", map_media)\"\"\""
   ]
  },
  {
   "cell_type": "code",
   "execution_count": 29,
   "metadata": {},
   "outputs": [],
   "source": [
    "np.save(\"map_low2\",np.array(MAPS_low))\n",
    "np.save(\"map_middle2\",np.array(MAPS_middle))\n",
    "np.save(\"map_high2\",np.array(MAPS_high))"
   ]
  },
  {
   "cell_type": "code",
   "execution_count": 32,
   "metadata": {},
   "outputs": [],
   "source": [
    "from operator import itemgetter"
   ]
  },
  {
   "cell_type": "code",
   "execution_count": 48,
   "metadata": {},
   "outputs": [],
   "source": [
    "Best_map_low = sorted(MAPS_low,key = itemgetter(9),reverse=True)[0:5]"
   ]
  },
  {
   "cell_type": "code",
   "execution_count": 53,
   "metadata": {},
   "outputs": [],
   "source": [
    "best_map_middle = sorted(MAPS_middle,key = itemgetter(9),reverse=True)[0:5]"
   ]
  },
  {
   "cell_type": "code",
   "execution_count": 39,
   "metadata": {},
   "outputs": [],
   "source": [
    "best_map_high = sorted(MAPS_high,key = itemgetter(9),reverse=True)[0:5]"
   ]
  },
  {
   "cell_type": "code",
   "execution_count": 39,
   "metadata": {},
   "outputs": [
    {
     "data": {
      "text/plain": [
       "0"
      ]
     },
     "execution_count": 39,
     "metadata": {},
     "output_type": "execute_result"
    }
   ],
   "source": [
    "gc.collect()"
   ]
  },
  {
   "cell_type": "code",
   "execution_count": 43,
   "metadata": {},
   "outputs": [
    {
     "data": {
      "text/plain": [
       "[[False, 5, 550, 5, 750, 0.8, 0.5, 0.01, 0.5, 0.08722646534516075],\n",
       " [False, 5, 550, 5, 1000, 0.8, 0.5, 0.01, 0.5, 0.087221982045452173],\n",
       " [False, 5, 550, 5, 750, 0.8, 0.45, 0.01, 0.45, 0.08721357585849851],\n",
       " [False, 5, 550, 5, 1000, 0.8, 0.45, 0.01, 0.45, 0.08721357585849851],\n",
       " [False, 5, 450, 5, 1000, 0.8, 0.45, 0.01, 0.51, 0.087209225990328959]]"
      ]
     },
     "execution_count": 43,
     "metadata": {},
     "output_type": "execute_result"
    }
   ],
   "source": [
    "Best_map_low"
   ]
  },
  {
   "cell_type": "code",
   "execution_count": 54,
   "metadata": {},
   "outputs": [
    {
     "data": {
      "text/plain": [
       "[[False, 5, 1000, 5, 750, 0.8, 0.25, 0.01, 0.1, 0.10126176591690399],\n",
       " [False, 5, 1000, 5, 750, 0.8, 0.25, 0.01, 0.01, 0.10122854685141069],\n",
       " [False, 5, 1000, 5, 750, 0.8, 0.25, 0.001, 0.25, 0.10122411019505352],\n",
       " [False, 5, 1000, 5, 750, 0.8, 0.25, 0.01, 0.25, 0.10120002776900054],\n",
       " [False, 5, 1000, 5, 750, 0.8, 0.25, 0.01, 0.001, 0.10119587837816311]]"
      ]
     },
     "execution_count": 54,
     "metadata": {},
     "output_type": "execute_result"
    }
   ],
   "source": [
    "best_map_middle"
   ]
  },
  {
   "cell_type": "code",
   "execution_count": 40,
   "metadata": {},
   "outputs": [
    {
     "data": {
      "text/plain": [
       "[[True, 5, 250, 5, 10, 0.8, 0.45, 0.001, 0.45, 0.094174150000596493],\n",
       " [True, 5, 250, 5, 10, 0.8, 0.45, 0.001, 0.49, 0.093999275517870809],\n",
       " [True, 5, 250, 5, 10, 0.8, 0.45, 0.001, 0.5, 0.093945803966465333],\n",
       " [True, 5, 250, 5, 10, 0.8, 0.45, 0.001, 0.51, 0.093925575113591869],\n",
       " [True, 5, 250, 5, 10, 0.8, 0.45, 0.0001, 0.45, 0.093881398101439764]]"
      ]
     },
     "execution_count": 40,
     "metadata": {},
     "output_type": "execute_result"
    }
   ],
   "source": [
    "best_map_high"
   ]
  },
  {
   "cell_type": "code",
   "execution_count": 49,
   "metadata": {},
   "outputs": [
    {
     "data": {
      "text/plain": [
       "[[False, 5, 550, 5, 750, 0.8, 0.5, 0.1, 0.5, 0.088682870592756396],\n",
       " [False, 5, 550, 5, 800, 0.8, 0.5, 0.1, 0.5, 0.08866685880808288],\n",
       " [False, 5, 550, 5, 1000, 0.8, 0.5, 0.1, 0.5, 0.08866685880808288],\n",
       " [False, 5, 550, 5, 750, 0.8, 0.5, 0.01, 0.5, 0.08722646534516075],\n",
       " [False, 5, 550, 5, 800, 0.8, 0.5, 0.01, 0.5, 0.087221982045452173]]"
      ]
     },
     "execution_count": 49,
     "metadata": {},
     "output_type": "execute_result"
    }
   ],
   "source": [
    "Best_map_low"
   ]
  },
  {
   "cell_type": "code",
   "execution_count": null,
   "metadata": {},
   "outputs": [],
   "source": []
  }
 ],
 "metadata": {
  "kernelspec": {
   "display_name": "Python 3",
   "language": "python",
   "name": "python3"
  },
  "language_info": {
   "codemirror_mode": {
    "name": "ipython",
    "version": 3
   },
   "file_extension": ".py",
   "mimetype": "text/x-python",
   "name": "python",
   "nbconvert_exporter": "python",
   "pygments_lexer": "ipython3",
   "version": "3.6.6"
  }
 },
 "nbformat": 4,
 "nbformat_minor": 2
}

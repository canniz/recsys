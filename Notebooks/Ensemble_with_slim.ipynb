{
 "cells": [
  {
   "cell_type": "code",
   "execution_count": 1,
   "metadata": {},
   "outputs": [],
   "source": [
    "from SLIM_BPR.Cython.SLIM_BPR_Cython import SLIM_BPR_Cython\n",
    "import numpy as np\n",
    "import pandas as pd\n",
    "import matplotlib.pyplot as plt\n",
    "from scipy import sparse\n",
    "import random\n",
    "from sklearn.metrics.pairwise import cosine_similarity\n",
    "from sklearn.feature_extraction.text import TfidfTransformer\n",
    "import gc\n",
    "import utils\n",
    "from GraphBased.P3alphaRecommender import P3alphaRecommender\n",
    "\n",
    "TEST_SET_THRESHOLD = 10\n",
    "TEST_SET_HOLDOUT = 0.2\n",
    "BEST_ALFA = 0.8\n",
    "BEST_BETA = 0.9\n",
    "BEST_BATCH = 10\n",
    "BEST_K = 50"
   ]
  },
  {
   "cell_type": "code",
   "execution_count": 2,
   "metadata": {},
   "outputs": [],
   "source": [
    "tracks = pd.read_csv('../input/tracks.csv')\n",
    "train = pd.read_csv('../input/train.csv')\n",
    "target = pd.read_csv('../input/target_playlists.csv')"
   ]
  },
  {
   "cell_type": "code",
   "execution_count": 3,
   "metadata": {},
   "outputs": [
    {
     "name": "stderr",
     "output_type": "stream",
     "text": [
      "/home/antonio/anaconda3/lib/python3.6/site-packages/scipy/sparse/compressed.py:746: SparseEfficiencyWarning: Changing the sparsity structure of a csr_matrix is expensive. lil_matrix is more efficient.\n",
      "  SparseEfficiencyWarning)\n"
     ]
    }
   ],
   "source": [
    "icm_csr = utils.build_icm_csr(tracks)\n",
    "urm_csr = utils.build_urm_csr(train)"
   ]
  },
  {
   "cell_type": "code",
   "execution_count": 4,
   "metadata": {},
   "outputs": [],
   "source": [
    "from Notebooks_utils.data_splitter import train_test_holdout\n",
    "\n",
    "URM_train, URM_test = train_test_holdout(urm_csr, train_perc = 0.8)\n",
    "URM_train, URM_validation = train_test_holdout(URM_train, train_perc = 0.9)"
   ]
  },
  {
   "cell_type": "code",
   "execution_count": 5,
   "metadata": {},
   "outputs": [
    {
     "data": {
      "text/plain": [
       "<50446x20635 sparse matrix of type '<class 'numpy.float32'>'\n",
       "\twith 242740 stored elements in Compressed Sparse Row format>"
      ]
     },
     "execution_count": 5,
     "metadata": {},
     "output_type": "execute_result"
    }
   ],
   "source": [
    "URM_test"
   ]
  },
  {
   "cell_type": "code",
   "execution_count": 6,
   "metadata": {},
   "outputs": [],
   "source": [
    "nnz_per_row = URM_test.getnnz(axis=1)\n",
    "result = np.where(nnz_per_row >0)[0]"
   ]
  },
  {
   "cell_type": "code",
   "execution_count": 7,
   "metadata": {},
   "outputs": [
    {
     "data": {
      "text/plain": [
       "47521"
      ]
     },
     "execution_count": 7,
     "metadata": {},
     "output_type": "execute_result"
    }
   ],
   "source": [
    "len(result)"
   ]
  },
  {
   "cell_type": "code",
   "execution_count": 8,
   "metadata": {},
   "outputs": [],
   "source": [
    "class EnsembleRecommender(object):\n",
    "    \n",
    "    def get_URM_train(self):\n",
    "        return self.URM_csr.copy()\n",
    "    \n",
    "    def fit(self,slim_recommender, URM_csr, ICM_csr, alfa, beta, gamma):\n",
    "        self.beta = beta\n",
    "        self.gamma = gamma\n",
    "        self.slim_recommender = slim_recommender\n",
    "        P3alpha = P3alphaRecommender(URM_csr)\n",
    "        P3alpha.fit()\n",
    "        transformer = TfidfTransformer()\n",
    "        transformer.fit(URM_csr)\n",
    "        tf_idf_csr = transformer.transform(URM_csr)\n",
    "\n",
    "        IRM = sparse.csr_matrix(tf_idf_csr.transpose())\n",
    "        \n",
    "        csr_similarities = sparse.csr_matrix(cosine_similarity(IRM, dense_output=False))\n",
    "        \n",
    "\n",
    "        transformer.fit(ICM_csr)\n",
    "        tf_idf_icm = transformer.transform(ICM_csr)\n",
    "        icm_similarities = sparse.csr_matrix(cosine_similarity(tf_idf_icm, dense_output=False))\n",
    "        \n",
    "        print(\"COMPUTING ENSEMBLE SIMILARITIES\")\n",
    "        self.item_similarities = alfa*csr_similarities + (1-alfa)*icm_similarities\n",
    "        self.item_similarities = gamma*self.item_similarities + (1-gamma) * P3alpha.W_sparse\n",
    "        self.URM_csr = URM_csr\n",
    "        \n",
    "    \n",
    "    def recommend(self, user_id, cutoff=10, remove_seen_flag=True):\n",
    "        \n",
    "        \n",
    "        user = self.URM_csr.getrow(user_id)\n",
    "        itemPopularity = user.dot(self.item_similarities)\n",
    "        slimPopularity = self.slim_recommender.compute_item_score(user_id)\n",
    "        item_popularity = itemPopularity*self.beta + slimPopularity*(1-self.beta)\n",
    "        popularItems = np.argsort(np.array(item_popularity)[0])\n",
    "        popularItems = np.flip(popularItems, axis = 0)\n",
    "\n",
    "        if remove_seen_flag:\n",
    "            unseen_items_mask = np.in1d(popularItems, self.URM_csr[user_id].indices,\n",
    "                                        assume_unique=True, invert = True)\n",
    "\n",
    "            unseen_items = popularItems[unseen_items_mask]\n",
    "            \n",
    "            recommended_items = unseen_items[0:cutoff]\n",
    "\n",
    "        else:\n",
    "            recommended_items = popularItems[0:cutoff]\n",
    "            \n",
    "        #recommended_items = \" \".join(str(i) for i in recommended_items)\n",
    "        return recommended_items\n",
    "    \n",
    "    "
   ]
  },
  {
   "cell_type": "code",
   "execution_count": 9,
   "metadata": {},
   "outputs": [
    {
     "name": "stdout",
     "output_type": "stream",
     "text": [
      "SLIM_BPR_Cython: Estimated memory required for similarity matrix of 20635 items is 1703.21 MB\n"
     ]
    }
   ],
   "source": [
    "recommender = SLIM_BPR_Cython(URM_train,recompile_cython=False,positive_threshold=1) "
   ]
  },
  {
   "cell_type": "code",
   "execution_count": 10,
   "metadata": {},
   "outputs": [
    {
     "name": "stdout",
     "output_type": "stream",
     "text": [
      "Processed 871694 ( 100.00% ) in 3.22 seconds. BPR loss is 5.97E-03. Sample per second: 270355\n",
      "SLIM_BPR_Recommender: Epoch 1 of 150. Elapsed time 0.11 min\n",
      "Processed 871694 ( 100.00% ) in 2.78 seconds. BPR loss is 2.26E-02. Sample per second: 313852\n",
      "SLIM_BPR_Recommender: Epoch 2 of 150. Elapsed time 0.15 min\n",
      "Processed 871694 ( 100.00% ) in 3.33 seconds. BPR loss is 4.22E-02. Sample per second: 261769\n",
      "SLIM_BPR_Recommender: Epoch 3 of 150. Elapsed time 0.19 min\n",
      "Processed 871694 ( 100.00% ) in 2.88 seconds. BPR loss is 6.41E-02. Sample per second: 302890\n",
      "SLIM_BPR_Recommender: Epoch 4 of 150. Elapsed time 0.23 min\n",
      "Processed 871694 ( 100.00% ) in 3.43 seconds. BPR loss is 8.79E-02. Sample per second: 254389\n",
      "SLIM_BPR_Recommender: Epoch 5 of 150. Elapsed time 0.28 min\n",
      "Processed 871694 ( 100.00% ) in 3.01 seconds. BPR loss is 1.15E-01. Sample per second: 289318\n",
      "SLIM_BPR_Recommender: Epoch 6 of 150. Elapsed time 0.32 min\n",
      "Processed 871694 ( 100.00% ) in 2.56 seconds. BPR loss is 1.42E-01. Sample per second: 340816\n",
      "SLIM_BPR_Recommender: Epoch 7 of 150. Elapsed time 0.36 min\n",
      "Processed 871694 ( 100.00% ) in 3.11 seconds. BPR loss is 1.74E-01. Sample per second: 279983\n",
      "SLIM_BPR_Recommender: Epoch 8 of 150. Elapsed time 0.40 min\n",
      "Processed 871694 ( 100.00% ) in 2.65 seconds. BPR loss is 2.07E-01. Sample per second: 328456\n",
      "SLIM_BPR_Recommender: Epoch 9 of 150. Elapsed time 0.45 min\n",
      "Processed 871694 ( 100.00% ) in 3.20 seconds. BPR loss is 2.41E-01. Sample per second: 272331\n",
      "SLIM_BPR_Recommender: Epoch 10 of 150. Elapsed time 0.49 min\n",
      "Processed 871694 ( 100.00% ) in 2.74 seconds. BPR loss is 2.78E-01. Sample per second: 317618\n",
      "SLIM_BPR_Recommender: Epoch 11 of 150. Elapsed time 0.53 min\n",
      "Processed 871694 ( 100.00% ) in 3.29 seconds. BPR loss is 3.16E-01. Sample per second: 264656\n",
      "SLIM_BPR_Recommender: Epoch 12 of 150. Elapsed time 0.57 min\n",
      "Processed 871694 ( 100.00% ) in 2.84 seconds. BPR loss is 3.57E-01. Sample per second: 306721\n",
      "SLIM_BPR_Recommender: Epoch 13 of 150. Elapsed time 0.62 min\n",
      "Processed 871694 ( 100.00% ) in 3.36 seconds. BPR loss is 4.02E-01. Sample per second: 259691\n",
      "SLIM_BPR_Recommender: Epoch 14 of 150. Elapsed time 0.66 min\n",
      "Processed 871694 ( 100.00% ) in 2.87 seconds. BPR loss is 4.48E-01. Sample per second: 303514\n",
      "SLIM_BPR_Recommender: Epoch 15 of 150. Elapsed time 0.70 min\n",
      "Processed 871694 ( 100.00% ) in 3.41 seconds. BPR loss is 4.96E-01. Sample per second: 255459\n",
      "SLIM_BPR_Recommender: Epoch 16 of 150. Elapsed time 0.74 min\n",
      "Processed 871694 ( 100.00% ) in 2.95 seconds. BPR loss is 5.43E-01. Sample per second: 295634\n",
      "SLIM_BPR_Recommender: Epoch 17 of 150. Elapsed time 0.79 min\n",
      "Processed 871694 ( 100.00% ) in 3.53 seconds. BPR loss is 5.88E-01. Sample per second: 246659\n",
      "SLIM_BPR_Recommender: Epoch 18 of 150. Elapsed time 0.83 min\n",
      "Processed 871694 ( 100.00% ) in 3.06 seconds. BPR loss is 6.47E-01. Sample per second: 284523\n",
      "SLIM_BPR_Recommender: Epoch 19 of 150. Elapsed time 0.87 min\n",
      "Processed 871694 ( 100.00% ) in 2.62 seconds. BPR loss is 6.93E-01. Sample per second: 332197\n",
      "SLIM_BPR_Recommender: Epoch 20 of 150. Elapsed time 0.91 min\n",
      "Processed 871694 ( 100.00% ) in 3.16 seconds. BPR loss is 7.50E-01. Sample per second: 275503\n",
      "SLIM_BPR_Recommender: Epoch 21 of 150. Elapsed time 0.96 min\n",
      "Processed 871694 ( 100.00% ) in 2.69 seconds. BPR loss is 8.11E-01. Sample per second: 323605\n",
      "SLIM_BPR_Recommender: Epoch 22 of 150. Elapsed time 1.00 min\n",
      "Processed 871694 ( 100.00% ) in 3.24 seconds. BPR loss is 8.69E-01. Sample per second: 269413\n",
      "SLIM_BPR_Recommender: Epoch 23 of 150. Elapsed time 1.04 min\n",
      "Processed 871694 ( 100.00% ) in 2.77 seconds. BPR loss is 9.25E-01. Sample per second: 314621\n",
      "SLIM_BPR_Recommender: Epoch 24 of 150. Elapsed time 1.08 min\n",
      "Processed 871694 ( 100.00% ) in 3.30 seconds. BPR loss is 9.97E-01. Sample per second: 263841\n",
      "SLIM_BPR_Recommender: Epoch 25 of 150. Elapsed time 1.12 min\n",
      "Processed 871694 ( 100.00% ) in 2.84 seconds. BPR loss is 1.05E+00. Sample per second: 306815\n",
      "SLIM_BPR_Recommender: Epoch 26 of 150. Elapsed time 1.17 min\n",
      "Processed 871694 ( 100.00% ) in 3.36 seconds. BPR loss is 1.12E+00. Sample per second: 259300\n",
      "SLIM_BPR_Recommender: Epoch 27 of 150. Elapsed time 1.21 min\n",
      "Processed 871694 ( 100.00% ) in 2.89 seconds. BPR loss is 1.18E+00. Sample per second: 301624\n",
      "SLIM_BPR_Recommender: Epoch 28 of 150. Elapsed time 1.25 min\n",
      "Processed 871694 ( 100.00% ) in 3.43 seconds. BPR loss is 1.26E+00. Sample per second: 254395\n",
      "SLIM_BPR_Recommender: Epoch 29 of 150. Elapsed time 1.29 min\n",
      "Processed 871694 ( 100.00% ) in 2.95 seconds. BPR loss is 1.33E+00. Sample per second: 295534\n",
      "SLIM_BPR_Recommender: Epoch 30 of 150. Elapsed time 1.34 min\n",
      "Processed 871694 ( 100.00% ) in 3.48 seconds. BPR loss is 1.39E+00. Sample per second: 250182\n",
      "SLIM_BPR_Recommender: Epoch 31 of 150. Elapsed time 1.38 min\n",
      "Processed 871694 ( 100.00% ) in 3.02 seconds. BPR loss is 1.47E+00. Sample per second: 288315\n",
      "SLIM_BPR_Recommender: Epoch 32 of 150. Elapsed time 1.42 min\n",
      "Processed 871694 ( 100.00% ) in 2.55 seconds. BPR loss is 1.54E+00. Sample per second: 342502\n",
      "SLIM_BPR_Recommender: Epoch 33 of 150. Elapsed time 1.46 min\n",
      "Processed 871694 ( 100.00% ) in 3.08 seconds. BPR loss is 1.61E+00. Sample per second: 283164\n",
      "SLIM_BPR_Recommender: Epoch 34 of 150. Elapsed time 1.50 min\n",
      "Processed 871694 ( 100.00% ) in 2.61 seconds. BPR loss is 1.68E+00. Sample per second: 333932\n",
      "SLIM_BPR_Recommender: Epoch 35 of 150. Elapsed time 1.55 min\n",
      "Processed 871694 ( 100.00% ) in 3.15 seconds. BPR loss is 1.77E+00. Sample per second: 276876\n",
      "SLIM_BPR_Recommender: Epoch 36 of 150. Elapsed time 1.59 min\n",
      "Processed 871694 ( 100.00% ) in 2.69 seconds. BPR loss is 1.84E+00. Sample per second: 324135\n",
      "SLIM_BPR_Recommender: Epoch 37 of 150. Elapsed time 1.63 min\n",
      "Processed 871694 ( 100.00% ) in 3.23 seconds. BPR loss is 1.93E+00. Sample per second: 269809\n",
      "SLIM_BPR_Recommender: Epoch 38 of 150. Elapsed time 1.67 min\n",
      "Processed 871694 ( 100.00% ) in 2.78 seconds. BPR loss is 2.01E+00. Sample per second: 313157\n",
      "SLIM_BPR_Recommender: Epoch 39 of 150. Elapsed time 1.72 min\n",
      "Processed 871694 ( 100.00% ) in 3.34 seconds. BPR loss is 2.09E+00. Sample per second: 260761\n",
      "SLIM_BPR_Recommender: Epoch 40 of 150. Elapsed time 1.76 min\n",
      "Processed 871694 ( 100.00% ) in 2.88 seconds. BPR loss is 2.19E+00. Sample per second: 302680\n",
      "SLIM_BPR_Recommender: Epoch 41 of 150. Elapsed time 1.80 min\n",
      "Processed 871694 ( 100.00% ) in 3.42 seconds. BPR loss is 2.26E+00. Sample per second: 255001\n",
      "SLIM_BPR_Recommender: Epoch 42 of 150. Elapsed time 1.84 min\n",
      "Processed 871694 ( 100.00% ) in 2.95 seconds. BPR loss is 2.34E+00. Sample per second: 295559\n",
      "SLIM_BPR_Recommender: Epoch 43 of 150. Elapsed time 1.89 min\n",
      "Processed 871694 ( 100.00% ) in 3.49 seconds. BPR loss is 2.43E+00. Sample per second: 249708\n",
      "SLIM_BPR_Recommender: Epoch 44 of 150. Elapsed time 1.93 min\n",
      "Processed 871694 ( 100.00% ) in 3.03 seconds. BPR loss is 2.52E+00. Sample per second: 287578\n",
      "SLIM_BPR_Recommender: Epoch 45 of 150. Elapsed time 1.97 min\n",
      "Processed 871694 ( 100.00% ) in 2.58 seconds. BPR loss is 2.61E+00. Sample per second: 338034\n",
      "SLIM_BPR_Recommender: Epoch 46 of 150. Elapsed time 2.01 min\n",
      "Processed 871694 ( 100.00% ) in 3.12 seconds. BPR loss is 2.71E+00. Sample per second: 279356\n",
      "SLIM_BPR_Recommender: Epoch 47 of 150. Elapsed time 2.05 min\n",
      "Processed 871694 ( 100.00% ) in 2.66 seconds. BPR loss is 2.79E+00. Sample per second: 327771\n",
      "SLIM_BPR_Recommender: Epoch 48 of 150. Elapsed time 2.10 min\n",
      "Processed 871694 ( 100.00% ) in 3.21 seconds. BPR loss is 2.87E+00. Sample per second: 271582\n",
      "SLIM_BPR_Recommender: Epoch 49 of 150. Elapsed time 2.14 min\n",
      "Processed 871694 ( 100.00% ) in 2.74 seconds. BPR loss is 2.96E+00. Sample per second: 317717\n",
      "SLIM_BPR_Recommender: Epoch 50 of 150. Elapsed time 2.18 min\n",
      "Processed 871694 ( 100.00% ) in 3.28 seconds. BPR loss is 3.05E+00. Sample per second: 265747\n",
      "SLIM_BPR_Recommender: Epoch 51 of 150. Elapsed time 2.22 min\n",
      "Processed 871694 ( 100.00% ) in 2.82 seconds. BPR loss is 3.17E+00. Sample per second: 308733\n",
      "SLIM_BPR_Recommender: Epoch 52 of 150. Elapsed time 2.27 min\n",
      "Processed 871694 ( 100.00% ) in 3.34 seconds. BPR loss is 3.26E+00. Sample per second: 260698\n",
      "SLIM_BPR_Recommender: Epoch 53 of 150. Elapsed time 2.31 min\n",
      "Processed 871694 ( 100.00% ) in 2.88 seconds. BPR loss is 3.36E+00. Sample per second: 302374\n",
      "SLIM_BPR_Recommender: Epoch 54 of 150. Elapsed time 2.35 min\n",
      "Processed 871694 ( 100.00% ) in 3.40 seconds. BPR loss is 3.44E+00. Sample per second: 256144\n",
      "SLIM_BPR_Recommender: Epoch 55 of 150. Elapsed time 2.39 min\n",
      "Processed 871694 ( 100.00% ) in 2.94 seconds. BPR loss is 3.56E+00. Sample per second: 296928\n",
      "SLIM_BPR_Recommender: Epoch 56 of 150. Elapsed time 2.43 min\n",
      "Processed 871694 ( 100.00% ) in 3.48 seconds. BPR loss is 3.68E+00. Sample per second: 250613\n",
      "SLIM_BPR_Recommender: Epoch 57 of 150. Elapsed time 2.48 min\n",
      "Processed 871694 ( 100.00% ) in 3.01 seconds. BPR loss is 3.75E+00. Sample per second: 289323\n",
      "SLIM_BPR_Recommender: Epoch 58 of 150. Elapsed time 2.52 min\n",
      "Processed 871694 ( 100.00% ) in 2.55 seconds. BPR loss is 3.81E+00. Sample per second: 341737\n",
      "SLIM_BPR_Recommender: Epoch 59 of 150. Elapsed time 2.56 min\n",
      "Processed 871694 ( 100.00% ) in 3.09 seconds. BPR loss is 3.97E+00. Sample per second: 281995\n",
      "SLIM_BPR_Recommender: Epoch 60 of 150. Elapsed time 2.60 min\n",
      "Processed 871694 ( 100.00% ) in 2.78 seconds. BPR loss is 4.09E+00. Sample per second: 313702\n",
      "SLIM_BPR_Recommender: Epoch 61 of 150. Elapsed time 2.65 min\n",
      "Processed 871694 ( 100.00% ) in 3.49 seconds. BPR loss is 4.15E+00. Sample per second: 249629\n",
      "SLIM_BPR_Recommender: Epoch 62 of 150. Elapsed time 2.69 min\n",
      "Processed 871694 ( 100.00% ) in 3.36 seconds. BPR loss is 4.26E+00. Sample per second: 259756\n",
      "SLIM_BPR_Recommender: Epoch 63 of 150. Elapsed time 2.74 min\n",
      "Processed 871694 ( 100.00% ) in 2.96 seconds. BPR loss is 4.37E+00. Sample per second: 294974\n",
      "SLIM_BPR_Recommender: Epoch 64 of 150. Elapsed time 2.79 min\n",
      "Processed 871694 ( 100.00% ) in 3.62 seconds. BPR loss is 4.47E+00. Sample per second: 240842\n",
      "SLIM_BPR_Recommender: Epoch 65 of 150. Elapsed time 2.83 min\n",
      "Processed 871694 ( 100.00% ) in 3.23 seconds. BPR loss is 4.61E+00. Sample per second: 269706\n",
      "SLIM_BPR_Recommender: Epoch 66 of 150. Elapsed time 2.87 min\n",
      "Processed 871694 ( 100.00% ) in 2.98 seconds. BPR loss is 4.71E+00. Sample per second: 292211\n",
      "SLIM_BPR_Recommender: Epoch 67 of 150. Elapsed time 2.92 min\n",
      "Processed 871694 ( 100.00% ) in 3.67 seconds. BPR loss is 4.82E+00. Sample per second: 237510\n",
      "SLIM_BPR_Recommender: Epoch 68 of 150. Elapsed time 2.96 min\n",
      "Processed 871694 ( 100.00% ) in 3.31 seconds. BPR loss is 4.92E+00. Sample per second: 263162\n",
      "SLIM_BPR_Recommender: Epoch 69 of 150. Elapsed time 3.01 min\n",
      "Processed 871694 ( 100.00% ) in 3.18 seconds. BPR loss is 5.00E+00. Sample per second: 274371\n",
      "SLIM_BPR_Recommender: Epoch 70 of 150. Elapsed time 3.06 min\n",
      "Processed 871694 ( 100.00% ) in 2.90 seconds. BPR loss is 5.13E+00. Sample per second: 300525\n",
      "SLIM_BPR_Recommender: Epoch 71 of 150. Elapsed time 3.10 min\n",
      "Processed 871694 ( 100.00% ) in 3.78 seconds. BPR loss is 5.21E+00. Sample per second: 230388\n",
      "SLIM_BPR_Recommender: Epoch 72 of 150. Elapsed time 3.15 min\n",
      "Processed 871694 ( 100.00% ) in 3.44 seconds. BPR loss is 5.38E+00. Sample per second: 253739\n",
      "SLIM_BPR_Recommender: Epoch 73 of 150. Elapsed time 3.19 min\n",
      "Processed 871694 ( 100.00% ) in 3.10 seconds. BPR loss is 5.44E+00. Sample per second: 281614\n",
      "SLIM_BPR_Recommender: Epoch 74 of 150. Elapsed time 3.24 min\n",
      "Processed 871694 ( 100.00% ) in 2.77 seconds. BPR loss is 5.59E+00. Sample per second: 314251\n",
      "SLIM_BPR_Recommender: Epoch 75 of 150. Elapsed time 3.28 min\n",
      "Processed 871694 ( 100.00% ) in 3.44 seconds. BPR loss is 5.71E+00. Sample per second: 253311\n",
      "SLIM_BPR_Recommender: Epoch 76 of 150. Elapsed time 3.33 min\n",
      "Processed 871694 ( 100.00% ) in 3.14 seconds. BPR loss is 5.81E+00. Sample per second: 277990\n",
      "SLIM_BPR_Recommender: Epoch 77 of 150. Elapsed time 3.37 min\n",
      "Processed 871694 ( 100.00% ) in 2.83 seconds. BPR loss is 5.95E+00. Sample per second: 308514\n",
      "SLIM_BPR_Recommender: Epoch 78 of 150. Elapsed time 3.42 min\n",
      "Processed 871694 ( 100.00% ) in 3.55 seconds. BPR loss is 6.04E+00. Sample per second: 245368\n",
      "SLIM_BPR_Recommender: Epoch 79 of 150. Elapsed time 3.46 min\n",
      "Processed 871694 ( 100.00% ) in 3.25 seconds. BPR loss is 6.15E+00. Sample per second: 268021\n",
      "SLIM_BPR_Recommender: Epoch 80 of 150. Elapsed time 3.51 min\n",
      "Processed 871694 ( 100.00% ) in 3.16 seconds. BPR loss is 6.29E+00. Sample per second: 275733\n",
      "SLIM_BPR_Recommender: Epoch 81 of 150. Elapsed time 3.56 min\n",
      "Processed 871694 ( 100.00% ) in 3.00 seconds. BPR loss is 6.42E+00. Sample per second: 290706\n",
      "SLIM_BPR_Recommender: Epoch 82 of 150. Elapsed time 3.60 min\n",
      "Processed 871694 ( 100.00% ) in 2.70 seconds. BPR loss is 6.56E+00. Sample per second: 323002\n",
      "SLIM_BPR_Recommender: Epoch 83 of 150. Elapsed time 3.65 min\n",
      "Processed 871694 ( 100.00% ) in 3.39 seconds. BPR loss is 6.67E+00. Sample per second: 257481\n",
      "SLIM_BPR_Recommender: Epoch 84 of 150. Elapsed time 3.69 min\n",
      "Processed 871694 ( 100.00% ) in 3.09 seconds. BPR loss is 6.83E+00. Sample per second: 281774\n",
      "SLIM_BPR_Recommender: Epoch 85 of 150. Elapsed time 3.74 min\n",
      "Processed 871694 ( 100.00% ) in 2.76 seconds. BPR loss is 6.92E+00. Sample per second: 316034\n",
      "SLIM_BPR_Recommender: Epoch 86 of 150. Elapsed time 3.78 min\n",
      "Processed 871694 ( 100.00% ) in 3.40 seconds. BPR loss is 7.01E+00. Sample per second: 256407\n",
      "SLIM_BPR_Recommender: Epoch 87 of 150. Elapsed time 3.83 min\n",
      "Processed 871694 ( 100.00% ) in 3.08 seconds. BPR loss is 7.18E+00. Sample per second: 282657\n",
      "SLIM_BPR_Recommender: Epoch 88 of 150. Elapsed time 3.87 min\n",
      "Processed 871694 ( 100.00% ) in 2.72 seconds. BPR loss is 7.27E+00. Sample per second: 319903\n",
      "SLIM_BPR_Recommender: Epoch 89 of 150. Elapsed time 3.91 min\n",
      "Processed 871694 ( 100.00% ) in 3.32 seconds. BPR loss is 7.42E+00. Sample per second: 262478\n",
      "SLIM_BPR_Recommender: Epoch 90 of 150. Elapsed time 3.96 min\n",
      "Processed 871694 ( 100.00% ) in 2.91 seconds. BPR loss is 7.52E+00. Sample per second: 300009\n",
      "SLIM_BPR_Recommender: Epoch 91 of 150. Elapsed time 4.00 min\n",
      "Processed 871694 ( 100.00% ) in 3.50 seconds. BPR loss is 7.65E+00. Sample per second: 248760\n",
      "SLIM_BPR_Recommender: Epoch 92 of 150. Elapsed time 4.04 min\n",
      "Processed 871694 ( 100.00% ) in 3.09 seconds. BPR loss is 7.78E+00. Sample per second: 281930\n",
      "SLIM_BPR_Recommender: Epoch 93 of 150. Elapsed time 4.09 min\n",
      "Processed 871694 ( 100.00% ) in 2.68 seconds. BPR loss is 7.96E+00. Sample per second: 324739\n",
      "SLIM_BPR_Recommender: Epoch 94 of 150. Elapsed time 4.13 min\n",
      "Processed 871694 ( 100.00% ) in 3.28 seconds. BPR loss is 8.06E+00. Sample per second: 265486\n",
      "SLIM_BPR_Recommender: Epoch 95 of 150. Elapsed time 4.17 min\n",
      "Processed 871694 ( 100.00% ) in 2.89 seconds. BPR loss is 8.12E+00. Sample per second: 302046\n",
      "SLIM_BPR_Recommender: Epoch 96 of 150. Elapsed time 4.22 min\n",
      "Processed 871694 ( 100.00% ) in 3.57 seconds. BPR loss is 8.31E+00. Sample per second: 244089\n",
      "SLIM_BPR_Recommender: Epoch 97 of 150. Elapsed time 4.26 min\n",
      "Processed 871694 ( 100.00% ) in 3.17 seconds. BPR loss is 8.48E+00. Sample per second: 274643\n",
      "SLIM_BPR_Recommender: Epoch 98 of 150. Elapsed time 4.31 min\n",
      "Processed 871694 ( 100.00% ) in 2.77 seconds. BPR loss is 8.58E+00. Sample per second: 314478\n",
      "SLIM_BPR_Recommender: Epoch 99 of 150. Elapsed time 4.35 min\n",
      "Processed 871694 ( 100.00% ) in 3.36 seconds. BPR loss is 8.65E+00. Sample per second: 259257\n",
      "SLIM_BPR_Recommender: Epoch 100 of 150. Elapsed time 4.39 min\n",
      "Processed 871694 ( 100.00% ) in 2.94 seconds. BPR loss is 8.82E+00. Sample per second: 296147\n",
      "SLIM_BPR_Recommender: Epoch 101 of 150. Elapsed time 4.43 min\n",
      "Processed 871694 ( 100.00% ) in 3.51 seconds. BPR loss is 8.99E+00. Sample per second: 248152\n",
      "SLIM_BPR_Recommender: Epoch 102 of 150. Elapsed time 4.48 min\n",
      "Processed 871694 ( 100.00% ) in 3.08 seconds. BPR loss is 9.04E+00. Sample per second: 282648\n",
      "SLIM_BPR_Recommender: Epoch 103 of 150. Elapsed time 4.52 min\n",
      "Processed 871694 ( 100.00% ) in 2.68 seconds. BPR loss is 9.23E+00. Sample per second: 325735\n",
      "SLIM_BPR_Recommender: Epoch 104 of 150. Elapsed time 4.56 min\n",
      "Processed 871694 ( 100.00% ) in 3.25 seconds. BPR loss is 9.42E+00. Sample per second: 268227\n",
      "SLIM_BPR_Recommender: Epoch 105 of 150. Elapsed time 4.61 min\n",
      "Processed 871694 ( 100.00% ) in 2.83 seconds. BPR loss is 9.49E+00. Sample per second: 307554\n",
      "SLIM_BPR_Recommender: Epoch 106 of 150. Elapsed time 4.65 min\n",
      "Processed 871694 ( 100.00% ) in 3.42 seconds. BPR loss is 9.63E+00. Sample per second: 255080\n",
      "SLIM_BPR_Recommender: Epoch 107 of 150. Elapsed time 4.69 min\n",
      "Processed 871694 ( 100.00% ) in 3.01 seconds. BPR loss is 9.81E+00. Sample per second: 289424\n",
      "SLIM_BPR_Recommender: Epoch 108 of 150. Elapsed time 4.74 min\n",
      "Processed 871694 ( 100.00% ) in 2.61 seconds. BPR loss is 9.92E+00. Sample per second: 334165\n",
      "SLIM_BPR_Recommender: Epoch 109 of 150. Elapsed time 4.78 min\n",
      "Processed 871694 ( 100.00% ) in 3.19 seconds. BPR loss is 9.96E+00. Sample per second: 273275\n",
      "SLIM_BPR_Recommender: Epoch 110 of 150. Elapsed time 4.82 min\n",
      "Processed 871694 ( 100.00% ) in 2.81 seconds. BPR loss is 1.02E+01. Sample per second: 310655\n",
      "SLIM_BPR_Recommender: Epoch 111 of 150. Elapsed time 4.87 min\n",
      "Processed 871694 ( 100.00% ) in 3.41 seconds. BPR loss is 1.03E+01. Sample per second: 255523\n",
      "SLIM_BPR_Recommender: Epoch 112 of 150. Elapsed time 4.91 min\n",
      "Processed 871694 ( 100.00% ) in 3.04 seconds. BPR loss is 1.05E+01. Sample per second: 286901\n",
      "SLIM_BPR_Recommender: Epoch 113 of 150. Elapsed time 4.95 min\n",
      "Processed 871694 ( 100.00% ) in 2.63 seconds. BPR loss is 1.06E+01. Sample per second: 330958\n",
      "SLIM_BPR_Recommender: Epoch 114 of 150. Elapsed time 5.00 min\n",
      "Processed 871694 ( 100.00% ) in 3.25 seconds. BPR loss is 1.07E+01. Sample per second: 268403\n",
      "SLIM_BPR_Recommender: Epoch 115 of 150. Elapsed time 5.04 min\n",
      "Processed 871694 ( 100.00% ) in 2.93 seconds. BPR loss is 1.09E+01. Sample per second: 297266\n",
      "SLIM_BPR_Recommender: Epoch 116 of 150. Elapsed time 5.08 min\n",
      "Processed 871694 ( 100.00% ) in 3.54 seconds. BPR loss is 1.11E+01. Sample per second: 245930\n",
      "SLIM_BPR_Recommender: Epoch 117 of 150. Elapsed time 5.13 min\n",
      "Processed 871694 ( 100.00% ) in 3.15 seconds. BPR loss is 1.13E+01. Sample per second: 276899\n",
      "SLIM_BPR_Recommender: Epoch 118 of 150. Elapsed time 5.17 min\n",
      "Processed 871694 ( 100.00% ) in 2.75 seconds. BPR loss is 1.13E+01. Sample per second: 316508\n",
      "SLIM_BPR_Recommender: Epoch 119 of 150. Elapsed time 5.22 min\n",
      "Processed 871694 ( 100.00% ) in 3.36 seconds. BPR loss is 1.14E+01. Sample per second: 259457\n",
      "SLIM_BPR_Recommender: Epoch 120 of 150. Elapsed time 5.26 min\n",
      "Processed 871694 ( 100.00% ) in 2.96 seconds. BPR loss is 1.15E+01. Sample per second: 294143\n",
      "SLIM_BPR_Recommender: Epoch 121 of 150. Elapsed time 5.30 min\n",
      "Processed 871694 ( 100.00% ) in 3.57 seconds. BPR loss is 1.17E+01. Sample per second: 244065\n",
      "SLIM_BPR_Recommender: Epoch 122 of 150. Elapsed time 5.35 min\n",
      "Processed 871694 ( 100.00% ) in 3.18 seconds. BPR loss is 1.19E+01. Sample per second: 273806\n",
      "SLIM_BPR_Recommender: Epoch 123 of 150. Elapsed time 5.39 min\n",
      "Processed 871694 ( 100.00% ) in 2.79 seconds. BPR loss is 1.20E+01. Sample per second: 312565\n",
      "SLIM_BPR_Recommender: Epoch 124 of 150. Elapsed time 5.43 min\n",
      "Processed 871694 ( 100.00% ) in 3.39 seconds. BPR loss is 1.22E+01. Sample per second: 257407\n",
      "SLIM_BPR_Recommender: Epoch 125 of 150. Elapsed time 5.48 min\n",
      "Processed 871694 ( 100.00% ) in 2.97 seconds. BPR loss is 1.23E+01. Sample per second: 293858\n",
      "SLIM_BPR_Recommender: Epoch 126 of 150. Elapsed time 5.52 min\n",
      "Processed 871694 ( 100.00% ) in 3.54 seconds. BPR loss is 1.25E+01. Sample per second: 246420\n",
      "SLIM_BPR_Recommender: Epoch 127 of 150. Elapsed time 5.56 min\n",
      "Processed 871694 ( 100.00% ) in 3.16 seconds. BPR loss is 1.26E+01. Sample per second: 275553\n",
      "SLIM_BPR_Recommender: Epoch 128 of 150. Elapsed time 5.61 min\n",
      "Processed 871694 ( 100.00% ) in 2.78 seconds. BPR loss is 1.28E+01. Sample per second: 313694\n",
      "SLIM_BPR_Recommender: Epoch 129 of 150. Elapsed time 5.65 min\n",
      "Processed 871694 ( 100.00% ) in 3.37 seconds. BPR loss is 1.29E+01. Sample per second: 258604\n",
      "SLIM_BPR_Recommender: Epoch 130 of 150. Elapsed time 5.69 min\n",
      "Processed 871694 ( 100.00% ) in 2.99 seconds. BPR loss is 1.31E+01. Sample per second: 291916\n",
      "SLIM_BPR_Recommender: Epoch 131 of 150. Elapsed time 5.74 min\n",
      "Processed 871694 ( 100.00% ) in 3.66 seconds. BPR loss is 1.32E+01. Sample per second: 238426\n",
      "SLIM_BPR_Recommender: Epoch 132 of 150. Elapsed time 5.78 min\n",
      "Processed 871694 ( 100.00% ) in 3.29 seconds. BPR loss is 1.34E+01. Sample per second: 264955\n",
      "SLIM_BPR_Recommender: Epoch 133 of 150. Elapsed time 5.82 min\n",
      "Processed 871694 ( 100.00% ) in 2.91 seconds. BPR loss is 1.35E+01. Sample per second: 299074\n",
      "SLIM_BPR_Recommender: Epoch 134 of 150. Elapsed time 5.87 min\n",
      "Processed 871694 ( 100.00% ) in 3.54 seconds. BPR loss is 1.37E+01. Sample per second: 245979\n",
      "SLIM_BPR_Recommender: Epoch 135 of 150. Elapsed time 5.91 min\n",
      "Processed 871694 ( 100.00% ) in 3.29 seconds. BPR loss is 1.38E+01. Sample per second: 265033\n",
      "SLIM_BPR_Recommender: Epoch 136 of 150. Elapsed time 5.96 min\n",
      "Processed 871694 ( 100.00% ) in 3.05 seconds. BPR loss is 1.40E+01. Sample per second: 285389\n",
      "SLIM_BPR_Recommender: Epoch 137 of 150. Elapsed time 6.00 min\n",
      "Processed 871694 ( 100.00% ) in 2.73 seconds. BPR loss is 1.42E+01. Sample per second: 318753\n",
      "SLIM_BPR_Recommender: Epoch 138 of 150. Elapsed time 6.05 min\n",
      "Processed 871694 ( 100.00% ) in 3.51 seconds. BPR loss is 1.42E+01. Sample per second: 248070\n",
      "SLIM_BPR_Recommender: Epoch 139 of 150. Elapsed time 6.09 min\n",
      "Processed 871694 ( 100.00% ) in 3.41 seconds. BPR loss is 1.45E+01. Sample per second: 255452\n",
      "SLIM_BPR_Recommender: Epoch 140 of 150. Elapsed time 6.14 min\n",
      "Processed 871694 ( 100.00% ) in 3.40 seconds. BPR loss is 1.45E+01. Sample per second: 256230\n",
      "SLIM_BPR_Recommender: Epoch 141 of 150. Elapsed time 6.19 min\n",
      "Processed 871694 ( 100.00% ) in 3.15 seconds. BPR loss is 1.47E+01. Sample per second: 276348\n",
      "SLIM_BPR_Recommender: Epoch 142 of 150. Elapsed time 6.24 min\n",
      "Processed 871694 ( 100.00% ) in 2.83 seconds. BPR loss is 1.49E+01. Sample per second: 307915\n",
      "SLIM_BPR_Recommender: Epoch 143 of 150. Elapsed time 6.28 min\n",
      "Processed 871694 ( 100.00% ) in 3.53 seconds. BPR loss is 1.50E+01. Sample per second: 247196\n",
      "SLIM_BPR_Recommender: Epoch 144 of 150. Elapsed time 6.33 min\n",
      "Processed 871694 ( 100.00% ) in 3.26 seconds. BPR loss is 1.52E+01. Sample per second: 267576\n",
      "SLIM_BPR_Recommender: Epoch 145 of 150. Elapsed time 6.37 min\n",
      "Processed 871694 ( 100.00% ) in 3.12 seconds. BPR loss is 1.53E+01. Sample per second: 279034\n",
      "SLIM_BPR_Recommender: Epoch 146 of 150. Elapsed time 6.42 min\n",
      "Processed 871694 ( 100.00% ) in 2.98 seconds. BPR loss is 1.55E+01. Sample per second: 292498\n",
      "SLIM_BPR_Recommender: Epoch 147 of 150. Elapsed time 6.47 min\n",
      "Processed 871694 ( 100.00% ) in 3.85 seconds. BPR loss is 1.57E+01. Sample per second: 226428\n",
      "SLIM_BPR_Recommender: Epoch 148 of 150. Elapsed time 6.52 min\n",
      "Processed 871694 ( 100.00% ) in 3.67 seconds. BPR loss is 1.59E+01. Sample per second: 237325\n",
      "SLIM_BPR_Recommender: Epoch 149 of 150. Elapsed time 6.56 min\n",
      "Processed 871694 ( 100.00% ) in 3.33 seconds. BPR loss is 1.60E+01. Sample per second: 261512\n",
      "SLIM_BPR_Recommender: Epoch 150 of 150. Elapsed time 6.61 min\n"
     ]
    }
   ],
   "source": [
    "recommender.fit(epochs=150, batch_size=5,sgd_mode='adam',learning_rate=1e-4,topK=80)"
   ]
  },
  {
   "cell_type": "code",
   "execution_count": 15,
   "metadata": {},
   "outputs": [],
   "source": [
    "from utils import evaluate_algorithm"
   ]
  },
  {
   "cell_type": "code",
   "execution_count": 21,
   "metadata": {},
   "outputs": [
    {
     "name": "stdout",
     "output_type": "stream",
     "text": [
      "testing gamma =  0\n",
      "COMPUTING ENSEMBLE SIMILARITIES\n"
     ]
    },
    {
     "ename": "TypeError",
     "evalue": "recommend() got an unexpected keyword argument 'remove_top_pop_flag'",
     "output_type": "error",
     "traceback": [
      "\u001b[0;31m---------------------------------------------------------------------------\u001b[0m",
      "\u001b[0;31mTypeError\u001b[0m                                 Traceback (most recent call last)",
      "\u001b[0;32m<ipython-input-21-6c3ddace697a>\u001b[0m in \u001b[0;36m<module>\u001b[0;34m\u001b[0m\n\u001b[1;32m      7\u001b[0m     \u001b[0mgc\u001b[0m\u001b[0;34m.\u001b[0m\u001b[0mcollect\u001b[0m\u001b[0;34m(\u001b[0m\u001b[0;34m)\u001b[0m\u001b[0;34m\u001b[0m\u001b[0m\n\u001b[1;32m      8\u001b[0m     \u001b[0mevaluator\u001b[0m \u001b[0;34m=\u001b[0m \u001b[0mSequentialEvaluator\u001b[0m\u001b[0;34m(\u001b[0m\u001b[0mURM_test\u001b[0m\u001b[0;34m,\u001b[0m\u001b[0mcutoff_list\u001b[0m\u001b[0;34m=\u001b[0m\u001b[0;34m[\u001b[0m\u001b[0;36m10\u001b[0m\u001b[0;34m]\u001b[0m\u001b[0;34m)\u001b[0m\u001b[0;34m\u001b[0m\u001b[0m\n\u001b[0;32m----> 9\u001b[0;31m     \u001b[0mdatas\u001b[0m\u001b[0;34m,\u001b[0m\u001b[0m_\u001b[0m \u001b[0;34m=\u001b[0m \u001b[0mevaluator\u001b[0m\u001b[0;34m.\u001b[0m\u001b[0mevaluateRecommender\u001b[0m\u001b[0;34m(\u001b[0m\u001b[0mensemble_recommender\u001b[0m\u001b[0;34m)\u001b[0m\u001b[0;34m\u001b[0m\u001b[0m\n\u001b[0m\u001b[1;32m     10\u001b[0m     \u001b[0mMAP\u001b[0m \u001b[0;34m=\u001b[0m \u001b[0mdatas\u001b[0m\u001b[0;34m[\u001b[0m\u001b[0;36m10\u001b[0m\u001b[0;34m]\u001b[0m\u001b[0;34m[\u001b[0m\u001b[0;34m'MAP'\u001b[0m\u001b[0;34m]\u001b[0m\u001b[0;34m\u001b[0m\u001b[0m\n\u001b[1;32m     11\u001b[0m     \u001b[0mMAPS\u001b[0m\u001b[0;34m.\u001b[0m\u001b[0mappend\u001b[0m\u001b[0;34m(\u001b[0m\u001b[0;34m[\u001b[0m\u001b[0mgamma\u001b[0m\u001b[0;34m,\u001b[0m\u001b[0mMAP\u001b[0m\u001b[0;34m]\u001b[0m\u001b[0;34m)\u001b[0m\u001b[0;34m\u001b[0m\u001b[0m\n",
      "\u001b[0;32m~/Documents/recsys/Notebooks/Base/Evaluation/Evaluator.py\u001b[0m in \u001b[0;36mevaluateRecommender\u001b[0;34m(self, recommender_object)\u001b[0m\n\u001b[1;32m    435\u001b[0m \u001b[0;34m\u001b[0m\u001b[0m\n\u001b[1;32m    436\u001b[0m \u001b[0;34m\u001b[0m\u001b[0m\n\u001b[0;32m--> 437\u001b[0;31m         \u001b[0mresults_dict\u001b[0m\u001b[0;34m,\u001b[0m \u001b[0mn_users_evaluated\u001b[0m \u001b[0;34m=\u001b[0m \u001b[0mself\u001b[0m\u001b[0;34m.\u001b[0m\u001b[0m_run_evaluation_on_selected_users\u001b[0m\u001b[0;34m(\u001b[0m\u001b[0mrecommender_object\u001b[0m\u001b[0;34m,\u001b[0m \u001b[0mself\u001b[0m\u001b[0;34m.\u001b[0m\u001b[0musersToEvaluate\u001b[0m\u001b[0;34m)\u001b[0m\u001b[0;34m\u001b[0m\u001b[0m\n\u001b[0m\u001b[1;32m    438\u001b[0m \u001b[0;34m\u001b[0m\u001b[0m\n\u001b[1;32m    439\u001b[0m \u001b[0;34m\u001b[0m\u001b[0m\n",
      "\u001b[0;32m~/Documents/recsys/Notebooks/Base/Evaluation/Evaluator.py\u001b[0m in \u001b[0;36m_run_evaluation_on_selected_users\u001b[0;34m(self, recommender_object, usersToEvaluate, block_size)\u001b[0m\n\u001b[1;32m    357\u001b[0m                                                                   \u001b[0mcutoff\u001b[0m \u001b[0;34m=\u001b[0m \u001b[0mself\u001b[0m\u001b[0;34m.\u001b[0m\u001b[0mmax_cutoff\u001b[0m\u001b[0;34m,\u001b[0m\u001b[0;34m\u001b[0m\u001b[0m\n\u001b[1;32m    358\u001b[0m                                                                   \u001b[0mremove_top_pop_flag\u001b[0m\u001b[0;34m=\u001b[0m\u001b[0;32mFalse\u001b[0m\u001b[0;34m,\u001b[0m\u001b[0;34m\u001b[0m\u001b[0m\n\u001b[0;32m--> 359\u001b[0;31m                                                                   remove_CustomItems_flag=self.ignore_items_flag)\n\u001b[0m\u001b[1;32m    360\u001b[0m \u001b[0;34m\u001b[0m\u001b[0m\n\u001b[1;32m    361\u001b[0m \u001b[0;34m\u001b[0m\u001b[0m\n",
      "\u001b[0;31mTypeError\u001b[0m: recommend() got an unexpected keyword argument 'remove_top_pop_flag'"
     ]
    }
   ],
   "source": [
    "gammas = [0,0.1,0.2,0.3,0.4,0.5,0.6,0.7,0.8,0.9,1]\n",
    "MAPS = []\n",
    "for gamma in gammas:\n",
    "    print(\"testing gamma = \", gamma)\n",
    "    ensemble_recommender = EnsembleRecommender()\n",
    "    ensemble_recommender.fit(recommender,URM_train,icm_csr,alfa = 0.8,beta = 0.9,gamma = gamma)\n",
    "    gc.collect()\n",
    "    evaluator = SequentialEvaluator(URM_test,cutoff_list=[10])\n",
    "    datas,_ = evaluator.evaluateRecommender(ensemble_recommender)\n",
    "    MAP = datas[10]['MAP']\n",
    "    MAPS.append([gamma,MAP])\n",
    "    gc.collect()"
   ]
  },
  {
   "cell_type": "code",
   "execution_count": 19,
   "metadata": {},
   "outputs": [
    {
     "data": {
      "text/plain": [
       "[[0, 0.082204689442336928],\n",
       " [0.1, 0.082204689442336928],\n",
       " [0.2, 0.082204689442336928],\n",
       " [0.3, 0.082204689442336928],\n",
       " [0.4, 0.082204689442336928],\n",
       " [0.5, 0.082204689442336928],\n",
       " [0.6, 0.082204689442336928],\n",
       " [0.7, 0.082204689442336928],\n",
       " [0.8, 0.082204689442336928],\n",
       " [0.9, 0.082204689442336928],\n",
       " [1, 0.082204689442336928]]"
      ]
     },
     "execution_count": 19,
     "metadata": {},
     "output_type": "execute_result"
    }
   ],
   "source": [
    "from operator import itemgetter\n",
    "sorted(MAPS, key = itemgetter(1))"
   ]
  },
  {
   "cell_type": "code",
   "execution_count": null,
   "metadata": {},
   "outputs": [],
   "source": [
    "target = target.get_values()[:,0]"
   ]
  },
  {
   "cell_type": "code",
   "execution_count": null,
   "metadata": {},
   "outputs": [],
   "source": [
    "n = 500\n",
    "  \n",
    "# using list comprehension \n",
    "divided_target = [target[i * n:(i + 1) * n] for i in range((len(target) + n - 1) // n )]  "
   ]
  },
  {
   "cell_type": "code",
   "execution_count": null,
   "metadata": {},
   "outputs": [],
   "source": [
    "result = []\n",
    "for items in target:\n",
    "    partial_recomendations = ensemble_recommender.recommend(items,cutoff=10)\n",
    "    result.append(partial_recomendations)"
   ]
  },
  {
   "cell_type": "code",
   "execution_count": null,
   "metadata": {},
   "outputs": [],
   "source": [
    "result = np.array(result)"
   ]
  },
  {
   "cell_type": "code",
   "execution_count": null,
   "metadata": {},
   "outputs": [],
   "source": [
    "result = result.reshape(-1,10)"
   ]
  },
  {
   "cell_type": "code",
   "execution_count": null,
   "metadata": {},
   "outputs": [],
   "source": [
    "i = 0\n",
    "results = []\n",
    "for item in result:\n",
    "    recommended_items = \" \".join(str(i) for i in item)\n",
    "    temp = [target[i],recommended_items]\n",
    "    results.append(temp)\n",
    "    i += 1"
   ]
  },
  {
   "cell_type": "code",
   "execution_count": null,
   "metadata": {},
   "outputs": [],
   "source": [
    "rec = pd.DataFrame(results)\n",
    "rec.to_csv(\"submission_ensemble.csv\", index = False, header = [\"playlist_id\", \"track_ids\"])"
   ]
  },
  {
   "cell_type": "code",
   "execution_count": null,
   "metadata": {},
   "outputs": [],
   "source": []
  },
  {
   "cell_type": "code",
   "execution_count": null,
   "metadata": {},
   "outputs": [],
   "source": []
  },
  {
   "cell_type": "code",
   "execution_count": null,
   "metadata": {},
   "outputs": [],
   "source": []
  }
 ],
 "metadata": {
  "kernelspec": {
   "display_name": "Python 3",
   "language": "python",
   "name": "python3"
  },
  "language_info": {
   "codemirror_mode": {
    "name": "ipython",
    "version": 3
   },
   "file_extension": ".py",
   "mimetype": "text/x-python",
   "name": "python",
   "nbconvert_exporter": "python",
   "pygments_lexer": "ipython3",
   "version": "3.6.6"
  }
 },
 "nbformat": 4,
 "nbformat_minor": 2
}

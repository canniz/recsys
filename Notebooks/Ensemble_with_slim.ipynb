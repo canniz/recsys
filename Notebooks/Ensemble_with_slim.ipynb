{
 "cells": [
  {
   "cell_type": "code",
   "execution_count": null,
   "metadata": {},
   "outputs": [],
   "source": [
    "from SLIM_BPR.Cython.SLIM_BPR_Cython import SLIM_BPR_Cython\n",
    "import numpy as np\n",
    "import pandas as pd\n",
    "import matplotlib.pyplot as plt\n",
    "from scipy import sparse\n",
    "import random\n",
    "from sklearn.metrics.pairwise import cosine_similarity\n",
    "from sklearn.feature_extraction.text import TfidfTransformer\n",
    "import gc\n",
    "import utils\n",
    "\n",
    "\n",
    "TEST_SET_THRESHOLD = 10\n",
    "TEST_SET_HOLDOUT = 0.2\n",
    "BEST_ALFA = 0.8\n",
    "BEST_BETA = 0.9\n",
    "BEST_BATCH = 10\n",
    "BEST_K = 50"
   ]
  },
  {
   "cell_type": "code",
   "execution_count": null,
   "metadata": {},
   "outputs": [],
   "source": [
    "tracks = pd.read_csv('../input/tracks.csv')\n",
    "train = pd.read_csv('../input/train.csv')\n",
    "target = pd.read_csv('../input/target_playlists.csv')"
   ]
  },
  {
   "cell_type": "code",
   "execution_count": null,
   "metadata": {},
   "outputs": [],
   "source": [
    "icm_csr = utils.build_icm_csr(tracks)\n",
    "urm_csr = utils.build_urm_csr(train)"
   ]
  },
  {
   "cell_type": "code",
   "execution_count": null,
   "metadata": {},
   "outputs": [],
   "source": [
    "from Notebooks_utils.data_splitter import train_test_holdout\n",
    "\n",
    "URM_train, URM_test = train_test_holdout(urm_csr, train_perc = 0.8)\n",
    "URM_train, URM_validation = train_test_holdout(URM_train, train_perc = 0.9)"
   ]
  },
  {
   "cell_type": "code",
   "execution_count": null,
   "metadata": {},
   "outputs": [],
   "source": [
    "class EnsembleRecommender(object):\n",
    "    \n",
    "    def get_URM_train(self):\n",
    "        return self.URM_csr.copy()\n",
    "    \n",
    "    def fit(self,slim_recommender, URM_csr, ICM_csr, alfa, beta):\n",
    "        self.beta = beta\n",
    "        self.slim_recommender = slim_recommender\n",
    "        transformer = TfidfTransformer()\n",
    "        transformer.fit(URM_csr)\n",
    "        tf_idf_csr = transformer.transform(URM_csr)\n",
    "\n",
    "        IRM = sparse.csr_matrix(tf_idf_csr.transpose())\n",
    "        \n",
    "        csr_similarities = sparse.csr_matrix(cosine_similarity(IRM, dense_output=False))\n",
    "        \n",
    "\n",
    "        transformer.fit(ICM_csr)\n",
    "        tf_idf_icm = transformer.transform(ICM_csr)\n",
    "        icm_similarities = sparse.csr_matrix(cosine_similarity(tf_idf_icm, dense_output=False))\n",
    "        \n",
    "        print(\"COMPUTING ENSEMBLE SIMILARITIES\")\n",
    "        self.item_similarities = alfa*csr_similarities + (1-alfa)*icm_similarities        \n",
    "        self.URM_csr = URM_csr\n",
    "        \n",
    "    \n",
    "    def recommend(self, user_id, cutoff=10, remove_seen_flag=True):\n",
    "        \n",
    "        \n",
    "        user = self.URM_csr.getrow(user_id)\n",
    "        itemPopularity = user.dot(self.item_similarities)\n",
    "        slimPopularity = self.slim_recommender.compute_item_score(user_id)\n",
    "        item_popularity = itemPopularity*self.beta + slimPopularity*(1-self.beta)\n",
    "        popularItems = np.argsort(np.array(item_popularity)[0])\n",
    "        popularItems = np.flip(popularItems, axis = 0)\n",
    "\n",
    "        if remove_seen_flag:\n",
    "            unseen_items_mask = np.in1d(popularItems, self.URM_csr[user_id].indices,\n",
    "                                        assume_unique=True, invert = True)\n",
    "\n",
    "            unseen_items = popularItems[unseen_items_mask]\n",
    "            \n",
    "            recommended_items = unseen_items[0:cutoff]\n",
    "\n",
    "        else:\n",
    "            recommended_items = popularItems[0:cutoff]\n",
    "            \n",
    "        #recommended_items = \" \".join(str(i) for i in recommended_items)\n",
    "        return recommended_items\n",
    "    \n",
    "    "
   ]
  },
  {
   "cell_type": "code",
   "execution_count": null,
   "metadata": {},
   "outputs": [],
   "source": [
    "recommender = SLIM_BPR_Cython(URM_train,recompile_cython=False,positive_threshold=1) "
   ]
  },
  {
   "cell_type": "code",
   "execution_count": null,
   "metadata": {},
   "outputs": [],
   "source": [
    "recommender.fit(epochs=150, batch_size=5,sgd_mode='adam',learning_rate=1e-4,topK=80)"
   ]
  },
  {
   "cell_type": "code",
   "execution_count": null,
   "metadata": {},
   "outputs": [],
   "source": [
    "ensemble_recommender = EnsembleRecommender()\n",
    "ensemble_recommender.fit(recommender,urm_csr,icm_csr,alfa = 0.8,beta = 0.9)"
   ]
  },
  {
   "cell_type": "code",
   "execution_count": null,
   "metadata": {},
   "outputs": [],
   "source": [
    "target = target.get_values()[:,0]"
   ]
  },
  {
   "cell_type": "code",
   "execution_count": null,
   "metadata": {},
   "outputs": [],
   "source": [
    "n = 500\n",
    "  \n",
    "# using list comprehension \n",
    "divided_target = [target[i * n:(i + 1) * n] for i in range((len(target) + n - 1) // n )]  "
   ]
  },
  {
   "cell_type": "code",
   "execution_count": null,
   "metadata": {},
   "outputs": [],
   "source": [
    "result = []\n",
    "for items in target:\n",
    "    partial_recomendations = ensemble_recommender.recommend(items,cutoff=10)\n",
    "    result.append(partial_recomendations)"
   ]
  },
  {
   "cell_type": "code",
   "execution_count": null,
   "metadata": {},
   "outputs": [],
   "source": [
    "result = np.array(result)"
   ]
  },
  {
   "cell_type": "code",
   "execution_count": null,
   "metadata": {},
   "outputs": [],
   "source": [
    "result = result.reshape(-1,10)"
   ]
  },
  {
   "cell_type": "code",
   "execution_count": null,
   "metadata": {},
   "outputs": [],
   "source": [
    "i = 0\n",
    "results = []\n",
    "for item in result:\n",
    "    recommended_items = \" \".join(str(i) for i in item)\n",
    "    temp = [target[i],recommended_items]\n",
    "    results.append(temp)\n",
    "    i += 1"
   ]
  },
  {
   "cell_type": "code",
   "execution_count": null,
   "metadata": {},
   "outputs": [],
   "source": [
    "rec = pd.DataFrame(results)\n",
    "rec.to_csv(\"submission_ensemble.csv\", index = False, header = [\"playlist_id\", \"track_ids\"])"
   ]
  },
  {
   "cell_type": "code",
   "execution_count": null,
   "metadata": {},
   "outputs": [],
   "source": []
  },
  {
   "cell_type": "code",
   "execution_count": null,
   "metadata": {},
   "outputs": [],
   "source": []
  },
  {
   "cell_type": "code",
   "execution_count": null,
   "metadata": {},
   "outputs": [],
   "source": []
  }
 ],
 "metadata": {
  "kernelspec": {
   "display_name": "Python 3",
   "language": "python",
   "name": "python3"
  },
  "language_info": {
   "codemirror_mode": {
    "name": "ipython",
    "version": 3
   },
   "file_extension": ".py",
   "mimetype": "text/x-python",
   "name": "python",
   "nbconvert_exporter": "python",
   "pygments_lexer": "ipython3",
   "version": "3.6.6"
  }
 },
 "nbformat": 4,
 "nbformat_minor": 2
}

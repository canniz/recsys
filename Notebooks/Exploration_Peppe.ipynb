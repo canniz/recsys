{
 "cells": [
  {
   "cell_type": "code",
   "execution_count": 13,
   "metadata": {
    "collapsed": true
   },
   "outputs": [],
   "source": [
    "import numpy as np\n",
    "import pandas as pd\n",
    "import matplotlib.pyplot as plt\n",
    "from scipy import sparse"
   ]
  },
  {
   "cell_type": "code",
   "execution_count": 2,
   "metadata": {
    "collapsed": true
   },
   "outputs": [],
   "source": [
    "data = np.genfromtxt('../input/tracks.csv' , delimiter=',',dtype=int)[1:]"
   ]
  },
  {
   "cell_type": "code",
   "execution_count": 44,
   "metadata": {},
   "outputs": [],
   "source": [
    "albums_id = data[:,1]\n",
    "artists_id = data[:,2]\n",
    "durations = data[:,3]\n",
    "tracks = data[:,0]"
   ]
  },
  {
   "cell_type": "code",
   "execution_count": 40,
   "metadata": {},
   "outputs": [],
   "source": [
    "albums_max = np.amax(albums_id)\n",
    "artists_max = np.amax(artists_id)\n",
    "durations_max = np.amax(durations)\n",
    "number_of_songs = data.shape[0]"
   ]
  },
  {
   "cell_type": "code",
   "execution_count": 41,
   "metadata": {},
   "outputs": [],
   "source": [
    "binary_matrix = sparse.lil_matrix((number_of_songs, albums_max + artists_max + durations_max + 3))"
   ]
  },
  {
   "cell_type": "code",
   "execution_count": 45,
   "metadata": {},
   "outputs": [],
   "source": [
    "binary_matrix[tracks,albums_id] = 1\n",
    "binary_matrix[tracks, albums_max + artists_id] = 1\n",
    "binary_matrix[tracks, albums_max + artists_max + durations] = 1"
   ]
  },
  {
   "cell_type": "code",
   "execution_count": 46,
   "metadata": {},
   "outputs": [
    {
     "data": {
      "text/plain": [
       "<20635x21527 sparse matrix of type '<class 'numpy.float64'>'\n",
       "\twith 61905 stored elements in LInked List format>"
      ]
     },
     "execution_count": 46,
     "metadata": {},
     "output_type": "execute_result"
    }
   ],
   "source": [
    "binary_matrix"
   ]
  },
  {
   "cell_type": "code",
   "execution_count": 28,
   "metadata": {},
   "outputs": [
    {
     "name": "stdout",
     "output_type": "stream",
     "text": [
      "[[    0  6306   449     0]\n",
      " [    1 12085  4903     0]\n",
      " [    2  1885  6358     6]\n",
      " ...\n",
      " [20632  8202  6200  1499]\n",
      " [20633  4789  3720  1595]\n",
      " [20634 12529    56  2114]]\n"
     ]
    }
   ],
   "source": [
    "csr_matrix = sparse.csr_matrix(data)\n",
    "print(csr_matrix.toarray())"
   ]
  },
  {
   "cell_type": "code",
   "execution_count": null,
   "metadata": {
    "collapsed": true
   },
   "outputs": [],
   "source": []
  }
 ],
 "metadata": {
  "kernelspec": {
   "display_name": "Python 3",
   "language": "python",
   "name": "python3"
  },
  "language_info": {
   "codemirror_mode": {
    "name": "ipython",
    "version": 3
   },
   "file_extension": ".py",
   "mimetype": "text/x-python",
   "name": "python",
   "nbconvert_exporter": "python",
   "pygments_lexer": "ipython3",
   "version": "3.6.3"
  }
 },
 "nbformat": 4,
 "nbformat_minor": 2
}

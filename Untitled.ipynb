{
 "cells": [
  {
   "cell_type": "code",
   "execution_count": 5,
   "metadata": {
    "collapsed": true
   },
   "outputs": [],
   "source": [
    "import numpy as np\n",
    "import pandas as pd"
   ]
  },
  {
   "cell_type": "code",
   "execution_count": 13,
   "metadata": {
    "collapsed": true
   },
   "outputs": [],
   "source": [
    "class TopPopRecommender(object):\n",
    "    def fit(self, train_csv_name):\n",
    "        #Reading CSV with specified name\n",
    "        self.train_data = pd.read_csv(train_csv_name)\n",
    "        \n",
    "        #Extracting the tracks included in playlists\n",
    "        self.tracks = self.train_data[\"track_id\"]\n",
    "        \n",
    "        #Computing the occurrencies of each track and extracting the 10 most frequent tracks\n",
    "        self.pops = self.tracks.value_counts()[:9]\n",
    "        \n",
    "        #Sorting the result and transforming it into a string to use for the recommendation\n",
    "        self.top_pop = self.pops.keys().tolist()\n",
    "        self.top_pop.sort()\n",
    "        self.top_pop = \" \".join(str(i) for i in self.top_pop)\n",
    "\n",
    "        \n",
    "    def recommend(self, target_csv_name):\n",
    "        #Using a dictionary to extract only the values of the target playlists\n",
    "        self.test = pd.read_csv(target_csv_name).to_dict()[\"playlist_id\"].values()\n",
    "        \n",
    "        #Creating the result vector and appending all the recommendations\n",
    "        self.result = []\n",
    "        for item in self.test:\n",
    "            temp = [item, self.top_pop]\n",
    "            self.result.append(temp)\n",
    "            \n",
    "        #Using pd.DataFrame to export the result in csv\n",
    "        return pd.DataFrame(self.result)"
   ]
  },
  {
   "cell_type": "code",
   "execution_count": 17,
   "metadata": {
    "collapsed": true
   },
   "outputs": [],
   "source": [
    "top_recommender = TopPopRecommender()\n",
    "top_recommender.fit(\"train.csv\")\n",
    "recommendation = top_recommender.recommend(\"target_playlists.csv\")\n",
    "recommendation.to_csv(\"sample_submission.csv\", index = False, header = [\"playlist_id\", \"track_ids\"])"
   ]
  },
  {
   "cell_type": "code",
   "execution_count": null,
   "metadata": {
    "collapsed": true
   },
   "outputs": [],
   "source": []
  }
 ],
 "metadata": {
  "kernelspec": {
   "display_name": "Python 3",
   "language": "python",
   "name": "python3"
  },
  "language_info": {
   "codemirror_mode": {
    "name": "ipython",
    "version": 3
   },
   "file_extension": ".py",
   "mimetype": "text/x-python",
   "name": "python",
   "nbconvert_exporter": "python",
   "pygments_lexer": "ipython3",
   "version": "3.6.3"
  }
 },
 "nbformat": 4,
 "nbformat_minor": 2
}
